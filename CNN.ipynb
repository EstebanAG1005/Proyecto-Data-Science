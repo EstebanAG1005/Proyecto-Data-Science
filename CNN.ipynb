{
 "cells": [
  {
   "cell_type": "code",
   "execution_count": 2,
   "metadata": {},
   "outputs": [],
   "source": [
    "import numpy as np\n",
    "import pandas as pd\n",
    "import pickle\n",
    "from sklearn.model_selection import train_test_split\n",
    "import tensorflow as tf\n",
    "from tensorflow.keras.models import Sequential\n",
    "from tensorflow.keras.layers import Conv2D, MaxPooling2D, Flatten, Dense, Dropout"
   ]
  },
  {
   "cell_type": "code",
   "execution_count": 3,
   "metadata": {},
   "outputs": [],
   "source": [
    "# Cargando los datos\n",
    "with open('./X.pkl','rb') as f:\n",
    "    X = pickle.load(f)"
   ]
  },
  {
   "cell_type": "code",
   "execution_count": 4,
   "metadata": {},
   "outputs": [],
   "source": [
    "train_split = pd.read_csv('./train_split.csv')"
   ]
  },
  {
   "cell_type": "code",
   "execution_count": 5,
   "metadata": {},
   "outputs": [],
   "source": [
    "# Preparando las etiquetas\n",
    "y = pd.get_dummies(train_split['class'])"
   ]
  },
  {
   "cell_type": "code",
   "execution_count": 6,
   "metadata": {},
   "outputs": [],
   "source": [
    "# Dividir los datos en conjuntos de entrenamiento y prueba\n",
    "X_train, X_test, y_train, y_test = train_test_split(X, y, random_state=42, test_size=0.2, stratify=y)"
   ]
  },
  {
   "cell_type": "code",
   "execution_count": 7,
   "metadata": {},
   "outputs": [],
   "source": [
    "# Definir la arquitectura de la CNN\n",
    "model = Sequential()\n",
    "\n",
    "model.add(Conv2D(32, (3, 3), activation='relu', input_shape=X_train[0].shape))\n",
    "model.add(MaxPooling2D((2, 2)))\n",
    "\n",
    "model.add(Conv2D(64, (3, 3), activation='relu'))\n",
    "model.add(MaxPooling2D((2, 2)))\n",
    "\n",
    "model.add(Conv2D(128, (3, 3), activation='relu'))\n",
    "model.add(MaxPooling2D((2, 2)))\n",
    "\n",
    "model.add(Flatten())\n",
    "\n",
    "model.add(Dense(512, activation='relu'))\n",
    "model.add(Dropout(0.5))\n",
    "\n",
    "model.add(Dense(3, activation='softmax'))"
   ]
  },
  {
   "cell_type": "code",
   "execution_count": 8,
   "metadata": {},
   "outputs": [],
   "source": [
    "# Compilar el modelo\n",
    "model.compile(optimizer='adam', loss='categorical_crossentropy', metrics=['accuracy'])"
   ]
  },
  {
   "cell_type": "code",
   "execution_count": 10,
   "metadata": {},
   "outputs": [
    {
     "name": "stdout",
     "output_type": "stream",
     "text": [
      "Epoch 1/20\n",
      "150/150 [==============================] - 109s 726ms/step - loss: 0.5674 - accuracy: 0.8304 - val_loss: 0.5734 - val_accuracy: 0.8300\n",
      "Epoch 2/20\n",
      "150/150 [==============================] - 107s 712ms/step - loss: 0.5622 - accuracy: 0.8304 - val_loss: 0.5458 - val_accuracy: 0.8300\n",
      "Epoch 3/20\n",
      "150/150 [==============================] - 107s 710ms/step - loss: 0.5560 - accuracy: 0.8304 - val_loss: 0.5711 - val_accuracy: 0.8300\n",
      "Epoch 4/20\n",
      "150/150 [==============================] - 107s 713ms/step - loss: 0.5624 - accuracy: 0.8304 - val_loss: 0.5446 - val_accuracy: 0.8300\n",
      "Epoch 5/20\n",
      "150/150 [==============================] - 105s 702ms/step - loss: 0.5377 - accuracy: 0.8308 - val_loss: 0.5379 - val_accuracy: 0.8300\n",
      "Epoch 6/20\n",
      "150/150 [==============================] - 107s 716ms/step - loss: 0.5160 - accuracy: 0.8304 - val_loss: 0.5448 - val_accuracy: 0.8283\n",
      "Epoch 7/20\n",
      "150/150 [==============================] - 106s 706ms/step - loss: 0.4701 - accuracy: 0.8367 - val_loss: 0.5427 - val_accuracy: 0.8217\n",
      "Epoch 8/20\n",
      "150/150 [==============================] - 106s 706ms/step - loss: 0.4175 - accuracy: 0.8462 - val_loss: 0.5654 - val_accuracy: 0.8250\n",
      "Epoch 9/20\n",
      "150/150 [==============================] - 107s 711ms/step - loss: 0.3384 - accuracy: 0.8721 - val_loss: 0.7520 - val_accuracy: 0.8133\n",
      "Epoch 10/20\n",
      "150/150 [==============================] - 106s 707ms/step - loss: 0.1995 - accuracy: 0.9254 - val_loss: 0.8628 - val_accuracy: 0.7900\n",
      "Epoch 10: early stopping\n"
     ]
    }
   ],
   "source": [
    "from tensorflow.keras.callbacks import EarlyStopping\n",
    "\n",
    "# Definir el criterio de EarlyStopping\n",
    "es = EarlyStopping(monitor='val_loss', mode='min', verbose=1, patience=5)\n",
    "\n",
    "# Entrenar el modelo con EarlyStopping\n",
    "history = model.fit(X_train, y_train, epochs=20, validation_data=(X_test, y_test), batch_size=16, callbacks=[es])\n"
   ]
  },
  {
   "cell_type": "code",
   "execution_count": 11,
   "metadata": {},
   "outputs": [
    {
     "name": "stdout",
     "output_type": "stream",
     "text": [
      "The accuracy on the test set is of 0.79\n"
     ]
    }
   ],
   "source": [
    "# Evaluar el modelo\n",
    "results = model.evaluate(X_test, y_test, verbose=0)\n",
    "print(f'The accuracy on the test set is of {results[1]:.2f}')"
   ]
  }
 ],
 "metadata": {
  "kernelspec": {
   "display_name": "Python 3",
   "language": "python",
   "name": "python3"
  },
  "language_info": {
   "codemirror_mode": {
    "name": "ipython",
    "version": 3
   },
   "file_extension": ".py",
   "mimetype": "text/x-python",
   "name": "python",
   "nbconvert_exporter": "python",
   "pygments_lexer": "ipython3",
   "version": "3.10.4"
  }
 },
 "nbformat": 4,
 "nbformat_minor": 2
}
