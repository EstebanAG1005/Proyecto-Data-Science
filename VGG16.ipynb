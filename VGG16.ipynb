{
  "cells": [
    {
      "cell_type": "markdown",
      "metadata": {},
      "source": [
        "## Importar Librerias"
      ]
    },
    {
      "cell_type": "code",
      "execution_count": 39,
      "metadata": {
        "id": "CVzhcFWrIHNm"
      },
      "outputs": [],
      "source": [
        "import cv2    \n",
        "import math   \n",
        "import matplotlib.pyplot as plt    \n",
        "%matplotlib inline\n",
        "import pandas as pd\n",
        "from tensorflow.keras.preprocessing import image  \n",
        "import numpy as np   \n",
        "from skimage.transform import resize \n",
        "from glob import glob\n",
        "from tqdm import tqdm\n",
        "\n",
        "import keras\n",
        "from keras.models import Sequential\n",
        "from keras.applications.vgg16 import VGG16\n",
        "from keras.layers import Dense, InputLayer, Dropout, Flatten\n",
        "from keras.layers import Conv2D, MaxPooling2D, GlobalMaxPooling2D\n",
        "from keras.preprocessing import image\n",
        "from tensorflow.keras import layers\n",
        "\n",
        "from sklearn.model_selection import train_test_split\n",
        "\n",
        "from tensorflow.keras.utils import load_img, img_to_array\n",
        "\n",
        "from scipy import stats as s"
      ]
    },
    {
      "cell_type": "markdown",
      "metadata": {
        "id": "LzQ9_h_XOCxv"
      },
      "source": [
        "## Cargar datos pre entrenados"
      ]
    },
    {
      "cell_type": "code",
      "execution_count": 40,
      "metadata": {
        "colab": {
          "base_uri": "https://localhost:8080/"
        },
        "id": "UIvca_FyWN1A",
        "outputId": "0a2d3297-6b55-43f6-c3ac-385288041470"
      },
      "outputs": [
        {
          "data": {
            "text/plain": [
              "(3000, 2)"
            ]
          },
          "execution_count": 40,
          "metadata": {},
          "output_type": "execute_result"
        }
      ],
      "source": [
        "train_split = pd.read_csv('./train_split.csv')\n",
        "train_split.shape"
      ]
    },
    {
      "cell_type": "code",
      "execution_count": 41,
      "metadata": {
        "colab": {
          "base_uri": "https://localhost:8080/"
        },
        "id": "Tyz1XTVLorpD",
        "outputId": "68f03811-fa1a-498d-b34e-f63a5d659b03"
      },
      "outputs": [
        {
          "data": {
            "text/plain": [
              "array(['play', 'challenge', 'throwin'], dtype=object)"
            ]
          },
          "execution_count": 41,
          "metadata": {},
          "output_type": "execute_result"
        }
      ],
      "source": [
        "train_split['class'].unique()"
      ]
    },
    {
      "cell_type": "code",
      "execution_count": 42,
      "metadata": {
        "id": "sx9eEsscUy6d"
      },
      "outputs": [],
      "source": [
        "import pickle\n",
        "\n",
        "with open('./X.pkl','rb') as f:\n",
        "    X = pickle.load(f)"
      ]
    },
    {
      "cell_type": "code",
      "execution_count": 43,
      "metadata": {
        "colab": {
          "base_uri": "https://localhost:8080/"
        },
        "id": "__2E3hNiVfIZ",
        "outputId": "8bc2bbf8-83d7-4f31-e131-784666e60599"
      },
      "outputs": [
        {
          "data": {
            "text/plain": [
              "(3000, 224, 224, 3)"
            ]
          },
          "execution_count": 43,
          "metadata": {},
          "output_type": "execute_result"
        }
      ],
      "source": [
        "X.shape"
      ]
    },
    {
      "cell_type": "markdown",
      "metadata": {
        "id": "HUA6XniAOssp"
      },
      "source": [
        "## Crear set de validacion"
      ]
    },
    {
      "cell_type": "code",
      "execution_count": 44,
      "metadata": {
        "id": "zPCToELDVnnf"
      },
      "outputs": [],
      "source": [
        "# separar el target\n",
        "y = train_split['class']\n",
        "\n",
        "# crear los sets de training y validacion \n",
        "X_train, X_test, y_train, y_test = train_test_split(X, y, random_state=42, test_size=0.2, stratify = y)"
      ]
    },
    {
      "cell_type": "code",
      "execution_count": 45,
      "metadata": {
        "id": "vN35arouWQmG"
      },
      "outputs": [],
      "source": [
        "# Preparando las etiquetas\n",
        "y_train = pd.get_dummies(y_train)\n",
        "y_test = pd.get_dummies(y_test)"
      ]
    },
    {
      "cell_type": "code",
      "execution_count": 46,
      "metadata": {},
      "outputs": [
        {
          "name": "stdout",
          "output_type": "stream",
          "text": [
            "challenge  play  throwin\n",
            "0          1     0          1993\n",
            "1          0     0           312\n",
            "0          0     1            95\n",
            "dtype: int64\n",
            "challenge  play  throwin\n",
            "0          1     0          498\n",
            "1          0     0           78\n",
            "0          0     1           24\n",
            "dtype: int64\n"
          ]
        }
      ],
      "source": [
        "print(y_train.value_counts())\n",
        "print(y_test.value_counts())"
      ]
    },
    {
      "cell_type": "code",
      "execution_count": 47,
      "metadata": {
        "colab": {
          "base_uri": "https://localhost:8080/",
          "height": 424
        },
        "id": "Yo26TKKVriUp",
        "outputId": "114516ea-5c4e-4dfd-bc6e-e3820b7d9140"
      },
      "outputs": [
        {
          "data": {
            "text/html": [
              "<div>\n",
              "<style scoped>\n",
              "    .dataframe tbody tr th:only-of-type {\n",
              "        vertical-align: middle;\n",
              "    }\n",
              "\n",
              "    .dataframe tbody tr th {\n",
              "        vertical-align: top;\n",
              "    }\n",
              "\n",
              "    .dataframe thead th {\n",
              "        text-align: right;\n",
              "    }\n",
              "</style>\n",
              "<table border=\"1\" class=\"dataframe\">\n",
              "  <thead>\n",
              "    <tr style=\"text-align: right;\">\n",
              "      <th></th>\n",
              "      <th>challenge</th>\n",
              "      <th>play</th>\n",
              "      <th>throwin</th>\n",
              "    </tr>\n",
              "  </thead>\n",
              "  <tbody>\n",
              "    <tr>\n",
              "      <th>929</th>\n",
              "      <td>0</td>\n",
              "      <td>1</td>\n",
              "      <td>0</td>\n",
              "    </tr>\n",
              "    <tr>\n",
              "      <th>2753</th>\n",
              "      <td>0</td>\n",
              "      <td>1</td>\n",
              "      <td>0</td>\n",
              "    </tr>\n",
              "    <tr>\n",
              "      <th>884</th>\n",
              "      <td>0</td>\n",
              "      <td>1</td>\n",
              "      <td>0</td>\n",
              "    </tr>\n",
              "    <tr>\n",
              "      <th>843</th>\n",
              "      <td>0</td>\n",
              "      <td>1</td>\n",
              "      <td>0</td>\n",
              "    </tr>\n",
              "    <tr>\n",
              "      <th>1030</th>\n",
              "      <td>0</td>\n",
              "      <td>1</td>\n",
              "      <td>0</td>\n",
              "    </tr>\n",
              "    <tr>\n",
              "      <th>...</th>\n",
              "      <td>...</td>\n",
              "      <td>...</td>\n",
              "      <td>...</td>\n",
              "    </tr>\n",
              "    <tr>\n",
              "      <th>1725</th>\n",
              "      <td>0</td>\n",
              "      <td>1</td>\n",
              "      <td>0</td>\n",
              "    </tr>\n",
              "    <tr>\n",
              "      <th>534</th>\n",
              "      <td>0</td>\n",
              "      <td>1</td>\n",
              "      <td>0</td>\n",
              "    </tr>\n",
              "    <tr>\n",
              "      <th>2089</th>\n",
              "      <td>1</td>\n",
              "      <td>0</td>\n",
              "      <td>0</td>\n",
              "    </tr>\n",
              "    <tr>\n",
              "      <th>1500</th>\n",
              "      <td>0</td>\n",
              "      <td>1</td>\n",
              "      <td>0</td>\n",
              "    </tr>\n",
              "    <tr>\n",
              "      <th>2937</th>\n",
              "      <td>0</td>\n",
              "      <td>1</td>\n",
              "      <td>0</td>\n",
              "    </tr>\n",
              "  </tbody>\n",
              "</table>\n",
              "<p>600 rows × 3 columns</p>\n",
              "</div>"
            ],
            "text/plain": [
              "      challenge  play  throwin\n",
              "929           0     1        0\n",
              "2753          0     1        0\n",
              "884           0     1        0\n",
              "843           0     1        0\n",
              "1030          0     1        0\n",
              "...         ...   ...      ...\n",
              "1725          0     1        0\n",
              "534           0     1        0\n",
              "2089          1     0        0\n",
              "1500          0     1        0\n",
              "2937          0     1        0\n",
              "\n",
              "[600 rows x 3 columns]"
            ]
          },
          "execution_count": 47,
          "metadata": {},
          "output_type": "execute_result"
        }
      ],
      "source": [
        "y_test"
      ]
    },
    {
      "cell_type": "code",
      "execution_count": 48,
      "metadata": {
        "colab": {
          "base_uri": "https://localhost:8080/"
        },
        "id": "ZGgIiAG6bfDL",
        "outputId": "13a1d61d-7774-4cc3-a9b7-456bacd0f02f"
      },
      "outputs": [
        {
          "data": {
            "text/plain": [
              "(2400, 3)"
            ]
          },
          "execution_count": 48,
          "metadata": {},
          "output_type": "execute_result"
        }
      ],
      "source": [
        "# Shape del entrenamiento\n",
        "y_train.shape"
      ]
    },
    {
      "cell_type": "markdown",
      "metadata": {
        "id": "m0kOHj6fO3uy"
      },
      "source": [
        "# Definir la arquitectura, el modelo y tranformar la data"
      ]
    },
    {
      "cell_type": "code",
      "execution_count": 49,
      "metadata": {
        "id": "PjAgJq519eY3"
      },
      "outputs": [],
      "source": [
        "# base_model = VGG16(weights=\"imagenet\", include_top=False, input_shape=X_train[0].shape)\n",
        "# base_model.trainable = False"
      ]
    },
    {
      "cell_type": "code",
      "execution_count": 50,
      "metadata": {
        "colab": {
          "base_uri": "https://localhost:8080/"
        },
        "id": "4eCZUyONXgYX",
        "outputId": "7adc9ca8-74c8-4a28-a8a0-7ef17e6107ff"
      },
      "outputs": [],
      "source": [
        "# Creando el modelo en base a uno ya entrenado, en este cada el modelo VGG16 \n",
        "base_model = VGG16(weights='imagenet', include_top=False)"
      ]
    },
    {
      "cell_type": "code",
      "execution_count": 51,
      "metadata": {
        "colab": {
          "base_uri": "https://localhost:8080/"
        },
        "id": "18e7E3nhX5iM",
        "outputId": "3d9e8694-1963-4081-af88-fd715d4b08bf"
      },
      "outputs": [
        {
          "name": "stdout",
          "output_type": "stream",
          "text": [
            "10/75 [===>..........................] - ETA: 1:56"
          ]
        }
      ],
      "source": [
        "# extraer features del training frame\n",
        "X_train = base_model.predict(X_train)\n",
        "X_train.shape"
      ]
    },
    {
      "cell_type": "code",
      "execution_count": null,
      "metadata": {
        "colab": {
          "base_uri": "https://localhost:8080/"
        },
        "id": "C5-hsvkWXkvW",
        "outputId": "8931a1e0-136a-4ca2-a65f-60fda7af3296"
      },
      "outputs": [
        {
          "name": "stdout",
          "output_type": "stream",
          "text": [
            "19/19 [==============================] - 31s 2s/step\n"
          ]
        },
        {
          "data": {
            "text/plain": [
              "(600, 7, 7, 512)"
            ]
          },
          "execution_count": 14,
          "metadata": {},
          "output_type": "execute_result"
        }
      ],
      "source": [
        "# Extraer features del set de testing\n",
        "X_test = base_model.predict(X_test)\n",
        "X_test.shape"
      ]
    },
    {
      "cell_type": "code",
      "execution_count": null,
      "metadata": {
        "id": "GLslmusPYCT0"
      },
      "outputs": [],
      "source": [
        "# transformar el training y validation set para extraer los frames en una dimension \n",
        "X_train = X_train.reshape(2400, 7*7*512)\n",
        "X_test = X_test.reshape(600, 7*7*512)"
      ]
    },
    {
      "cell_type": "code",
      "execution_count": null,
      "metadata": {
        "id": "45sYTl85YaxM"
      },
      "outputs": [],
      "source": [
        "# normalizar los pixeles\n",
        "max = X_train.max()\n",
        "X_train = X_train/max\n",
        "X_test = X_test/max"
      ]
    },
    {
      "cell_type": "code",
      "execution_count": null,
      "metadata": {
        "colab": {
          "base_uri": "https://localhost:8080/"
        },
        "id": "lwZufUu_YttB",
        "outputId": "e37a1a24-9fe6-498d-c4ee-141b529ebd34"
      },
      "outputs": [
        {
          "data": {
            "text/plain": [
              "(2400, 25088)"
            ]
          },
          "execution_count": 17,
          "metadata": {},
          "output_type": "execute_result"
        }
      ],
      "source": [
        "# encontrar el shape \n",
        "X_train.shape"
      ]
    },
    {
      "cell_type": "code",
      "execution_count": null,
      "metadata": {
        "id": "TAF4WoxJYzyd"
      },
      "outputs": [],
      "source": [
        "# definir la arquitectura con las que vamos a trabajar\n",
        "model = Sequential()\n",
        "model.add(Dense(512, activation='relu', input_shape=(25088,)))\n",
        "model.add(Dropout(0.3))  # Reducir el dropout para evitar perder demasiadas características\n",
        "model.add(Dense(256, activation='relu'))\n",
        "model.add(Dropout(0.3))\n",
        "model.add(Dense(3, activation='softmax'))\n"
      ]
    },
    {
      "cell_type": "markdown",
      "metadata": {
        "id": "rpkS9KUOPKmc"
      },
      "source": [
        "# Entrenar el modelo y guardar los pesos "
      ]
    },
    {
      "cell_type": "code",
      "execution_count": null,
      "metadata": {
        "id": "LPn2rO1TZSuw"
      },
      "outputs": [],
      "source": [
        "# definir la menra de guardar los mejores pesos\n",
        "from keras.callbacks import ModelCheckpoint\n",
        "mcp_save = ModelCheckpoint('weight.hdf5', save_best_only=True, monitor='val_loss', mode='min')"
      ]
    },
    {
      "cell_type": "code",
      "execution_count": null,
      "metadata": {
        "id": "_D8q0LjcaEMC"
      },
      "outputs": [
        {
          "name": "stderr",
          "output_type": "stream",
          "text": [
            "WARNING:absl:`lr` is deprecated in Keras optimizer, please use `learning_rate` or use the legacy optimizer, e.g.,tf.keras.optimizers.legacy.Adam.\n"
          ]
        }
      ],
      "source": [
        "from keras.optimizers import Adam\n",
        "optimizer = Adam(lr=0.0001)  # Reducir la tasa de aprendizaje\n",
        "model.compile(loss='categorical_crossentropy', optimizer=optimizer, metrics=['accuracy'])"
      ]
    },
    {
      "cell_type": "code",
      "execution_count": null,
      "metadata": {},
      "outputs": [],
      "source": [
        "# definir metrica de EarlyStopping\n",
        "from tensorflow.keras.callbacks import EarlyStopping\n",
        "es = EarlyStopping(monitor='val_accuracy', mode='max', patience=5, verbose=1, restore_best_weights=True)"
      ]
    },
    {
      "cell_type": "code",
      "execution_count": null,
      "metadata": {
        "colab": {
          "base_uri": "https://localhost:8080/"
        },
        "id": "lrY-9Ui0aK8l",
        "outputId": "3bce1e0e-7340-4a85-9b20-6d941a17bf9f"
      },
      "outputs": [
        {
          "name": "stdout",
          "output_type": "stream",
          "text": [
            "Epoch 1/20\n",
            "150/150 [==============================] - ETA: 0s - loss: 1.2246 - accuracy: 0.3383"
          ]
        },
        {
          "name": "stderr",
          "output_type": "stream",
          "text": [
            "c:\\Python310\\lib\\site-packages\\keras\\src\\engine\\training.py:3000: UserWarning: You are saving your model as an HDF5 file via `model.save()`. This file format is considered legacy. We recommend using instead the native Keras format, e.g. `model.save('my_model.keras')`.\n",
            "  saving_api.save_model(\n"
          ]
        },
        {
          "name": "stdout",
          "output_type": "stream",
          "text": [
            "150/150 [==============================] - 16s 105ms/step - loss: 1.2246 - accuracy: 0.3383 - val_loss: 1.1584 - val_accuracy: 0.0783\n",
            "Epoch 2/20\n",
            "150/150 [==============================] - 16s 105ms/step - loss: 1.0531 - accuracy: 0.4650 - val_loss: 1.1062 - val_accuracy: 0.4067\n",
            "Epoch 3/20\n",
            "150/150 [==============================] - 16s 106ms/step - loss: 0.9845 - accuracy: 0.5396 - val_loss: 1.5283 - val_accuracy: 0.1800\n",
            "Epoch 4/20\n",
            "150/150 [==============================] - 16s 107ms/step - loss: 0.9719 - accuracy: 0.5008 - val_loss: 1.8528 - val_accuracy: 0.0583\n",
            "Epoch 5/20\n",
            "150/150 [==============================] - 16s 108ms/step - loss: 0.8838 - accuracy: 0.5621 - val_loss: 0.9693 - val_accuracy: 0.6200\n",
            "Epoch 6/20\n",
            "150/150 [==============================] - 16s 108ms/step - loss: 0.8526 - accuracy: 0.5750 - val_loss: 0.8531 - val_accuracy: 0.5350\n",
            "Epoch 7/20\n",
            "150/150 [==============================] - 16s 106ms/step - loss: 0.8154 - accuracy: 0.6175 - val_loss: 0.9747 - val_accuracy: 0.5250\n",
            "Epoch 8/20\n",
            "150/150 [==============================] - 16s 108ms/step - loss: 0.6998 - accuracy: 0.6421 - val_loss: 0.7145 - val_accuracy: 0.7117\n",
            "Epoch 9/20\n",
            "150/150 [==============================] - 16s 107ms/step - loss: 0.6456 - accuracy: 0.6442 - val_loss: 0.9418 - val_accuracy: 0.4450\n",
            "Epoch 10/20\n",
            "150/150 [==============================] - 16s 107ms/step - loss: 0.5773 - accuracy: 0.6696 - val_loss: 0.9197 - val_accuracy: 0.5250\n",
            "Epoch 11/20\n",
            "150/150 [==============================] - 16s 107ms/step - loss: 0.5596 - accuracy: 0.6596 - val_loss: 1.0774 - val_accuracy: 0.4600\n",
            "Epoch 12/20\n",
            "150/150 [==============================] - 16s 107ms/step - loss: 0.5695 - accuracy: 0.6900 - val_loss: 0.7842 - val_accuracy: 0.6150\n",
            "Epoch 13/20\n",
            "150/150 [==============================] - ETA: 0s - loss: 0.4945 - accuracy: 0.6988Restoring model weights from the end of the best epoch: 8.\n",
            "150/150 [==============================] - 16s 109ms/step - loss: 0.4945 - accuracy: 0.6988 - val_loss: 0.6945 - val_accuracy: 0.7050\n",
            "Epoch 13: early stopping\n"
          ]
        }
      ],
      "source": [
        "from sklearn.utils.class_weight import compute_class_weight\n",
        "\n",
        "# Calcula los pesos para cada clase\n",
        "class_weights = compute_class_weight('balanced', classes=np.unique(train_split['class']), y=train_split['class'])\n",
        "\n",
        "# Convierte los pesos en un diccionario para pasarlo al entrenamiento del modelo\n",
        "class_weight_dict = dict(enumerate(class_weights))\n",
        "\n",
        "# Usa este diccionario de pesos en el método fit\n",
        "history = model.fit(X_train, y_train, epochs=20, validation_data=(X_test, y_test), callbacks=[mcp_save, es], batch_size=16, class_weight=class_weight_dict)"
      ]
    },
    {
      "cell_type": "markdown",
      "metadata": {},
      "source": [
        "## Calcular accuracy X_test dataset"
      ]
    },
    {
      "cell_type": "code",
      "execution_count": null,
      "metadata": {},
      "outputs": [
        {
          "name": "stderr",
          "output_type": "stream",
          "text": [
            "c:\\Python310\\lib\\site-packages\\keras\\src\\engine\\training.py:3000: UserWarning: You are saving your model as an HDF5 file via `model.save()`. This file format is considered legacy. We recommend using instead the native Keras format, e.g. `model.save('my_model.keras')`.\n",
            "  saving_api.save_model(\n"
          ]
        }
      ],
      "source": [
        "model.save('VGG16.h5')  # Guarda el modelo en formato HDF5"
      ]
    },
    {
      "cell_type": "code",
      "execution_count": null,
      "metadata": {
        "colab": {
          "base_uri": "https://localhost:8080/"
        },
        "id": "Odp5nPjPS-aY",
        "outputId": "61526226-2005-4228-db58-bab9f3d5474a"
      },
      "outputs": [
        {
          "name": "stdout",
          "output_type": "stream",
          "text": [
            "The accuracy on the test set is of 0.71\n"
          ]
        }
      ],
      "source": [
        "results = model.evaluate(X_test, y_test, verbose=0)\n",
        "print(f'The accuracy on the test set is of {results[1]:.2f}')"
      ]
    },
    {
      "cell_type": "code",
      "execution_count": null,
      "metadata": {
        "colab": {
          "base_uri": "https://localhost:8080/",
          "height": 350
        },
        "id": "mmT9UahIRR30",
        "outputId": "51a7fd7f-8a5d-42d1-f6e3-c800b9cea135"
      },
      "outputs": [
        {
          "data": {
            "image/png": "[encoded data removed]",
            "text/plain": [
              "<Figure size 1300x500 with 2 Axes>"
            ]
          },
          "metadata": {},
          "output_type": "display_data"
        }
      ],
      "source": [
        "# Metricas para evaluar el modelo\n",
        "\n",
        "def plot_loss_accuracy(history, title=None):\n",
        "    fig, ax = plt.subplots(1,2, figsize=(13,5))\n",
        "    ax[0].plot(history.history['loss'])\n",
        "    ax[0].plot(history.history['val_loss'])\n",
        "    ax[0].set_title('Model loss')\n",
        "    ax[0].set_ylabel('Loss')\n",
        "    ax[0].set_xlabel('Epoch')\n",
        "    ax[0].set_ylim((0,3))\n",
        "    ax[0].legend(['Train', 'Test'], loc='best')\n",
        "    \n",
        "    ax[1].plot(history.history['accuracy'])\n",
        "    ax[1].plot(history.history['val_accuracy'])\n",
        "    ax[1].set_title('Model Accuracy')\n",
        "    ax[1].set_ylabel('Accuracy')\n",
        "    ax[1].set_xlabel('Epoch')\n",
        "    ax[1].legend(['Train', 'Test'], loc='best')\n",
        "    ax[1].set_ylim((0,1))\n",
        "    if title:\n",
        "        fig.suptitle(title)\n",
        "\n",
        "plot_loss_accuracy(history)"
      ]
    },
    {
      "cell_type": "markdown",
      "metadata": {
        "id": "nc8-V-M5PUL9"
      },
      "source": [
        "# Load the model and data to be predicted"
      ]
    },
    {
      "cell_type": "code",
      "execution_count": null,
      "metadata": {
        "id": "cUnm1gOHPS9I"
      },
      "outputs": [],
      "source": [
        "# definir la arquitectura con las que vamos a trabajar\n",
        "model = Sequential()\n",
        "model.add(Dense(512, activation='relu', input_shape=(25088,)))\n",
        "model.add(Dropout(0.3))  # Reducir el dropout para evitar perder demasiadas características\n",
        "model.add(Dense(256, activation='relu'))\n",
        "model.add(Dropout(0.3))\n",
        "model.add(Dense(3, activation='softmax'))\n"
      ]
    },
    {
      "cell_type": "code",
      "execution_count": null,
      "metadata": {
        "id": "RNPZg3aBaV4B"
      },
      "outputs": [],
      "source": [
        "model.load_weights(\"./weight.hdf5\")"
      ]
    },
    {
      "cell_type": "code",
      "execution_count": null,
      "metadata": {
        "id": "6IHvBGNGo4YA"
      },
      "outputs": [],
      "source": [
        "model.compile(loss='categorical_crossentropy',optimizer='Adam',metrics=['accuracy'])"
      ]
    },
    {
      "cell_type": "code",
      "execution_count": null,
      "metadata": {
        "id": "dzsJOmSNJnGB"
      },
      "outputs": [],
      "source": [
        "import pickle\n",
        "\n",
        "with open('./X_predict.pkl','rb') as f:\n",
        "    X_predict = pickle.load(f)"
      ]
    },
    {
      "cell_type": "code",
      "execution_count": null,
      "metadata": {
        "colab": {
          "base_uri": "https://localhost:8080/"
        },
        "id": "aEVr1jBMKNr8",
        "outputId": "a372e056-c3e6-47ea-83bc-8a453a9bdff6"
      },
      "outputs": [
        {
          "data": {
            "text/plain": [
              "(960, 224, 224, 3)"
            ]
          },
          "execution_count": 30,
          "metadata": {},
          "output_type": "execute_result"
        }
      ],
      "source": [
        "X_predict.shape"
      ]
    },
    {
      "cell_type": "code",
      "execution_count": null,
      "metadata": {
        "colab": {
          "base_uri": "https://localhost:8080/",
          "height": 414
        },
        "id": "1NNceTdUKf1z",
        "outputId": "2a8874c1-bb11-4cab-9718-1bfee1312b8d"
      },
      "outputs": [
        {
          "name": "stdout",
          "output_type": "stream",
          "text": [
            "30/30 [==============================] - 50s 2s/step\n"
          ]
        },
        {
          "data": {
            "text/plain": [
              "(960, 7, 7, 512)"
            ]
          },
          "execution_count": 31,
          "metadata": {},
          "output_type": "execute_result"
        }
      ],
      "source": [
        "# extracting features for validation frames\n",
        "X_predict = base_model.predict(X_predict)\n",
        "X_predict.shape"
      ]
    },
    {
      "cell_type": "code",
      "execution_count": null,
      "metadata": {
        "id": "2SZV7IOBKn4h"
      },
      "outputs": [],
      "source": [
        "X_predict = X_predict.reshape(960, 7*7*512)"
      ]
    },
    {
      "cell_type": "code",
      "execution_count": null,
      "metadata": {
        "id": "ZMIW5dJfKxUq"
      },
      "outputs": [],
      "source": [
        "max = X_predict.max()\n",
        "X_predict = X_predict/max"
      ]
    },
    {
      "cell_type": "code",
      "execution_count": null,
      "metadata": {
        "colab": {
          "base_uri": "https://localhost:8080/"
        },
        "id": "QpyWrVLKpMu6",
        "outputId": "1af2339f-5b81-4ff8-ff61-e71970b8a76a"
      },
      "outputs": [
        {
          "name": "stdout",
          "output_type": "stream",
          "text": [
            "30/30 [==============================] - 0s 8ms/step\n"
          ]
        }
      ],
      "source": [
        "prediction = model.predict(X_predict)"
      ]
    },
    {
      "cell_type": "code",
      "execution_count": null,
      "metadata": {
        "colab": {
          "base_uri": "https://localhost:8080/",
          "height": 424
        },
        "id": "DFRiyWhPLEMN",
        "outputId": "7b0f16d7-ed16-4cd3-b76b-5e78e767a708"
      },
      "outputs": [
        {
          "data": {
            "text/html": [
              "<div>\n",
              "<style scoped>\n",
              "    .dataframe tbody tr th:only-of-type {\n",
              "        vertical-align: middle;\n",
              "    }\n",
              "\n",
              "    .dataframe tbody tr th {\n",
              "        vertical-align: top;\n",
              "    }\n",
              "\n",
              "    .dataframe thead th {\n",
              "        text-align: right;\n",
              "    }\n",
              "</style>\n",
              "<table border=\"1\" class=\"dataframe\">\n",
              "  <thead>\n",
              "    <tr style=\"text-align: right;\">\n",
              "      <th></th>\n",
              "      <th>0</th>\n",
              "      <th>1</th>\n",
              "      <th>2</th>\n",
              "    </tr>\n",
              "  </thead>\n",
              "  <tbody>\n",
              "    <tr>\n",
              "      <th>0</th>\n",
              "      <td>0.691017</td>\n",
              "      <td>0.296816</td>\n",
              "      <td>0.012167</td>\n",
              "    </tr>\n",
              "    <tr>\n",
              "      <th>1</th>\n",
              "      <td>0.561684</td>\n",
              "      <td>0.427358</td>\n",
              "      <td>0.010958</td>\n",
              "    </tr>\n",
              "    <tr>\n",
              "      <th>2</th>\n",
              "      <td>0.269912</td>\n",
              "      <td>0.644980</td>\n",
              "      <td>0.085108</td>\n",
              "    </tr>\n",
              "    <tr>\n",
              "      <th>3</th>\n",
              "      <td>0.179288</td>\n",
              "      <td>0.801774</td>\n",
              "      <td>0.018937</td>\n",
              "    </tr>\n",
              "    <tr>\n",
              "      <th>4</th>\n",
              "      <td>0.228696</td>\n",
              "      <td>0.745158</td>\n",
              "      <td>0.026147</td>\n",
              "    </tr>\n",
              "    <tr>\n",
              "      <th>...</th>\n",
              "      <td>...</td>\n",
              "      <td>...</td>\n",
              "      <td>...</td>\n",
              "    </tr>\n",
              "    <tr>\n",
              "      <th>955</th>\n",
              "      <td>0.736970</td>\n",
              "      <td>0.257754</td>\n",
              "      <td>0.005276</td>\n",
              "    </tr>\n",
              "    <tr>\n",
              "      <th>956</th>\n",
              "      <td>0.751981</td>\n",
              "      <td>0.245408</td>\n",
              "      <td>0.002611</td>\n",
              "    </tr>\n",
              "    <tr>\n",
              "      <th>957</th>\n",
              "      <td>0.768846</td>\n",
              "      <td>0.228509</td>\n",
              "      <td>0.002646</td>\n",
              "    </tr>\n",
              "    <tr>\n",
              "      <th>958</th>\n",
              "      <td>0.744805</td>\n",
              "      <td>0.253474</td>\n",
              "      <td>0.001721</td>\n",
              "    </tr>\n",
              "    <tr>\n",
              "      <th>959</th>\n",
              "      <td>0.704144</td>\n",
              "      <td>0.294218</td>\n",
              "      <td>0.001639</td>\n",
              "    </tr>\n",
              "  </tbody>\n",
              "</table>\n",
              "<p>960 rows × 3 columns</p>\n",
              "</div>"
            ],
            "text/plain": [
              "            0         1         2\n",
              "0    0.691017  0.296816  0.012167\n",
              "1    0.561684  0.427358  0.010958\n",
              "2    0.269912  0.644980  0.085108\n",
              "3    0.179288  0.801774  0.018937\n",
              "4    0.228696  0.745158  0.026147\n",
              "..        ...       ...       ...\n",
              "955  0.736970  0.257754  0.005276\n",
              "956  0.751981  0.245408  0.002611\n",
              "957  0.768846  0.228509  0.002646\n",
              "958  0.744805  0.253474  0.001721\n",
              "959  0.704144  0.294218  0.001639\n",
              "\n",
              "[960 rows x 3 columns]"
            ]
          },
          "execution_count": 35,
          "metadata": {},
          "output_type": "execute_result"
        }
      ],
      "source": [
        "pd.DataFrame(prediction)"
      ]
    },
    {
      "cell_type": "code",
      "execution_count": null,
      "metadata": {
        "colab": {
          "base_uri": "https://localhost:8080/"
        },
        "id": "1uTjyD8Z0_co",
        "outputId": "d1272af1-c117-4a2d-9d40-c859ac5c8cd8"
      },
      "outputs": [
        {
          "data": {
            "text/plain": [
              "array([0, 0, 1, 1, 1, 1, 1, 1, 1, 1, 1, 1, 1, 1, 0, 0, 0, 0, 0, 0, 0, 1,\n",
              "       1, 1, 1, 1, 1, 1, 1, 1, 0, 0, 0, 0, 0, 0, 0, 0, 0, 0, 0, 0, 1, 0,\n",
              "       0, 0, 0, 0, 0, 0, 0, 0, 0, 0, 0, 0, 0, 0, 0, 0, 0, 0, 1, 1, 1, 1,\n",
              "       1, 1, 1, 1, 1, 1, 1, 1, 0, 0, 0, 0, 0, 0, 0, 1, 1, 1, 1, 1, 1, 1,\n",
              "       1, 1, 0, 0, 0, 0, 0, 0, 0, 0, 0, 0, 0, 0, 1, 0, 0, 0, 0, 0, 0, 0,\n",
              "       0, 0, 0, 0, 0, 0, 0, 0, 0, 0, 0, 1, 1, 1, 1, 1, 1, 0, 0, 0, 0, 1,\n",
              "       0, 1, 1, 0, 0, 0, 1, 0, 1, 0, 0, 0, 0, 0, 1, 1, 1, 1, 1, 1, 0, 0,\n",
              "       0, 0, 0, 0, 0, 0, 0, 1, 1, 1, 1, 1, 1, 1, 1, 1, 0, 1, 0, 1, 1, 0,\n",
              "       0, 1, 1, 1, 0, 0, 0, 0, 0, 0, 0, 1, 1, 1, 0, 0, 0, 0, 0, 1, 1, 1,\n",
              "       0, 0, 0, 0, 0, 0, 0, 0, 0, 0, 0, 0, 1, 1, 1, 1, 1, 1, 1, 1, 1, 1,\n",
              "       1, 0, 1, 1, 1, 0, 1, 0, 0, 0, 0, 1, 1, 1, 1, 1, 1, 1, 1, 1, 1, 0,\n",
              "       1, 1, 1, 1, 1, 0, 0, 0, 0, 0, 0, 0, 0, 0, 0, 0, 0, 1, 1, 1, 1, 0,\n",
              "       0, 0, 1, 0, 1, 1, 1, 1, 1, 1, 1, 1, 1, 1, 0, 0, 0, 0, 1, 0, 0, 0,\n",
              "       1, 1, 1, 1, 1, 1, 1, 1, 1, 1, 1, 1, 1, 1, 0, 0, 0, 0, 0, 0, 0, 1,\n",
              "       1, 1, 0, 0, 0, 0, 0, 1, 1, 1, 0, 0, 0, 0, 0, 0, 0, 0, 0, 0, 0, 0,\n",
              "       1, 1, 1, 1, 1, 1, 1, 1, 1, 1, 1, 0, 1, 1, 1, 0, 1, 0, 0, 0, 0, 1,\n",
              "       1, 1, 1, 1, 1, 1, 1, 1, 1, 1, 1, 1, 0, 0, 0, 0, 0, 0, 0, 0, 1, 0,\n",
              "       0, 0, 2, 0, 1, 1, 0, 0, 0, 2, 1, 1, 1, 1, 1, 1, 1, 1, 1, 1, 1, 1,\n",
              "       1, 1, 1, 1, 1, 1, 1, 1, 1, 1, 1, 1, 1, 1, 1, 1, 1, 1, 1, 1, 1, 1,\n",
              "       1, 1, 1, 1, 1, 1, 0, 0, 0, 0, 0, 0, 0, 0, 1, 0, 0, 0, 2, 0, 1, 1,\n",
              "       0, 0, 0, 2, 1, 1, 1, 1, 1, 1, 1, 1, 1, 1, 1, 1, 1, 1, 1, 1, 1, 1,\n",
              "       1, 1, 1, 1, 1, 1, 1, 1, 1, 1, 1, 1, 1, 1, 1, 1, 1, 1, 1, 1, 1, 1,\n",
              "       1, 1, 1, 1, 1, 1, 1, 1, 1, 1, 1, 1, 1, 0, 0, 0, 0, 0, 0, 1, 1, 1,\n",
              "       1, 1, 1, 1, 0, 0, 0, 1, 1, 1, 1, 1, 1, 1, 0, 0, 0, 0, 0, 0, 1, 1,\n",
              "       0, 0, 1, 0, 0, 0, 0, 0, 0, 0, 0, 0, 1, 0, 0, 0, 0, 0, 0, 0, 0, 0,\n",
              "       0, 1, 1, 0, 0, 1, 1, 0, 0, 0, 0, 0, 0, 1, 1, 1, 1, 1, 1, 1, 0, 0,\n",
              "       0, 0, 0, 0, 0, 0, 0, 0, 0, 0, 0, 0, 1, 1, 1, 1, 1, 1, 1, 1, 1, 0,\n",
              "       0, 0, 0, 0, 0, 0, 1, 1, 1, 1, 1, 1, 1, 1, 1, 1, 1, 1, 1, 1, 1, 1,\n",
              "       1, 0, 0, 0, 0, 0, 0, 1, 1, 1, 1, 1, 1, 1, 0, 0, 0, 1, 1, 1, 1, 1,\n",
              "       1, 1, 0, 0, 0, 0, 0, 0, 1, 1, 0, 0, 1, 0, 0, 0, 0, 0, 0, 0, 0, 0,\n",
              "       0, 1, 1, 1, 1, 1, 1, 0, 0, 0, 0, 1, 0, 1, 1, 0, 0, 0, 1, 0, 1, 0,\n",
              "       0, 0, 0, 0, 1, 1, 1, 1, 1, 1, 0, 0, 0, 0, 0, 0, 0, 0, 0, 1, 1, 1,\n",
              "       1, 1, 1, 1, 1, 1, 0, 1, 0, 1, 1, 0, 0, 1, 1, 1, 1, 0, 1, 1, 1, 1,\n",
              "       1, 0, 0, 0, 0, 0, 0, 0, 0, 0, 0, 0, 0, 1, 1, 1, 1, 0, 0, 0, 1, 0,\n",
              "       1, 1, 1, 1, 1, 1, 1, 1, 1, 1, 0, 0, 0, 0, 1, 0, 0, 0, 1, 1, 1, 1,\n",
              "       1, 1, 1, 1, 1, 1, 1, 1, 1, 1, 0, 0, 1, 2, 0, 1, 1, 2, 2, 2, 0, 0,\n",
              "       0, 0, 0, 0, 0, 0, 0, 1, 1, 1, 1, 0, 0, 2, 0, 0, 1, 1, 0, 0, 1, 1,\n",
              "       1, 1, 1, 1, 1, 1, 1, 1, 0, 1, 1, 1, 1, 1, 1, 1, 0, 0, 0, 0, 0, 0,\n",
              "       0, 1, 0, 0, 0, 0, 1, 2, 0, 1, 1, 2, 2, 2, 0, 0, 0, 0, 0, 0, 0, 0,\n",
              "       0, 1, 1, 1, 1, 0, 0, 2, 0, 0, 1, 1, 0, 0, 1, 1, 1, 1, 1, 1, 1, 1,\n",
              "       1, 1, 0, 1, 1, 1, 1, 1, 1, 1, 0, 0, 0, 0, 0, 0, 0, 1, 0, 0, 1, 0,\n",
              "       0, 0, 0, 0, 0, 0, 0, 0, 0, 1, 1, 0, 0, 1, 1, 0, 0, 0, 0, 0, 0, 1,\n",
              "       1, 1, 1, 1, 1, 1, 0, 0, 0, 0, 0, 0, 0, 0, 0, 0, 0, 0, 0, 0, 1, 1,\n",
              "       1, 1, 1, 1, 1, 1, 1, 0, 0, 0, 0, 0, 0, 0], dtype=int64)"
            ]
          },
          "execution_count": 36,
          "metadata": {},
          "output_type": "execute_result"
        }
      ],
      "source": [
        "np.argmax(prediction, axis=1)"
      ]
    },
    {
      "cell_type": "code",
      "execution_count": null,
      "metadata": {
        "colab": {
          "base_uri": "https://localhost:8080/",
          "height": 206
        },
        "id": "xFcfdl7P0IVq",
        "outputId": "ecdf5ed9-1244-4227-b45d-29061356e34e"
      },
      "outputs": [
        {
          "data": {
            "text/html": [
              "<div>\n",
              "<style scoped>\n",
              "    .dataframe tbody tr th:only-of-type {\n",
              "        vertical-align: middle;\n",
              "    }\n",
              "\n",
              "    .dataframe tbody tr th {\n",
              "        vertical-align: top;\n",
              "    }\n",
              "\n",
              "    .dataframe thead th {\n",
              "        text-align: right;\n",
              "    }\n",
              "</style>\n",
              "<table border=\"1\" class=\"dataframe\">\n",
              "  <thead>\n",
              "    <tr style=\"text-align: right;\">\n",
              "      <th></th>\n",
              "      <th>image</th>\n",
              "    </tr>\n",
              "  </thead>\n",
              "  <tbody>\n",
              "    <tr>\n",
              "      <th>0</th>\n",
              "      <td>test_1\\019d5b34_0.mp4_frame0.jpg</td>\n",
              "    </tr>\n",
              "    <tr>\n",
              "      <th>1</th>\n",
              "      <td>test_1\\019d5b34_0.mp4_frame1.jpg</td>\n",
              "    </tr>\n",
              "    <tr>\n",
              "      <th>2</th>\n",
              "      <td>test_1\\019d5b34_0.mp4_frame10.jpg</td>\n",
              "    </tr>\n",
              "    <tr>\n",
              "      <th>3</th>\n",
              "      <td>test_1\\019d5b34_0.mp4_frame11.jpg</td>\n",
              "    </tr>\n",
              "    <tr>\n",
              "      <th>4</th>\n",
              "      <td>test_1\\019d5b34_0.mp4_frame12.jpg</td>\n",
              "    </tr>\n",
              "  </tbody>\n",
              "</table>\n",
              "</div>"
            ],
            "text/plain": [
              "                               image\n",
              "0   test_1\\019d5b34_0.mp4_frame0.jpg\n",
              "1   test_1\\019d5b34_0.mp4_frame1.jpg\n",
              "2  test_1\\019d5b34_0.mp4_frame10.jpg\n",
              "3  test_1\\019d5b34_0.mp4_frame11.jpg\n",
              "4  test_1\\019d5b34_0.mp4_frame12.jpg"
            ]
          },
          "execution_count": 37,
          "metadata": {},
          "output_type": "execute_result"
        }
      ],
      "source": [
        "predict_data = pd.read_csv('./predict_new.csv')\n",
        "predict_data.head()"
      ]
    }
  ],
  "metadata": {
    "accelerator": "GPU",
    "colab": {
      "provenance": []
    },
    "gpuClass": "standard",
    "kernelspec": {
      "display_name": "Python 3",
      "name": "python3"
    },
    "language_info": {
      "codemirror_mode": {
        "name": "ipython",
        "version": 3
      },
      "file_extension": ".py",
      "mimetype": "text/x-python",
      "name": "python",
      "nbconvert_exporter": "python",
      "pygments_lexer": "ipython3",
      "version": "3.10.4"
    }
  },
  "nbformat": 4,
  "nbformat_minor": 0
}
