{
  "cells": [
    {
      "cell_type": "markdown",
      "metadata": {
        "id": "view-in-github",
        "colab_type": "text"
      },
      "source": [
        "<a href=\"https://colab.research.google.com/github/EstebanAG1005/Proyecto-Data-Science/blob/main/An%C3%A1lisis_Exploratorio.ipynb\" target=\"_parent\"><img src=\"https://colab.research.google.com/assets/colab-badge.svg\" alt=\"Open In Colab\"/></a>"
      ]
    },
    {
      "cell_type": "markdown",
      "metadata": {
        "id": "ef98ac70"
      },
      "source": [
        "# 1. Carga y Revisión Inicial"
      ],
      "id": "ef98ac70"
    },
    {
      "cell_type": "code",
      "execution_count": 2,
      "metadata": {
        "colab": {
          "base_uri": "https://localhost:8080/",
          "height": 427
        },
        "id": "750f1b0e",
        "outputId": "a323f5e3-3bcb-4e60-d570-9beede02a487"
      },
      "outputs": [
        {
          "output_type": "stream",
          "name": "stdout",
          "text": [
            "Drive already mounted at /content/drive; to attempt to forcibly remount, call drive.mount(\"/content/drive\", force_remount=True).\n"
          ]
        },
        {
          "output_type": "error",
          "ename": "OSError",
          "evalue": "ignored",
          "traceback": [
            "\u001b[0;31m---------------------------------------------------------------------------\u001b[0m",
            "\u001b[0;31mOSError\u001b[0m                                   Traceback (most recent call last)",
            "\u001b[0;32m<ipython-input-2-f9a7545b934a>\u001b[0m in \u001b[0;36m<cell line: 20>\u001b[0;34m()\u001b[0m\n\u001b[1;32m     19\u001b[0m \u001b[0;31m# Extract the zip file\u001b[0m\u001b[0;34m\u001b[0m\u001b[0;34m\u001b[0m\u001b[0m\n\u001b[1;32m     20\u001b[0m \u001b[0;32mwith\u001b[0m \u001b[0mzipfile\u001b[0m\u001b[0;34m.\u001b[0m\u001b[0mZipFile\u001b[0m\u001b[0;34m(\u001b[0m\u001b[0mpath_imgs\u001b[0m\u001b[0;34m,\u001b[0m \u001b[0;34m'r'\u001b[0m\u001b[0;34m)\u001b[0m \u001b[0;32mas\u001b[0m \u001b[0mzip_ref\u001b[0m\u001b[0;34m:\u001b[0m\u001b[0;34m\u001b[0m\u001b[0;34m\u001b[0m\u001b[0m\n\u001b[0;32m---> 21\u001b[0;31m     \u001b[0mzip_ref\u001b[0m\u001b[0;34m.\u001b[0m\u001b[0mextractall\u001b[0m\u001b[0;34m(\u001b[0m\u001b[0;34m'/content/'\u001b[0m\u001b[0;34m)\u001b[0m\u001b[0;34m\u001b[0m\u001b[0;34m\u001b[0m\u001b[0m\n\u001b[0m\u001b[1;32m     22\u001b[0m \u001b[0;34m\u001b[0m\u001b[0m\n\u001b[1;32m     23\u001b[0m \u001b[0;31m# Assuming the train.csv is directly inside the zip, read the CSV file\u001b[0m\u001b[0;34m\u001b[0m\u001b[0;34m\u001b[0m\u001b[0m\n",
            "\u001b[0;32m/usr/lib/python3.10/zipfile.py\u001b[0m in \u001b[0;36mextractall\u001b[0;34m(self, path, members, pwd)\u001b[0m\n\u001b[1;32m   1645\u001b[0m \u001b[0;34m\u001b[0m\u001b[0m\n\u001b[1;32m   1646\u001b[0m         \u001b[0;32mfor\u001b[0m \u001b[0mzipinfo\u001b[0m \u001b[0;32min\u001b[0m \u001b[0mmembers\u001b[0m\u001b[0;34m:\u001b[0m\u001b[0;34m\u001b[0m\u001b[0;34m\u001b[0m\u001b[0m\n\u001b[0;32m-> 1647\u001b[0;31m             \u001b[0mself\u001b[0m\u001b[0;34m.\u001b[0m\u001b[0m_extract_member\u001b[0m\u001b[0;34m(\u001b[0m\u001b[0mzipinfo\u001b[0m\u001b[0;34m,\u001b[0m \u001b[0mpath\u001b[0m\u001b[0;34m,\u001b[0m \u001b[0mpwd\u001b[0m\u001b[0;34m)\u001b[0m\u001b[0;34m\u001b[0m\u001b[0;34m\u001b[0m\u001b[0m\n\u001b[0m\u001b[1;32m   1648\u001b[0m \u001b[0;34m\u001b[0m\u001b[0m\n\u001b[1;32m   1649\u001b[0m     \u001b[0;34m@\u001b[0m\u001b[0mclassmethod\u001b[0m\u001b[0;34m\u001b[0m\u001b[0;34m\u001b[0m\u001b[0m\n",
            "\u001b[0;32m/usr/lib/python3.10/zipfile.py\u001b[0m in \u001b[0;36m_extract_member\u001b[0;34m(self, member, targetpath, pwd)\u001b[0m\n\u001b[1;32m   1700\u001b[0m         \u001b[0;32mwith\u001b[0m \u001b[0mself\u001b[0m\u001b[0;34m.\u001b[0m\u001b[0mopen\u001b[0m\u001b[0;34m(\u001b[0m\u001b[0mmember\u001b[0m\u001b[0;34m,\u001b[0m \u001b[0mpwd\u001b[0m\u001b[0;34m=\u001b[0m\u001b[0mpwd\u001b[0m\u001b[0;34m)\u001b[0m \u001b[0;32mas\u001b[0m \u001b[0msource\u001b[0m\u001b[0;34m,\u001b[0m\u001b[0;31m \u001b[0m\u001b[0;31m\\\u001b[0m\u001b[0;34m\u001b[0m\u001b[0;34m\u001b[0m\u001b[0m\n\u001b[1;32m   1701\u001b[0m              \u001b[0mopen\u001b[0m\u001b[0;34m(\u001b[0m\u001b[0mtargetpath\u001b[0m\u001b[0;34m,\u001b[0m \u001b[0;34m\"wb\"\u001b[0m\u001b[0;34m)\u001b[0m \u001b[0;32mas\u001b[0m \u001b[0mtarget\u001b[0m\u001b[0;34m:\u001b[0m\u001b[0;34m\u001b[0m\u001b[0;34m\u001b[0m\u001b[0m\n\u001b[0;32m-> 1702\u001b[0;31m             \u001b[0mshutil\u001b[0m\u001b[0;34m.\u001b[0m\u001b[0mcopyfileobj\u001b[0m\u001b[0;34m(\u001b[0m\u001b[0msource\u001b[0m\u001b[0;34m,\u001b[0m \u001b[0mtarget\u001b[0m\u001b[0;34m)\u001b[0m\u001b[0;34m\u001b[0m\u001b[0;34m\u001b[0m\u001b[0m\n\u001b[0m\u001b[1;32m   1703\u001b[0m \u001b[0;34m\u001b[0m\u001b[0m\n\u001b[1;32m   1704\u001b[0m         \u001b[0;32mreturn\u001b[0m \u001b[0mtargetpath\u001b[0m\u001b[0;34m\u001b[0m\u001b[0;34m\u001b[0m\u001b[0m\n",
            "\u001b[0;32m/usr/lib/python3.10/shutil.py\u001b[0m in \u001b[0;36mcopyfileobj\u001b[0;34m(fsrc, fdst, length)\u001b[0m\n\u001b[1;32m    193\u001b[0m     \u001b[0mfdst_write\u001b[0m \u001b[0;34m=\u001b[0m \u001b[0mfdst\u001b[0m\u001b[0;34m.\u001b[0m\u001b[0mwrite\u001b[0m\u001b[0;34m\u001b[0m\u001b[0;34m\u001b[0m\u001b[0m\n\u001b[1;32m    194\u001b[0m     \u001b[0;32mwhile\u001b[0m \u001b[0;32mTrue\u001b[0m\u001b[0;34m:\u001b[0m\u001b[0;34m\u001b[0m\u001b[0;34m\u001b[0m\u001b[0m\n\u001b[0;32m--> 195\u001b[0;31m         \u001b[0mbuf\u001b[0m \u001b[0;34m=\u001b[0m \u001b[0mfsrc_read\u001b[0m\u001b[0;34m(\u001b[0m\u001b[0mlength\u001b[0m\u001b[0;34m)\u001b[0m\u001b[0;34m\u001b[0m\u001b[0;34m\u001b[0m\u001b[0m\n\u001b[0m\u001b[1;32m    196\u001b[0m         \u001b[0;32mif\u001b[0m \u001b[0;32mnot\u001b[0m \u001b[0mbuf\u001b[0m\u001b[0;34m:\u001b[0m\u001b[0;34m\u001b[0m\u001b[0;34m\u001b[0m\u001b[0m\n\u001b[1;32m    197\u001b[0m             \u001b[0;32mbreak\u001b[0m\u001b[0;34m\u001b[0m\u001b[0;34m\u001b[0m\u001b[0m\n",
            "\u001b[0;32m/usr/lib/python3.10/zipfile.py\u001b[0m in \u001b[0;36mread\u001b[0;34m(self, n)\u001b[0m\n\u001b[1;32m    925\u001b[0m         \u001b[0mself\u001b[0m\u001b[0;34m.\u001b[0m\u001b[0m_offset\u001b[0m \u001b[0;34m=\u001b[0m \u001b[0;36m0\u001b[0m\u001b[0;34m\u001b[0m\u001b[0;34m\u001b[0m\u001b[0m\n\u001b[1;32m    926\u001b[0m         \u001b[0;32mwhile\u001b[0m \u001b[0mn\u001b[0m \u001b[0;34m>\u001b[0m \u001b[0;36m0\u001b[0m \u001b[0;32mand\u001b[0m \u001b[0;32mnot\u001b[0m \u001b[0mself\u001b[0m\u001b[0;34m.\u001b[0m\u001b[0m_eof\u001b[0m\u001b[0;34m:\u001b[0m\u001b[0;34m\u001b[0m\u001b[0;34m\u001b[0m\u001b[0m\n\u001b[0;32m--> 927\u001b[0;31m             \u001b[0mdata\u001b[0m \u001b[0;34m=\u001b[0m \u001b[0mself\u001b[0m\u001b[0;34m.\u001b[0m\u001b[0m_read1\u001b[0m\u001b[0;34m(\u001b[0m\u001b[0mn\u001b[0m\u001b[0;34m)\u001b[0m\u001b[0;34m\u001b[0m\u001b[0;34m\u001b[0m\u001b[0m\n\u001b[0m\u001b[1;32m    928\u001b[0m             \u001b[0;32mif\u001b[0m \u001b[0mn\u001b[0m \u001b[0;34m<\u001b[0m \u001b[0mlen\u001b[0m\u001b[0;34m(\u001b[0m\u001b[0mdata\u001b[0m\u001b[0;34m)\u001b[0m\u001b[0;34m:\u001b[0m\u001b[0;34m\u001b[0m\u001b[0;34m\u001b[0m\u001b[0m\n\u001b[1;32m    929\u001b[0m                 \u001b[0mself\u001b[0m\u001b[0;34m.\u001b[0m\u001b[0m_readbuffer\u001b[0m \u001b[0;34m=\u001b[0m \u001b[0mdata\u001b[0m\u001b[0;34m\u001b[0m\u001b[0;34m\u001b[0m\u001b[0m\n",
            "\u001b[0;32m/usr/lib/python3.10/zipfile.py\u001b[0m in \u001b[0;36m_read1\u001b[0;34m(self, n)\u001b[0m\n\u001b[1;32m    993\u001b[0m             \u001b[0mdata\u001b[0m \u001b[0;34m=\u001b[0m \u001b[0mself\u001b[0m\u001b[0;34m.\u001b[0m\u001b[0m_decompressor\u001b[0m\u001b[0;34m.\u001b[0m\u001b[0munconsumed_tail\u001b[0m\u001b[0;34m\u001b[0m\u001b[0;34m\u001b[0m\u001b[0m\n\u001b[1;32m    994\u001b[0m             \u001b[0;32mif\u001b[0m \u001b[0mn\u001b[0m \u001b[0;34m>\u001b[0m \u001b[0mlen\u001b[0m\u001b[0;34m(\u001b[0m\u001b[0mdata\u001b[0m\u001b[0;34m)\u001b[0m\u001b[0;34m:\u001b[0m\u001b[0;34m\u001b[0m\u001b[0;34m\u001b[0m\u001b[0m\n\u001b[0;32m--> 995\u001b[0;31m                 \u001b[0mdata\u001b[0m \u001b[0;34m+=\u001b[0m \u001b[0mself\u001b[0m\u001b[0;34m.\u001b[0m\u001b[0m_read2\u001b[0m\u001b[0;34m(\u001b[0m\u001b[0mn\u001b[0m \u001b[0;34m-\u001b[0m \u001b[0mlen\u001b[0m\u001b[0;34m(\u001b[0m\u001b[0mdata\u001b[0m\u001b[0;34m)\u001b[0m\u001b[0;34m)\u001b[0m\u001b[0;34m\u001b[0m\u001b[0;34m\u001b[0m\u001b[0m\n\u001b[0m\u001b[1;32m    996\u001b[0m         \u001b[0;32melse\u001b[0m\u001b[0;34m:\u001b[0m\u001b[0;34m\u001b[0m\u001b[0;34m\u001b[0m\u001b[0m\n\u001b[1;32m    997\u001b[0m             \u001b[0mdata\u001b[0m \u001b[0;34m=\u001b[0m \u001b[0mself\u001b[0m\u001b[0;34m.\u001b[0m\u001b[0m_read2\u001b[0m\u001b[0;34m(\u001b[0m\u001b[0mn\u001b[0m\u001b[0;34m)\u001b[0m\u001b[0;34m\u001b[0m\u001b[0;34m\u001b[0m\u001b[0m\n",
            "\u001b[0;32m/usr/lib/python3.10/zipfile.py\u001b[0m in \u001b[0;36m_read2\u001b[0;34m(self, n)\u001b[0m\n\u001b[1;32m   1025\u001b[0m         \u001b[0mn\u001b[0m \u001b[0;34m=\u001b[0m \u001b[0mmin\u001b[0m\u001b[0;34m(\u001b[0m\u001b[0mn\u001b[0m\u001b[0;34m,\u001b[0m \u001b[0mself\u001b[0m\u001b[0;34m.\u001b[0m\u001b[0m_compress_left\u001b[0m\u001b[0;34m)\u001b[0m\u001b[0;34m\u001b[0m\u001b[0;34m\u001b[0m\u001b[0m\n\u001b[1;32m   1026\u001b[0m \u001b[0;34m\u001b[0m\u001b[0m\n\u001b[0;32m-> 1027\u001b[0;31m         \u001b[0mdata\u001b[0m \u001b[0;34m=\u001b[0m \u001b[0mself\u001b[0m\u001b[0;34m.\u001b[0m\u001b[0m_fileobj\u001b[0m\u001b[0;34m.\u001b[0m\u001b[0mread\u001b[0m\u001b[0;34m(\u001b[0m\u001b[0mn\u001b[0m\u001b[0;34m)\u001b[0m\u001b[0;34m\u001b[0m\u001b[0;34m\u001b[0m\u001b[0m\n\u001b[0m\u001b[1;32m   1028\u001b[0m         \u001b[0mself\u001b[0m\u001b[0;34m.\u001b[0m\u001b[0m_compress_left\u001b[0m \u001b[0;34m-=\u001b[0m \u001b[0mlen\u001b[0m\u001b[0;34m(\u001b[0m\u001b[0mdata\u001b[0m\u001b[0;34m)\u001b[0m\u001b[0;34m\u001b[0m\u001b[0;34m\u001b[0m\u001b[0m\n\u001b[1;32m   1029\u001b[0m         \u001b[0;32mif\u001b[0m \u001b[0;32mnot\u001b[0m \u001b[0mdata\u001b[0m\u001b[0;34m:\u001b[0m\u001b[0;34m\u001b[0m\u001b[0;34m\u001b[0m\u001b[0m\n",
            "\u001b[0;32m/usr/lib/python3.10/zipfile.py\u001b[0m in \u001b[0;36mread\u001b[0;34m(self, n)\u001b[0m\n\u001b[1;32m    745\u001b[0m                         \"Close the writing handle before trying to read.\")\n\u001b[1;32m    746\u001b[0m             \u001b[0mself\u001b[0m\u001b[0;34m.\u001b[0m\u001b[0m_file\u001b[0m\u001b[0;34m.\u001b[0m\u001b[0mseek\u001b[0m\u001b[0;34m(\u001b[0m\u001b[0mself\u001b[0m\u001b[0;34m.\u001b[0m\u001b[0m_pos\u001b[0m\u001b[0;34m)\u001b[0m\u001b[0;34m\u001b[0m\u001b[0;34m\u001b[0m\u001b[0m\n\u001b[0;32m--> 747\u001b[0;31m             \u001b[0mdata\u001b[0m \u001b[0;34m=\u001b[0m \u001b[0mself\u001b[0m\u001b[0;34m.\u001b[0m\u001b[0m_file\u001b[0m\u001b[0;34m.\u001b[0m\u001b[0mread\u001b[0m\u001b[0;34m(\u001b[0m\u001b[0mn\u001b[0m\u001b[0;34m)\u001b[0m\u001b[0;34m\u001b[0m\u001b[0;34m\u001b[0m\u001b[0m\n\u001b[0m\u001b[1;32m    748\u001b[0m             \u001b[0mself\u001b[0m\u001b[0;34m.\u001b[0m\u001b[0m_pos\u001b[0m \u001b[0;34m=\u001b[0m \u001b[0mself\u001b[0m\u001b[0;34m.\u001b[0m\u001b[0m_file\u001b[0m\u001b[0;34m.\u001b[0m\u001b[0mtell\u001b[0m\u001b[0;34m(\u001b[0m\u001b[0;34m)\u001b[0m\u001b[0;34m\u001b[0m\u001b[0;34m\u001b[0m\u001b[0m\n\u001b[1;32m    749\u001b[0m             \u001b[0;32mreturn\u001b[0m \u001b[0mdata\u001b[0m\u001b[0;34m\u001b[0m\u001b[0;34m\u001b[0m\u001b[0m\n",
            "\u001b[0;31mOSError\u001b[0m: [Errno 28] No space left on device"
          ]
        }
      ],
      "source": [
        "import pandas as pd\n",
        "import matplotlib.pyplot as plt\n",
        "import seaborn as sns\n",
        "import plotly.express as px\n",
        "import matplotlib.pyplot as plt\n",
        "from statsmodels.graphics.mosaicplot import mosaic\n",
        "import cv2\n",
        "\n",
        "from google.colab import drive\n",
        "import pandas as pd\n",
        "import zipfile\n",
        "\n",
        "# Mount the Google Drive\n",
        "drive.mount('/content/drive')\n",
        "\n",
        "# Path to the zip file\n",
        "path_imgs = \"/content/drive/MyDrive/Proyecto-Data-Science/dfl-bundesliga-data-shootout.zip\"\n",
        "\n",
        "# Extract the zip file\n",
        "with zipfile.ZipFile(path_imgs, 'r') as zip_ref:\n",
        "    zip_ref.extractall('/content/')\n",
        "\n",
        "# Assuming the train.csv is directly inside the zip, read the CSV file\n",
        "df = pd.read_csv('/content/train.csv')\n",
        "\n",
        "# Visualizar las primeras y últimas filas\n",
        "print('Primeras Filas')\n",
        "print(df.head())\n",
        "print('\\n\\n\\nUltimas Filas')\n",
        "print(df.tail())\n"
      ],
      "id": "750f1b0e"
    },
    {
      "cell_type": "markdown",
      "metadata": {
        "id": "34569608"
      },
      "source": [
        "# 2.Valores Faltantes"
      ],
      "id": "34569608"
    },
    {
      "cell_type": "code",
      "execution_count": null,
      "metadata": {
        "id": "fIkPAgeomB1L"
      },
      "outputs": [],
      "source": [
        "df.event.value_counts()"
      ],
      "id": "fIkPAgeomB1L"
    },
    {
      "cell_type": "code",
      "execution_count": null,
      "metadata": {
        "id": "fefd99e2"
      },
      "outputs": [],
      "source": [
        "# Valores faltantes\n",
        "print(df.isnull().sum())"
      ],
      "id": "fefd99e2"
    },
    {
      "cell_type": "code",
      "execution_count": null,
      "metadata": {
        "id": "ugolNAg5nBkl"
      },
      "outputs": [],
      "source": [
        "fig_1 = px.bar(df,x='event',y='video_id',\n",
        "             color='event_attributes',title = 'Event and Event attributes types')\n",
        "fig_1.show()"
      ],
      "id": "ugolNAg5nBkl"
    },
    {
      "cell_type": "code",
      "execution_count": null,
      "metadata": {
        "id": "TROeBdCenM0D"
      },
      "outputs": [],
      "source": [
        "Crosstable = pd.crosstab(df['event'], df['event_attributes'])\n",
        "Crosstable.style.background_gradient(cmap='Greens')"
      ],
      "id": "TROeBdCenM0D"
    },
    {
      "cell_type": "code",
      "execution_count": null,
      "metadata": {
        "id": "63ZtjrSnv-VF"
      },
      "outputs": [],
      "source": [
        "fig_0 = px.bar(df['video_id'].value_counts(),text_auto='.2s', orientation='h',\\\n",
        "               title='Number of events for each video')\n",
        "fig_0.show()\n"
      ],
      "id": "63ZtjrSnv-VF"
    },
    {
      "cell_type": "code",
      "source": [
        "Crosstable = pd.crosstab(df['event'], df['event_attributes'])\n",
        "Crosstable.style.background_gradient(cmap='Greens')"
      ],
      "metadata": {
        "id": "uEAuOuYYxfmu"
      },
      "id": "uEAuOuYYxfmu",
      "execution_count": null,
      "outputs": []
    },
    {
      "cell_type": "code",
      "source": [
        "fig_2 = px.bar(df,x='video_id',y='event',\n",
        "             color='event',title = 'Event types throw videos')\n",
        "fig_2.show()"
      ],
      "metadata": {
        "id": "SjRUyxGLxjvw"
      },
      "id": "SjRUyxGLxjvw",
      "execution_count": null,
      "outputs": []
    },
    {
      "cell_type": "code",
      "source": [
        "fig_3 = px.bar(df.query('event not in [\"start\",\"end\"]')\\\n",
        "    .groupby('video_id')['event'].value_counts().unstack(),orientation='h')\n",
        "fig_3.show()"
      ],
      "metadata": {
        "id": "0cLTR-QOxrum"
      },
      "id": "0cLTR-QOxrum",
      "execution_count": null,
      "outputs": []
    },
    {
      "cell_type": "markdown",
      "metadata": {
        "id": "65844aac"
      },
      "source": [
        "# 3. Distribución de los Eventos y Atributos"
      ],
      "id": "65844aac"
    },
    {
      "cell_type": "code",
      "execution_count": null,
      "metadata": {
        "id": "d0399c59"
      },
      "outputs": [],
      "source": [
        "# Distribución de eventos\n",
        "sns.countplot(data=df, x='event')\n",
        "plt.title('Distribución de Eventos')\n",
        "plt.show()\n",
        "\n",
        "# Distribución de atributos (10 más comunes, debido a la variedad)\n",
        "top_attributes = df['event_attributes'].value_counts().head(10)\n",
        "top_attributes.plot(kind='bar', color='lightgreen')\n",
        "plt.title('Top 10 Atributos de Eventos')\n",
        "plt.xticks(rotation=45, ha='right')\n",
        "plt.tight_layout()\n",
        "plt.show()\n"
      ],
      "id": "d0399c59"
    },
    {
      "cell_type": "markdown",
      "metadata": {
        "id": "57553c2a"
      },
      "source": [
        "# 4. Distribución del Tiempo"
      ],
      "id": "57553c2a"
    },
    {
      "cell_type": "code",
      "execution_count": null,
      "metadata": {
        "id": "626304e2"
      },
      "outputs": [],
      "source": [
        "# Histograma del tiempo\n",
        "sns.histplot(df['time'], kde=True, bins=50)\n",
        "plt.title('Distribución del Tiempo de Eventos')\n",
        "plt.show()\n"
      ],
      "id": "626304e2"
    },
    {
      "cell_type": "markdown",
      "metadata": {
        "id": "291aca31"
      },
      "source": [
        "# 5. Relaciones entre las Variables"
      ],
      "id": "291aca31"
    },
    {
      "cell_type": "code",
      "execution_count": null,
      "metadata": {
        "id": "98acfbc5"
      },
      "outputs": [],
      "source": [
        "# Boxplot del tiempo agrupado por eventos\n",
        "sns.boxplot(data=df, x='event', y='time')\n",
        "plt.title('Distribución del Tiempo por Evento')\n",
        "plt.show()\n"
      ],
      "id": "98acfbc5"
    },
    {
      "cell_type": "markdown",
      "metadata": {
        "id": "bd7a0f2d"
      },
      "source": [
        "# 6. Patrones en Atributos según Eventos#"
      ],
      "id": "bd7a0f2d"
    },
    {
      "cell_type": "code",
      "execution_count": null,
      "metadata": {
        "id": "1431ea1f"
      },
      "outputs": [],
      "source": [
        "# Limpiar la columna 'event_attributes'\n",
        "df['event_attributes'] = df['event_attributes'].str.replace(\"[\", \"\").str.replace(\"]\", \"\").str.strip()\n",
        "\n",
        "# Convertir 'event_attributes' en una lista y expandirla\n",
        "df_expanded = df.assign(event_attributes=df['event_attributes'].str.split(',')).explode('event_attributes')\n",
        "\n",
        "# Limpiar espacios adicionales que pueden haber quedado alrededor de los atributos después de dividir\n",
        "df_expanded['event_attributes'] = df_expanded['event_attributes'].str.strip(\"'\").str.strip()\n",
        "\n",
        "# Visualizar la frecuencia de atributos por tipo de evento\n",
        "plt.figure(figsize=(15, 7))\n",
        "sns.countplot(data=df_expanded, x='event_attributes', hue='event', order=df_expanded['event_attributes'].value_counts().index)\n",
        "plt.title('Frecuencia de Atributos por Tipo de Evento')\n",
        "plt.xticks(rotation=45, ha='right')\n",
        "plt.tight_layout()\n",
        "plt.show()\n"
      ],
      "id": "1431ea1f"
    },
    {
      "cell_type": "markdown",
      "metadata": {
        "id": "4007390e"
      },
      "source": [
        "# 7. Análisis de Secuencias"
      ],
      "id": "4007390e"
    },
    {
      "cell_type": "code",
      "execution_count": null,
      "metadata": {
        "id": "f17b5f23"
      },
      "outputs": [],
      "source": [
        "# Generar secuencias de eventos y contarlas\n",
        "df['next_event'] = df['event'].shift(-1)\n",
        "sequences = df[df['event'] == 'start']['next_event'].value_counts()\n",
        "print(sequences)\n",
        "\n",
        "# Visualización\n",
        "sequences.plot(kind='bar', color='lightblue')\n",
        "plt.title('Eventos más Comunes después de \"start\"')\n",
        "plt.xticks(rotation=45, ha='right')\n",
        "plt.tight_layout()\n",
        "plt.show()\n"
      ],
      "id": "f17b5f23"
    },
    {
      "cell_type": "code",
      "execution_count": null,
      "metadata": {
        "id": "4wcNiEuSneFZ"
      },
      "outputs": [],
      "source": [
        "df['time_end'] = df.time.shift(-1)"
      ],
      "id": "4wcNiEuSneFZ"
    },
    {
      "cell_type": "code",
      "execution_count": null,
      "metadata": {
        "id": "Kwo5rxR-nh7N"
      },
      "outputs": [],
      "source": [
        "df['time_start'] = df.time.shift(1)"
      ],
      "id": "Kwo5rxR-nh7N"
    },
    {
      "cell_type": "code",
      "execution_count": null,
      "metadata": {
        "id": "fZ-s5SVwnk8s"
      },
      "outputs": [],
      "source": [
        "df = df.dropna(subset=['event_attributes'])"
      ],
      "id": "fZ-s5SVwnk8s"
    },
    {
      "cell_type": "code",
      "execution_count": null,
      "metadata": {
        "id": "jObLcCxLno_F"
      },
      "outputs": [],
      "source": [
        "df = df.reset_index().drop(columns=['index'])"
      ],
      "id": "jObLcCxLno_F"
    },
    {
      "cell_type": "code",
      "execution_count": null,
      "metadata": {
        "id": "6b5663ea"
      },
      "outputs": [],
      "source": [
        "# Visualizar las primeras y últimas filas\n",
        "print('Primeras Filas')\n",
        "print(df.head())\n",
        "print('\\n\\n\\nUltimas Filas')\n",
        "print(df.tail())"
      ],
      "id": "6b5663ea"
    },
    {
      "cell_type": "code",
      "execution_count": null,
      "metadata": {
        "id": "gYNxRjaUn08A"
      },
      "outputs": [],
      "source": [
        "df.shape"
      ],
      "id": "gYNxRjaUn08A"
    },
    {
      "cell_type": "code",
      "source": [
        "sub = pd.read_csv('../input/dfl-bundesliga-data-shootout/sample_submission.csv')\n",
        "sub.head()"
      ],
      "metadata": {
        "id": "zukJsSAPx6pX"
      },
      "id": "zukJsSAPx6pX",
      "execution_count": null,
      "outputs": []
    },
    {
      "cell_type": "code",
      "source": [
        "fig_4 = px.bar(sub,x='event',y='video_id',color = 'event',title = 'Event types and the score')\n",
        "fig_4.show()"
      ],
      "metadata": {
        "id": "dagnMPpxx7tt"
      },
      "id": "dagnMPpxx7tt",
      "execution_count": null,
      "outputs": []
    },
    {
      "cell_type": "code",
      "source": [
        "# look at a data for one video\n",
        "sub.query('video_id ==\"019d5b34_0\"& event not in [\"start\",\"end\"]')"
      ],
      "metadata": {
        "id": "bDyDWvsMyAr_"
      },
      "id": "bDyDWvsMyAr_",
      "execution_count": null,
      "outputs": []
    },
    {
      "cell_type": "code",
      "source": [
        "#Code by Baris Dincer https://www.kaggle.com/brsdincer/human-evolution-process-dcgan/notebook\n",
        "def video_list(Video_Path):\n",
        "    Video_IMG_List = []\n",
        "\n",
        "    Video_Cap = cv2.VideoCapture(Video_Path)\n",
        "\n",
        "\n",
        "    while Video_Cap.isOpened():\n",
        "\n",
        "\n",
        "        ret,frame = Video_Cap.read()\n",
        "\n",
        "        if ret != True:\n",
        "            break\n",
        "\n",
        "        if Video_Cap.isOpened():\n",
        "            Transformation_IMG = cv2.cvtColor(frame,cv2.COLOR_BGR2RGB)\n",
        "            Resize_IMG = cv2.resize(Transformation_IMG,(180,180))\n",
        "            Video_IMG_List.append(Resize_IMG)\n",
        "\n",
        "\n",
        "    Video_Cap.release()\n",
        "    return Video_IMG_List"
      ],
      "metadata": {
        "id": "e_kpT-aNyCLq"
      },
      "id": "e_kpT-aNyCLq",
      "execution_count": null,
      "outputs": []
    },
    {
      "cell_type": "code",
      "source": [
        "video_file = '../input/dfl-bundesliga-data-shootout/test/019d5b34_0.mp4'\n",
        "video_one_list = video_list(video_file)"
      ],
      "metadata": {
        "id": "hXzitXkLyESL"
      },
      "id": "hXzitXkLyESL",
      "execution_count": null,
      "outputs": []
    },
    {
      "cell_type": "code",
      "source": [
        "print(np.shape(np.asarray(video_one_list)))"
      ],
      "metadata": {
        "id": "LaMUharsyGQc"
      },
      "id": "LaMUharsyGQc",
      "execution_count": null,
      "outputs": []
    },
    {
      "cell_type": "code",
      "source": [
        "figure = plt.figure(figsize=(8,8))\n",
        "\n",
        "Pick_IMG = video_one_list[100]\n",
        "plt.xlabel(Pick_IMG.shape)\n",
        "plt.ylabel(Pick_IMG.size)\n",
        "plt.imshow(Pick_IMG);"
      ],
      "metadata": {
        "id": "mLdIT0UQyHtt"
      },
      "id": "mLdIT0UQyHtt",
      "execution_count": null,
      "outputs": []
    },
    {
      "cell_type": "code",
      "source": [
        "fig,axis = plt.subplots(4,4,figsize=(10,10))\n",
        "\n",
        "for i,ax in enumerate(axis.flat):\n",
        "\n",
        "    IMG_From_List = video_one_list[i]\n",
        "    ax.set_xlabel(IMG_From_List.shape)\n",
        "    ax.imshow(IMG_From_List)\n",
        "\n",
        "plt.tight_layout()\n",
        "plt.show()"
      ],
      "metadata": {
        "id": "nzlOqYhXyI7J"
      },
      "id": "nzlOqYhXyI7J",
      "execution_count": null,
      "outputs": []
    },
    {
      "cell_type": "code",
      "source": [
        "# reference : https://www.kaggle.com/coldfir3/eda-helmet-keypoint-tracking-data-comparison\n",
        "import PIL.Image\n",
        "def get_frame_from_video(video_path, frame):\n",
        "    video_path = video_path\n",
        "    frame = frame - 1\n",
        "\n",
        "    !ffmpeg \\\n",
        "        -hide_banner \\\n",
        "        -loglevel fatal \\\n",
        "        -nostats \\\n",
        "        -i $video_path -vf \"select=eq(n\\,$frame)\" -vframes 1 frame.jpg\n",
        "\n",
        "    img = PIL.Image.open('frame.jpg')#StackOverflow https://stackoverflow.com/questions/10748822/img-image-openfp-attributeerror-class-image-has-no-attribute-open\n",
        "    os.remove('frame.jpg')\n",
        "    return img"
      ],
      "metadata": {
        "id": "qKlgwDJsyK3i"
      },
      "id": "qKlgwDJsyK3i",
      "execution_count": null,
      "outputs": []
    },
    {
      "cell_type": "code",
      "source": [
        "get_frame_from_video('../input/dfl-bundesliga-data-shootout/test/019d5b34_0.mp4', 110)"
      ],
      "metadata": {
        "id": "snsovDXeyNCX"
      },
      "id": "snsovDXeyNCX",
      "execution_count": null,
      "outputs": []
    },
    {
      "cell_type": "code",
      "source": [
        "#Code by Ducky https://www.kaggle.com/code/illgamhoduck/nfl-starter-eda\n",
        "\n",
        "from IPython.display import Video, display\n",
        "\n",
        "def video(video_path, ratio=0.7):\n",
        "    nfl_video = Video(video_path,\n",
        "                      embed=True,\n",
        "                      height=int(720 * ratio),\n",
        "                      width=int(1280 * ratio))\n",
        "    return nfl_video\n",
        "\n",
        "video('../input/dfl-bundesliga-data-shootout/test/019d5b34_0.mp4')"
      ],
      "metadata": {
        "id": "tYGfzC0pyO6l"
      },
      "id": "tYGfzC0pyO6l",
      "execution_count": null,
      "outputs": []
    },
    {
      "cell_type": "markdown",
      "metadata": {
        "id": "1ZE9CuTDn5C1"
      },
      "source": [
        "# 8. Split the los juegos completos en videos pequeños que despues de eso serán convertidos en frames"
      ],
      "id": "1ZE9CuTDn5C1"
    },
    {
      "cell_type": "code",
      "execution_count": null,
      "metadata": {
        "id": "3YwqwH1ooIKV"
      },
      "outputs": [],
      "source": [
        "!pip install moviepy"
      ],
      "id": "3YwqwH1ooIKV"
    },
    {
      "cell_type": "code",
      "execution_count": null,
      "metadata": {
        "id": "wRW4tKPYrD7u"
      },
      "outputs": [],
      "source": [
        "from moviepy.video.io.ffmpeg_tools import ffmpeg_extract_subclip\n",
        "import shutil\n",
        "import os\n",
        "\n",
        "for index, row in df.iterrows():\n",
        "    video_name = row['event'] + \"_\" + row['video_id'] + \"_\" + str(row['time_start']) + \"_\" + str(row['time_end']) + \".mp4\"\n",
        "    ffmpeg_extract_subclip(\"train/\" + row['video_id'] + \".mp4\", row['time_start'], row['time_end'], targetname= video_name)\n",
        "    shutil.move(os.path.abspath(video_name), \"train/\" + row['event'])"
      ],
      "id": "wRW4tKPYrD7u"
    }
  ],
  "metadata": {
    "colab": {
      "provenance": [],
      "gpuType": "T4",
      "include_colab_link": true
    },
    "kernelspec": {
      "display_name": "Python 3",
      "name": "python3"
    },
    "language_info": {
      "codemirror_mode": {
        "name": "ipython",
        "version": 3
      },
      "file_extension": ".py",
      "mimetype": "text/x-python",
      "name": "python",
      "nbconvert_exporter": "python",
      "pygments_lexer": "ipython3",
      "version": "3.10.11"
    },
    "accelerator": "GPU"
  },
  "nbformat": 4,
  "nbformat_minor": 5
}