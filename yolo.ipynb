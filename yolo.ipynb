{
 "cells": [
  {
   "cell_type": "code",
   "execution_count": 11,
   "metadata": {},
   "outputs": [],
   "source": [
    "import os\n",
    "import shutil\n",
    "from sklearn.model_selection import train_test_split\n",
    "\n",
    "# Rutas originales\n",
    "src_dir = './dataset/'\n",
    "classes = ['challenge', 'play', 'throwin']\n",
    "\n",
    "# Directorios de destino\n",
    "dst_dir = './reorganized_dataset/'\n",
    "train_dir = os.path.join(dst_dir, 'train', 'images')\n",
    "val_dir = os.path.join(dst_dir, 'validation', 'images')\n",
    "\n",
    "# Crear las estructuras de directorios necesarias\n",
    "os.makedirs(train_dir, exist_ok=True)\n",
    "os.makedirs(val_dir, exist_ok=True)\n",
    "\n",
    "# Dividir los datos en conjuntos de entrenamiento y validación y mover las imágenes\n",
    "for class_name in classes:\n",
    "    # Lista de todas las imágenes de la clase actual\n",
    "    images_list = [f for f in os.listdir(os.path.join(src_dir, class_name)) if os.path.isfile(os.path.join(src_dir, class_name, f))]\n",
    "    \n",
    "    # Dividir la lista de imágenes en conjuntos de entrenamiento y validación\n",
    "    train_list, val_list = train_test_split(images_list, test_size=0.2, random_state=42)\n",
    "    \n",
    "    # Mover las imágenes al directorio correspondiente\n",
    "    for image in train_list:\n",
    "        src_path = os.path.join(src_dir, class_name, image)\n",
    "        dst_path = os.path.join(train_dir, class_name + \"_\" + image)  # Renombrar para evitar conflictos\n",
    "        shutil.copy(src_path, dst_path)\n",
    "        \n",
    "    for image in val_list:\n",
    "        src_path = os.path.join(src_dir, class_name, image)\n",
    "        dst_path = os.path.join(val_dir, class_name + \"_\" + image)  # Renombrar para evitar conflictos\n",
    "        shutil.copy(src_path, dst_path)\n"
   ]
  },
  {
   "cell_type": "code",
   "execution_count": 14,
   "metadata": {},
   "outputs": [
    {
     "name": "stdout",
     "output_type": "stream",
     "text": [
      "Class 'challenge': 183 images found.\n",
      "Class 'play': 183 images found.\n",
      "Class 'throwin': 183 images found.\n"
     ]
    }
   ],
   "source": [
    "import os\n",
    "\n",
    "data_directory = \"./dataset/\"\n",
    "classes = [\"challenge\", \"play\", \"throwin\"]\n",
    "\n",
    "for cls in classes:\n",
    "    class_dir = os.path.join(data_directory, cls)\n",
    "    images = [f for f in os.listdir(class_dir) if os.path.isfile(os.path.join(class_dir, f))]\n",
    "    print(f\"Class '{cls}': {len(images)} images found.\")"
   ]
  },
  {
   "cell_type": "code",
   "execution_count": 13,
   "metadata": {},
   "outputs": [
    {
     "name": "stderr",
     "output_type": "stream",
     "text": [
      "c:\\Users\\juanc\\AppData\\Local\\Programs\\Python\\Python39\\lib\\site-packages\\numpy\\core\\_methods.py:206: RuntimeWarning: Degrees of freedom <= 0 for slice\n",
      "  ret = _var(a, axis=axis, dtype=dtype, out=out, ddof=ddof,\n",
      "c:\\Users\\juanc\\AppData\\Local\\Programs\\Python\\Python39\\lib\\site-packages\\numpy\\core\\_methods.py:163: RuntimeWarning: invalid value encountered in divide\n",
      "  arrmean = um.true_divide(arrmean, div, out=arrmean,\n",
      "c:\\Users\\juanc\\AppData\\Local\\Programs\\Python\\Python39\\lib\\site-packages\\numpy\\core\\_methods.py:195: RuntimeWarning: invalid value encountered in divide\n",
      "  ret = um.true_divide(\n"
     ]
    },
    {
     "ename": "ValueError",
     "evalue": "a must be greater than 0 unless no samples are taken",
     "output_type": "error",
     "traceback": [
      "\u001b[1;31m---------------------------------------------------------------------------\u001b[0m",
      "\u001b[1;31mValueError\u001b[0m                                Traceback (most recent call last)",
      "\u001b[1;32mc:\\Users\\juanc\\Desktop\\UVG\\Clases\\Data_Science\\Proyecto-Data-Science\\yolo.ipynb Cell 2\u001b[0m line \u001b[0;36m1\n\u001b[0;32m      <a href='vscode-notebook-cell:/c%3A/Users/juanc/Desktop/UVG/Clases/Data_Science/Proyecto-Data-Science/yolo.ipynb#X12sZmlsZQ%3D%3D?line=6'>7</a>\u001b[0m \u001b[39m# Nota: Asegúrate de tener los modelos preentrenados de PyTorch (.pt o .pth) si deseas usar uno.\u001b[39;00m\n\u001b[0;32m      <a href='vscode-notebook-cell:/c%3A/Users/juanc/Desktop/UVG/Clases/Data_Science/Proyecto-Data-Science/yolo.ipynb#X12sZmlsZQ%3D%3D?line=7'>8</a>\u001b[0m \u001b[39m# Si decides entrenar desde cero, simplemente omite el parámetro 'train_from_pretrained_model'.\u001b[39;00m\n\u001b[0;32m     <a href='vscode-notebook-cell:/c%3A/Users/juanc/Desktop/UVG/Clases/Data_Science/Proyecto-Data-Science/yolo.ipynb#X12sZmlsZQ%3D%3D?line=9'>10</a>\u001b[0m trainer\u001b[39m.\u001b[39msetTrainConfig(\n\u001b[0;32m     <a href='vscode-notebook-cell:/c%3A/Users/juanc/Desktop/UVG/Clases/Data_Science/Proyecto-Data-Science/yolo.ipynb#X12sZmlsZQ%3D%3D?line=10'>11</a>\u001b[0m     object_names_array\u001b[39m=\u001b[39m[\u001b[39m\"\u001b[39m\u001b[39mchallenge\u001b[39m\u001b[39m\"\u001b[39m, \u001b[39m\"\u001b[39m\u001b[39mplay\u001b[39m\u001b[39m\"\u001b[39m, \u001b[39m\"\u001b[39m\u001b[39mthrowin\u001b[39m\u001b[39m\"\u001b[39m], \n\u001b[0;32m     <a href='vscode-notebook-cell:/c%3A/Users/juanc/Desktop/UVG/Clases/Data_Science/Proyecto-Data-Science/yolo.ipynb#X12sZmlsZQ%3D%3D?line=11'>12</a>\u001b[0m     batch_size\u001b[39m=\u001b[39m\u001b[39m4\u001b[39m, \n\u001b[0;32m     <a href='vscode-notebook-cell:/c%3A/Users/juanc/Desktop/UVG/Clases/Data_Science/Proyecto-Data-Science/yolo.ipynb#X12sZmlsZQ%3D%3D?line=12'>13</a>\u001b[0m     num_experiments\u001b[39m=\u001b[39m\u001b[39m50\u001b[39m, \n\u001b[0;32m     <a href='vscode-notebook-cell:/c%3A/Users/juanc/Desktop/UVG/Clases/Data_Science/Proyecto-Data-Science/yolo.ipynb#X12sZmlsZQ%3D%3D?line=13'>14</a>\u001b[0m     \u001b[39m# train_from_pretrained_model=\"pretrained-yolov3.pt\"  # Omitir si se entrena desde cero\u001b[39;00m\n\u001b[0;32m     <a href='vscode-notebook-cell:/c%3A/Users/juanc/Desktop/UVG/Clases/Data_Science/Proyecto-Data-Science/yolo.ipynb#X12sZmlsZQ%3D%3D?line=14'>15</a>\u001b[0m )\n\u001b[1;32m---> <a href='vscode-notebook-cell:/c%3A/Users/juanc/Desktop/UVG/Clases/Data_Science/Proyecto-Data-Science/yolo.ipynb#X12sZmlsZQ%3D%3D?line=15'>16</a>\u001b[0m trainer\u001b[39m.\u001b[39;49mtrainModel()\n",
      "File \u001b[1;32mc:\\Users\\juanc\\AppData\\Local\\Programs\\Python\\Python39\\lib\\site-packages\\imageai\\Detection\\Custom\\__init__.py:229\u001b[0m, in \u001b[0;36mDetectionModelTrainer.trainModel\u001b[1;34m(self)\u001b[0m\n\u001b[0;32m    225\u001b[0m prev_save_name, recent_save_name \u001b[39m=\u001b[39m \u001b[39m\"\u001b[39m\u001b[39m\"\u001b[39m, \u001b[39m\"\u001b[39m\u001b[39m\"\u001b[39m\n\u001b[0;32m    227\u001b[0m accumulate \u001b[39m=\u001b[39m \u001b[39mmax\u001b[39m(\u001b[39mround\u001b[39m(nbs \u001b[39m/\u001b[39m \u001b[39mself\u001b[39m\u001b[39m.\u001b[39m__mini_batch_size), \u001b[39m1\u001b[39m) \u001b[39m# accumulate loss before optimizing.\u001b[39;00m\n\u001b[1;32m--> 229\u001b[0m \u001b[39mself\u001b[39;49m\u001b[39m.\u001b[39;49m__set_training_param(\u001b[39mself\u001b[39;49m\u001b[39m.\u001b[39;49m__epochs, accumulate)\n\u001b[0;32m    231\u001b[0m \u001b[39mwith\u001b[39;00m \u001b[39mopen\u001b[39m(os\u001b[39m.\u001b[39mpath\u001b[39m.\u001b[39mjoin(\u001b[39mself\u001b[39m\u001b[39m.\u001b[39m__output_json_dir, \u001b[39mf\u001b[39m\u001b[39m\"\u001b[39m\u001b[39m{\u001b[39;00m\u001b[39mself\u001b[39m\u001b[39m.\u001b[39m__dataset_name\u001b[39m}\u001b[39;00m\u001b[39m_\u001b[39m\u001b[39m{\u001b[39;00m\u001b[39mself\u001b[39m\u001b[39m.\u001b[39m__model_type\u001b[39m}\u001b[39;00m\u001b[39m_detection_config.json\u001b[39m\u001b[39m\"\u001b[39m), \u001b[39m\"\u001b[39m\u001b[39mw\u001b[39m\u001b[39m\"\u001b[39m) \u001b[39mas\u001b[39;00m configWriter:\n\u001b[0;32m    232\u001b[0m     json\u001b[39m.\u001b[39mdump(\n\u001b[0;32m    233\u001b[0m         {\n\u001b[0;32m    234\u001b[0m             \u001b[39m\"\u001b[39m\u001b[39mlabels\u001b[39m\u001b[39m\"\u001b[39m: \u001b[39mself\u001b[39m\u001b[39m.\u001b[39m__classes,\n\u001b[1;32m   (...)\u001b[0m\n\u001b[0;32m    237\u001b[0m         configWriter\n\u001b[0;32m    238\u001b[0m     )\n",
      "File \u001b[1;32mc:\\Users\\juanc\\AppData\\Local\\Programs\\Python\\Python39\\lib\\site-packages\\imageai\\Detection\\Custom\\__init__.py:62\u001b[0m, in \u001b[0;36mDetectionModelTrainer.__set_training_param\u001b[1;34m(self, epochs, accumulate)\u001b[0m\n\u001b[0;32m     59\u001b[0m \u001b[39mdef\u001b[39;00m \u001b[39m__set_training_param\u001b[39m(\u001b[39mself\u001b[39m, epochs : \u001b[39mint\u001b[39m, accumulate : \u001b[39mint\u001b[39m) \u001b[39m-\u001b[39m\u001b[39m>\u001b[39m \u001b[39mNone\u001b[39;00m:\n\u001b[0;32m     60\u001b[0m     \u001b[39m# self.__lr_lambda = lambda x : ((1 - math.cos(x * math.pi / epochs)) / 2  ) * (0.1 - 1.0) + 1.0\u001b[39;00m\n\u001b[0;32m     61\u001b[0m     \u001b[39mself\u001b[39m\u001b[39m.\u001b[39m__lr_lambda \u001b[39m=\u001b[39m \u001b[39mlambda\u001b[39;00m x: (\u001b[39m1\u001b[39m \u001b[39m-\u001b[39m x \u001b[39m/\u001b[39m (epochs \u001b[39m-\u001b[39m \u001b[39m1\u001b[39m)) \u001b[39m*\u001b[39m (\u001b[39m1.0\u001b[39m \u001b[39m-\u001b[39m \u001b[39m0.01\u001b[39m) \u001b[39m+\u001b[39m \u001b[39m0.01\u001b[39m\n\u001b[1;32m---> 62\u001b[0m     \u001b[39mself\u001b[39m\u001b[39m.\u001b[39m__anchors \u001b[39m=\u001b[39m generate_anchors(\n\u001b[0;32m     63\u001b[0m                             \u001b[39mself\u001b[39;49m\u001b[39m.\u001b[39;49m__custom_train_dataset,\n\u001b[0;32m     64\u001b[0m                             n\u001b[39m=\u001b[39;49m\u001b[39m9\u001b[39;49m \u001b[39mif\u001b[39;49;00m \u001b[39mself\u001b[39;49m\u001b[39m.\u001b[39;49m__model_type\u001b[39m==\u001b[39;49m\u001b[39m\"\u001b[39;49m\u001b[39myolov3\u001b[39;49m\u001b[39m\"\u001b[39;49m \u001b[39melse\u001b[39;49;00m \u001b[39m6\u001b[39;49m\n\u001b[0;32m     65\u001b[0m                         )\n\u001b[0;32m     66\u001b[0m     \u001b[39mself\u001b[39m\u001b[39m.\u001b[39m__anchors \u001b[39m=\u001b[39m [\u001b[39mround\u001b[39m(i) \u001b[39mfor\u001b[39;00m i \u001b[39min\u001b[39;00m \u001b[39mself\u001b[39m\u001b[39m.\u001b[39m__anchors\u001b[39m.\u001b[39mreshape(\u001b[39m-\u001b[39m\u001b[39m1\u001b[39m)\u001b[39m.\u001b[39mtolist()]\n\u001b[0;32m     67\u001b[0m     \u001b[39mif\u001b[39;00m \u001b[39mself\u001b[39m\u001b[39m.\u001b[39m__model_type \u001b[39m==\u001b[39m \u001b[39m\"\u001b[39m\u001b[39myolov3\u001b[39m\u001b[39m\"\u001b[39m:\n",
      "File \u001b[1;32mc:\\Users\\juanc\\AppData\\Local\\Programs\\Python\\Python39\\lib\\site-packages\\imageai\\Detection\\Custom\\yolo\\custom_anchors.py:58\u001b[0m, in \u001b[0;36mgenerate_anchors\u001b[1;34m(dataset, n, img_size, thr, gen, verbose)\u001b[0m\n\u001b[0;32m     54\u001b[0m \u001b[39m# wh = wh * (np.random.rand(wh.shape[0], 1) * 0.9 + 0.1)  # multiply by random scale 0-1\u001b[39;00m\n\u001b[0;32m     55\u001b[0m \n\u001b[0;32m     56\u001b[0m \u001b[39m# Kmeans calculation\u001b[39;00m\n\u001b[0;32m     57\u001b[0m s \u001b[39m=\u001b[39m wh\u001b[39m.\u001b[39mstd(\u001b[39m0\u001b[39m)  \u001b[39m# sigmas for whitening\u001b[39;00m\n\u001b[1;32m---> 58\u001b[0m k, dist \u001b[39m=\u001b[39m kmeans(wh \u001b[39m/\u001b[39;49m s, n, \u001b[39miter\u001b[39;49m\u001b[39m=\u001b[39;49m\u001b[39m30\u001b[39;49m)  \u001b[39m# points, mean distance\u001b[39;00m\n\u001b[0;32m     59\u001b[0m \u001b[39massert\u001b[39;00m \u001b[39mlen\u001b[39m(k) \u001b[39m==\u001b[39m n, \u001b[39mf\u001b[39m\u001b[39m'\u001b[39m\u001b[39mERROR: scipy.cluster.vq.kmeans requested \u001b[39m\u001b[39m{\u001b[39;00mn\u001b[39m}\u001b[39;00m\u001b[39m points but returned only \u001b[39m\u001b[39m{\u001b[39;00m\u001b[39mlen\u001b[39m(k)\u001b[39m}\u001b[39;00m\u001b[39m'\u001b[39m\n\u001b[0;32m     60\u001b[0m k \u001b[39m*\u001b[39m\u001b[39m=\u001b[39m s\n",
      "File \u001b[1;32mc:\\Users\\juanc\\AppData\\Local\\Programs\\Python\\Python39\\lib\\site-packages\\scipy\\cluster\\vq.py:475\u001b[0m, in \u001b[0;36mkmeans\u001b[1;34m(obs, k_or_guess, iter, thresh, check_finite, seed)\u001b[0m\n\u001b[0;32m    472\u001b[0m best_dist \u001b[39m=\u001b[39m np\u001b[39m.\u001b[39minf\n\u001b[0;32m    473\u001b[0m \u001b[39mfor\u001b[39;00m i \u001b[39min\u001b[39;00m \u001b[39mrange\u001b[39m(\u001b[39miter\u001b[39m):\n\u001b[0;32m    474\u001b[0m     \u001b[39m# the initial code book is randomly selected from observations\u001b[39;00m\n\u001b[1;32m--> 475\u001b[0m     guess \u001b[39m=\u001b[39m _kpoints(obs, k, rng)\n\u001b[0;32m    476\u001b[0m     book, dist \u001b[39m=\u001b[39m _kmeans(obs, guess, thresh\u001b[39m=\u001b[39mthresh)\n\u001b[0;32m    477\u001b[0m     \u001b[39mif\u001b[39;00m dist \u001b[39m<\u001b[39m best_dist:\n",
      "File \u001b[1;32mc:\\Users\\juanc\\AppData\\Local\\Programs\\Python\\Python39\\lib\\site-packages\\scipy\\cluster\\vq.py:503\u001b[0m, in \u001b[0;36m_kpoints\u001b[1;34m(data, k, rng)\u001b[0m\n\u001b[0;32m    483\u001b[0m \u001b[39mdef\u001b[39;00m \u001b[39m_kpoints\u001b[39m(data, k, rng):\n\u001b[0;32m    484\u001b[0m \u001b[39m    \u001b[39m\u001b[39m\"\"\"Pick k points at random in data (one row = one observation).\u001b[39;00m\n\u001b[0;32m    485\u001b[0m \n\u001b[0;32m    486\u001b[0m \u001b[39m    Parameters\u001b[39;00m\n\u001b[1;32m   (...)\u001b[0m\n\u001b[0;32m    501\u001b[0m \n\u001b[0;32m    502\u001b[0m \u001b[39m    \"\"\"\u001b[39;00m\n\u001b[1;32m--> 503\u001b[0m     idx \u001b[39m=\u001b[39m rng\u001b[39m.\u001b[39;49mchoice(data\u001b[39m.\u001b[39;49mshape[\u001b[39m0\u001b[39;49m], size\u001b[39m=\u001b[39;49mk, replace\u001b[39m=\u001b[39;49m\u001b[39mFalse\u001b[39;49;00m)\n\u001b[0;32m    504\u001b[0m     \u001b[39mreturn\u001b[39;00m data[idx]\n",
      "File \u001b[1;32mnumpy\\\\random\\\\mtrand.pyx:944\u001b[0m, in \u001b[0;36mnumpy.random.mtrand.RandomState.choice\u001b[1;34m()\u001b[0m\n",
      "\u001b[1;31mValueError\u001b[0m: a must be greater than 0 unless no samples are taken"
     ]
    }
   ],
   "source": [
    "from imageai.Detection.Custom import DetectionModelTrainer\n",
    "\n",
    "trainer = DetectionModelTrainer()\n",
    "trainer.setModelTypeAsYOLOv3()\n",
    "trainer.setDataDirectory(data_directory=\"./reorganized_dataset/\")\n",
    "\n",
    "# Nota: Asegúrate de tener los modelos preentrenados de PyTorch (.pt o .pth) si deseas usar uno.\n",
    "# Si decides entrenar desde cero, simplemente omite el parámetro 'train_from_pretrained_model'.\n",
    "\n",
    "trainer.setTrainConfig(\n",
    "    object_names_array=[\"challenge\", \"play\", \"throwin\"], \n",
    "    batch_size=4, \n",
    "    num_experiments=50, \n",
    "    # train_from_pretrained_model=\"pretrained-yolov3.pt\"  # Omitir si se entrena desde cero\n",
    ")\n",
    "trainer.trainModel()\n"
   ]
  }
 ],
 "metadata": {
  "kernelspec": {
   "display_name": "Python 3",
   "language": "python",
   "name": "python3"
  },
  "language_info": {
   "codemirror_mode": {
    "name": "ipython",
    "version": 3
   },
   "file_extension": ".py",
   "mimetype": "text/x-python",
   "name": "python",
   "nbconvert_exporter": "python",
   "pygments_lexer": "ipython3",
   "version": "3.9.13"
  }
 },
 "nbformat": 4,
 "nbformat_minor": 2
}
