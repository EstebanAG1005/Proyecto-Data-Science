{
  "cells": [
    {
<<<<<<< Updated upstream
      "cell_type": "markdown",
      "metadata": {},
      "source": [
        "## Importar Librerias"
      ]
    },
    {
      "cell_type": "code",
      "execution_count": 39,
=======
      "cell_type": "code",
      "execution_count": 188,
>>>>>>> Stashed changes
      "metadata": {
        "id": "CVzhcFWrIHNm"
      },
      "outputs": [],
      "source": [
        "import cv2    \n",
        "import math   \n",
        "import matplotlib.pyplot as plt    \n",
        "%matplotlib inline\n",
        "import pandas as pd\n",
        "from tensorflow.keras.preprocessing import image  \n",
        "import numpy as np   \n",
        "from skimage.transform import resize \n",
        "from glob import glob\n",
        "from tqdm import tqdm\n",
        "\n",
        "import keras\n",
        "from keras.models import Sequential\n",
        "from keras.applications.vgg16 import VGG16\n",
        "from keras.layers import Dense, InputLayer, Dropout, Flatten\n",
        "from keras.layers import Conv2D, MaxPooling2D, GlobalMaxPooling2D\n",
        "from keras.preprocessing import image\n",
        "from tensorflow.keras import layers\n",
        "\n",
        "from sklearn.model_selection import train_test_split\n",
        "\n",
        "from tensorflow.keras.utils import load_img, img_to_array\n",
        "\n",
        "from scipy import stats as s"
      ]
    },
    {
      "cell_type": "markdown",
      "metadata": {
        "id": "LzQ9_h_XOCxv"
      },
      "source": [
        "## Cargar datos pre entrenados"
      ]
    },
    {
      "cell_type": "code",
<<<<<<< Updated upstream
      "execution_count": 40,
=======
      "execution_count": 189,
>>>>>>> Stashed changes
      "metadata": {
        "colab": {
          "base_uri": "https://localhost:8080/"
        },
        "id": "UIvca_FyWN1A",
        "outputId": "0a2d3297-6b55-43f6-c3ac-385288041470"
      },
      "outputs": [
        {
          "data": {
            "text/plain": [
              "(3000, 2)"
            ]
          },
<<<<<<< Updated upstream
          "execution_count": 40,
=======
          "execution_count": 189,
>>>>>>> Stashed changes
          "metadata": {},
          "output_type": "execute_result"
        }
      ],
      "source": [
        "train_split = pd.read_csv('./train_split.csv')\n",
        "train_split.shape"
      ]
    },
    {
      "cell_type": "code",
<<<<<<< Updated upstream
      "execution_count": 41,
=======
      "execution_count": 190,
>>>>>>> Stashed changes
      "metadata": {
        "colab": {
          "base_uri": "https://localhost:8080/"
        },
        "id": "Tyz1XTVLorpD",
        "outputId": "68f03811-fa1a-498d-b34e-f63a5d659b03"
      },
      "outputs": [
        {
          "data": {
            "text/plain": [
              "array(['play', 'challenge', 'throwin'], dtype=object)"
            ]
          },
<<<<<<< Updated upstream
          "execution_count": 41,
=======
          "execution_count": 190,
>>>>>>> Stashed changes
          "metadata": {},
          "output_type": "execute_result"
        }
      ],
      "source": [
        "train_split['class'].unique()"
      ]
    },
    {
      "cell_type": "code",
<<<<<<< Updated upstream
      "execution_count": 42,
=======
      "execution_count": 191,
>>>>>>> Stashed changes
      "metadata": {
        "id": "sx9eEsscUy6d"
      },
      "outputs": [],
      "source": [
        "import pickle\n",
        "\n",
        "with open('./X.pkl','rb') as f:\n",
        "    X = pickle.load(f)"
      ]
    },
    {
      "cell_type": "code",
<<<<<<< Updated upstream
      "execution_count": 43,
=======
      "execution_count": 192,
>>>>>>> Stashed changes
      "metadata": {
        "colab": {
          "base_uri": "https://localhost:8080/"
        },
        "id": "__2E3hNiVfIZ",
        "outputId": "8bc2bbf8-83d7-4f31-e131-784666e60599"
      },
      "outputs": [
        {
          "data": {
            "text/plain": [
              "(3000, 224, 224, 3)"
            ]
          },
<<<<<<< Updated upstream
          "execution_count": 43,
=======
          "execution_count": 192,
>>>>>>> Stashed changes
          "metadata": {},
          "output_type": "execute_result"
        }
      ],
      "source": [
        "X.shape"
      ]
    },
    {
      "cell_type": "markdown",
      "metadata": {
        "id": "HUA6XniAOssp"
      },
      "source": [
        "## Crear set de validacion"
      ]
    },
    {
      "cell_type": "code",
<<<<<<< Updated upstream
      "execution_count": 44,
=======
      "execution_count": 193,
>>>>>>> Stashed changes
      "metadata": {
        "id": "zPCToELDVnnf"
      },
      "outputs": [],
      "source": [
        "# separar el target\n",
        "y = train_split['class']\n",
        "\n",
        "# crear los sets de training y validacion \n",
        "X_train, X_test, y_train, y_test = train_test_split(X, y, random_state=42, test_size=0.2, stratify = y)"
      ]
    },
    {
      "cell_type": "code",
<<<<<<< Updated upstream
      "execution_count": 45,
=======
      "execution_count": 194,
>>>>>>> Stashed changes
      "metadata": {
        "id": "vN35arouWQmG"
      },
      "outputs": [],
      "source": [
        "# Preparando las etiquetas\n",
        "y_train = pd.get_dummies(y_train)\n",
        "y_test = pd.get_dummies(y_test)"
      ]
    },
    {
      "cell_type": "code",
<<<<<<< Updated upstream
      "execution_count": 46,
=======
      "execution_count": 195,
>>>>>>> Stashed changes
      "metadata": {},
      "outputs": [
        {
          "name": "stdout",
          "output_type": "stream",
          "text": [
            "challenge  play  throwin\n",
            "0          1     0          1993\n",
            "1          0     0           312\n",
            "0          0     1            95\n",
            "dtype: int64\n",
            "challenge  play  throwin\n",
            "0          1     0          498\n",
            "1          0     0           78\n",
            "0          0     1           24\n",
            "dtype: int64\n"
          ]
        }
      ],
      "source": [
        "print(y_train.value_counts())\n",
        "print(y_test.value_counts())"
      ]
    },
    {
      "cell_type": "code",
<<<<<<< Updated upstream
      "execution_count": 47,
=======
      "execution_count": 196,
>>>>>>> Stashed changes
      "metadata": {
        "colab": {
          "base_uri": "https://localhost:8080/",
          "height": 424
        },
        "id": "Yo26TKKVriUp",
        "outputId": "114516ea-5c4e-4dfd-bc6e-e3820b7d9140"
      },
      "outputs": [
        {
          "data": {
            "text/html": [
              "<div>\n",
              "<style scoped>\n",
              "    .dataframe tbody tr th:only-of-type {\n",
              "        vertical-align: middle;\n",
              "    }\n",
              "\n",
              "    .dataframe tbody tr th {\n",
              "        vertical-align: top;\n",
              "    }\n",
              "\n",
              "    .dataframe thead th {\n",
              "        text-align: right;\n",
              "    }\n",
              "</style>\n",
              "<table border=\"1\" class=\"dataframe\">\n",
              "  <thead>\n",
              "    <tr style=\"text-align: right;\">\n",
              "      <th></th>\n",
              "      <th>challenge</th>\n",
              "      <th>play</th>\n",
              "      <th>throwin</th>\n",
              "    </tr>\n",
              "  </thead>\n",
              "  <tbody>\n",
              "    <tr>\n",
              "      <th>929</th>\n",
              "      <td>0</td>\n",
              "      <td>1</td>\n",
              "      <td>0</td>\n",
              "    </tr>\n",
              "    <tr>\n",
              "      <th>2753</th>\n",
              "      <td>0</td>\n",
              "      <td>1</td>\n",
              "      <td>0</td>\n",
              "    </tr>\n",
              "    <tr>\n",
              "      <th>884</th>\n",
              "      <td>0</td>\n",
              "      <td>1</td>\n",
              "      <td>0</td>\n",
              "    </tr>\n",
              "    <tr>\n",
              "      <th>843</th>\n",
              "      <td>0</td>\n",
              "      <td>1</td>\n",
              "      <td>0</td>\n",
              "    </tr>\n",
              "    <tr>\n",
              "      <th>1030</th>\n",
              "      <td>0</td>\n",
              "      <td>1</td>\n",
              "      <td>0</td>\n",
              "    </tr>\n",
              "    <tr>\n",
              "      <th>...</th>\n",
              "      <td>...</td>\n",
              "      <td>...</td>\n",
              "      <td>...</td>\n",
              "    </tr>\n",
              "    <tr>\n",
              "      <th>1725</th>\n",
              "      <td>0</td>\n",
              "      <td>1</td>\n",
              "      <td>0</td>\n",
              "    </tr>\n",
              "    <tr>\n",
              "      <th>534</th>\n",
              "      <td>0</td>\n",
              "      <td>1</td>\n",
              "      <td>0</td>\n",
              "    </tr>\n",
              "    <tr>\n",
              "      <th>2089</th>\n",
              "      <td>1</td>\n",
              "      <td>0</td>\n",
              "      <td>0</td>\n",
              "    </tr>\n",
              "    <tr>\n",
              "      <th>1500</th>\n",
              "      <td>0</td>\n",
              "      <td>1</td>\n",
              "      <td>0</td>\n",
              "    </tr>\n",
              "    <tr>\n",
              "      <th>2937</th>\n",
              "      <td>0</td>\n",
              "      <td>1</td>\n",
              "      <td>0</td>\n",
              "    </tr>\n",
              "  </tbody>\n",
              "</table>\n",
              "<p>600 rows × 3 columns</p>\n",
              "</div>"
            ],
            "text/plain": [
              "      challenge  play  throwin\n",
              "929           0     1        0\n",
              "2753          0     1        0\n",
              "884           0     1        0\n",
              "843           0     1        0\n",
              "1030          0     1        0\n",
              "...         ...   ...      ...\n",
              "1725          0     1        0\n",
              "534           0     1        0\n",
              "2089          1     0        0\n",
              "1500          0     1        0\n",
              "2937          0     1        0\n",
              "\n",
              "[600 rows x 3 columns]"
            ]
          },
<<<<<<< Updated upstream
          "execution_count": 47,
=======
          "execution_count": 196,
>>>>>>> Stashed changes
          "metadata": {},
          "output_type": "execute_result"
        }
      ],
      "source": [
        "y_test"
      ]
    },
    {
      "cell_type": "code",
<<<<<<< Updated upstream
      "execution_count": 48,
=======
      "execution_count": 197,
>>>>>>> Stashed changes
      "metadata": {
        "colab": {
          "base_uri": "https://localhost:8080/"
        },
        "id": "ZGgIiAG6bfDL",
        "outputId": "13a1d61d-7774-4cc3-a9b7-456bacd0f02f"
      },
      "outputs": [
        {
          "data": {
            "text/plain": [
              "(2400, 3)"
            ]
          },
<<<<<<< Updated upstream
          "execution_count": 48,
=======
          "execution_count": 197,
>>>>>>> Stashed changes
          "metadata": {},
          "output_type": "execute_result"
        }
      ],
      "source": [
        "# Shape del entrenamiento\n",
        "y_train.shape"
      ]
    },
    {
      "cell_type": "markdown",
      "metadata": {
        "id": "m0kOHj6fO3uy"
      },
      "source": [
        "# Definir la arquitectura, el modelo y tranformar la data"
      ]
    },
    {
      "cell_type": "code",
<<<<<<< Updated upstream
      "execution_count": 49,
=======
      "execution_count": 198,
>>>>>>> Stashed changes
      "metadata": {
        "id": "PjAgJq519eY3"
      },
      "outputs": [],
      "source": [
        "# base_model = VGG16(weights=\"imagenet\", include_top=False, input_shape=X_train[0].shape)\n",
        "# base_model.trainable = False"
      ]
    },
    {
      "cell_type": "code",
<<<<<<< Updated upstream
      "execution_count": 50,
=======
      "execution_count": 199,
>>>>>>> Stashed changes
      "metadata": {
        "colab": {
          "base_uri": "https://localhost:8080/"
        },
        "id": "4eCZUyONXgYX",
        "outputId": "7adc9ca8-74c8-4a28-a8a0-7ef17e6107ff"
      },
      "outputs": [],
      "source": [
        "# Creando el modelo en base a uno ya entrenado, en este cada el modelo VGG16 \n",
        "base_model = VGG16(weights='imagenet', include_top=False)"
      ]
    },
    {
      "cell_type": "code",
<<<<<<< Updated upstream
      "execution_count": 51,
=======
      "execution_count": 200,
>>>>>>> Stashed changes
      "metadata": {
        "colab": {
          "base_uri": "https://localhost:8080/"
        },
        "id": "18e7E3nhX5iM",
        "outputId": "3d9e8694-1963-4081-af88-fd715d4b08bf"
      },
      "outputs": [
        {
          "name": "stdout",
          "output_type": "stream",
          "text": [
<<<<<<< Updated upstream
            "10/75 [===>..........................] - ETA: 1:56"
          ]
=======
            "75/75 [==============================] - 125s 2s/step\n"
          ]
        },
        {
          "data": {
            "text/plain": [
              "(2400, 7, 7, 512)"
            ]
          },
          "execution_count": 200,
          "metadata": {},
          "output_type": "execute_result"
>>>>>>> Stashed changes
        }
      ],
      "source": [
        "# extraer features del training frame\n",
        "X_train = base_model.predict(X_train)\n",
        "X_train.shape"
      ]
    },
    {
      "cell_type": "code",
<<<<<<< Updated upstream
      "execution_count": null,
=======
      "execution_count": 201,
>>>>>>> Stashed changes
      "metadata": {
        "colab": {
          "base_uri": "https://localhost:8080/"
        },
        "id": "C5-hsvkWXkvW",
        "outputId": "8931a1e0-136a-4ca2-a65f-60fda7af3296"
      },
      "outputs": [
        {
          "name": "stdout",
          "output_type": "stream",
          "text": [
            "19/19 [==============================] - 31s 2s/step\n"
          ]
        },
        {
          "data": {
            "text/plain": [
              "(600, 7, 7, 512)"
            ]
          },
<<<<<<< Updated upstream
          "execution_count": 14,
=======
          "execution_count": 201,
>>>>>>> Stashed changes
          "metadata": {},
          "output_type": "execute_result"
        }
      ],
      "source": [
        "# Extraer features del set de testing\n",
        "X_test = base_model.predict(X_test)\n",
        "X_test.shape"
      ]
    },
    {
      "cell_type": "code",
<<<<<<< Updated upstream
      "execution_count": null,
=======
      "execution_count": 202,
>>>>>>> Stashed changes
      "metadata": {
        "id": "GLslmusPYCT0"
      },
      "outputs": [],
      "source": [
        "# transformar el training y validation set para extraer los frames en una dimension \n",
        "X_train = X_train.reshape(2400, 7*7*512)\n",
        "X_test = X_test.reshape(600, 7*7*512)"
      ]
    },
    {
      "cell_type": "code",
<<<<<<< Updated upstream
      "execution_count": null,
=======
      "execution_count": 203,
>>>>>>> Stashed changes
      "metadata": {
        "id": "45sYTl85YaxM"
      },
      "outputs": [],
      "source": [
        "# normalizar los pixeles\n",
        "max = X_train.max()\n",
        "X_train = X_train/max\n",
        "X_test = X_test/max"
      ]
    },
    {
      "cell_type": "code",
<<<<<<< Updated upstream
      "execution_count": null,
=======
      "execution_count": 204,
>>>>>>> Stashed changes
      "metadata": {
        "colab": {
          "base_uri": "https://localhost:8080/"
        },
        "id": "lwZufUu_YttB",
        "outputId": "e37a1a24-9fe6-498d-c4ee-141b529ebd34"
      },
      "outputs": [
        {
          "data": {
            "text/plain": [
              "(2400, 25088)"
            ]
          },
<<<<<<< Updated upstream
          "execution_count": 17,
=======
          "execution_count": 204,
>>>>>>> Stashed changes
          "metadata": {},
          "output_type": "execute_result"
        }
      ],
      "source": [
        "# encontrar el shape \n",
        "X_train.shape"
      ]
    },
    {
      "cell_type": "code",
<<<<<<< Updated upstream
      "execution_count": null,
=======
      "execution_count": 205,
>>>>>>> Stashed changes
      "metadata": {
        "id": "TAF4WoxJYzyd"
      },
      "outputs": [],
      "source": [
        "# definir la arquitectura con las que vamos a trabajar\n",
        "model = Sequential()\n",
        "model.add(Dense(512, activation='relu', input_shape=(25088,)))\n",
        "model.add(Dropout(0.3))  # Reducir el dropout para evitar perder demasiadas características\n",
        "model.add(Dense(256, activation='relu'))\n",
        "model.add(Dropout(0.3))\n",
        "model.add(Dense(3, activation='softmax'))\n"
      ]
    },
    {
      "cell_type": "markdown",
      "metadata": {
        "id": "rpkS9KUOPKmc"
      },
      "source": [
        "# Entrenar el modelo y guardar los pesos "
      ]
    },
    {
      "cell_type": "code",
<<<<<<< Updated upstream
      "execution_count": null,
=======
      "execution_count": 206,
>>>>>>> Stashed changes
      "metadata": {
        "id": "LPn2rO1TZSuw"
      },
      "outputs": [],
      "source": [
        "# definir la menra de guardar los mejores pesos\n",
        "from keras.callbacks import ModelCheckpoint\n",
        "mcp_save = ModelCheckpoint('weight.hdf5', save_best_only=True, monitor='val_loss', mode='min')"
      ]
    },
    {
      "cell_type": "code",
<<<<<<< Updated upstream
      "execution_count": null,
=======
      "execution_count": 207,
>>>>>>> Stashed changes
      "metadata": {
        "id": "_D8q0LjcaEMC"
      },
      "outputs": [
        {
          "name": "stderr",
          "output_type": "stream",
          "text": [
            "WARNING:absl:`lr` is deprecated in Keras optimizer, please use `learning_rate` or use the legacy optimizer, e.g.,tf.keras.optimizers.legacy.Adam.\n"
          ]
        }
      ],
      "source": [
        "from keras.optimizers import Adam\n",
        "optimizer = Adam(lr=0.0001)  # Reducir la tasa de aprendizaje\n",
        "model.compile(loss='categorical_crossentropy', optimizer=optimizer, metrics=['accuracy'])"
      ]
    },
    {
      "cell_type": "code",
<<<<<<< Updated upstream
      "execution_count": null,
      "metadata": {},
=======
      "execution_count": 208,
      "metadata": {
        "id": "PAv73p2P31nx"
      },
>>>>>>> Stashed changes
      "outputs": [],
      "source": [
        "# definir metrica de EarlyStopping\n",
        "from tensorflow.keras.callbacks import EarlyStopping\n",
        "es = EarlyStopping(monitor='val_accuracy', mode='max', patience=5, verbose=1, restore_best_weights=True)"
      ]
    },
    {
      "cell_type": "code",
<<<<<<< Updated upstream
      "execution_count": null,
=======
      "execution_count": 209,
>>>>>>> Stashed changes
      "metadata": {
        "colab": {
          "base_uri": "https://localhost:8080/"
        },
        "id": "lrY-9Ui0aK8l",
        "outputId": "3bce1e0e-7340-4a85-9b20-6d941a17bf9f"
      },
      "outputs": [
        {
          "name": "stdout",
          "output_type": "stream",
          "text": [
<<<<<<< Updated upstream
            "Epoch 1/20\n",
            "150/150 [==============================] - ETA: 0s - loss: 1.2246 - accuracy: 0.3383"
=======
            "Epoch 1/20\n"
          ]
        },
        {
          "name": "stdout",
          "output_type": "stream",
          "text": [
            "150/150 [==============================] - ETA: 0s - loss: 1.1754 - accuracy: 0.3983"
>>>>>>> Stashed changes
          ]
        },
        {
          "name": "stderr",
          "output_type": "stream",
          "text": [
            "c:\\Python310\\lib\\site-packages\\keras\\src\\engine\\training.py:3000: UserWarning: You are saving your model as an HDF5 file via `model.save()`. This file format is considered legacy. We recommend using instead the native Keras format, e.g. `model.save('my_model.keras')`.\n",
            "  saving_api.save_model(\n"
          ]
        },
        {
          "name": "stdout",
          "output_type": "stream",
          "text": [
<<<<<<< Updated upstream
            "150/150 [==============================] - 16s 105ms/step - loss: 1.2246 - accuracy: 0.3383 - val_loss: 1.1584 - val_accuracy: 0.0783\n",
            "Epoch 2/20\n",
            "150/150 [==============================] - 16s 105ms/step - loss: 1.0531 - accuracy: 0.4650 - val_loss: 1.1062 - val_accuracy: 0.4067\n",
            "Epoch 3/20\n",
            "150/150 [==============================] - 16s 106ms/step - loss: 0.9845 - accuracy: 0.5396 - val_loss: 1.5283 - val_accuracy: 0.1800\n",
            "Epoch 4/20\n",
            "150/150 [==============================] - 16s 107ms/step - loss: 0.9719 - accuracy: 0.5008 - val_loss: 1.8528 - val_accuracy: 0.0583\n",
            "Epoch 5/20\n",
            "150/150 [==============================] - 16s 108ms/step - loss: 0.8838 - accuracy: 0.5621 - val_loss: 0.9693 - val_accuracy: 0.6200\n",
            "Epoch 6/20\n",
            "150/150 [==============================] - 16s 108ms/step - loss: 0.8526 - accuracy: 0.5750 - val_loss: 0.8531 - val_accuracy: 0.5350\n",
            "Epoch 7/20\n",
            "150/150 [==============================] - 16s 106ms/step - loss: 0.8154 - accuracy: 0.6175 - val_loss: 0.9747 - val_accuracy: 0.5250\n",
            "Epoch 8/20\n",
            "150/150 [==============================] - 16s 108ms/step - loss: 0.6998 - accuracy: 0.6421 - val_loss: 0.7145 - val_accuracy: 0.7117\n",
            "Epoch 9/20\n",
            "150/150 [==============================] - 16s 107ms/step - loss: 0.6456 - accuracy: 0.6442 - val_loss: 0.9418 - val_accuracy: 0.4450\n",
            "Epoch 10/20\n",
            "150/150 [==============================] - 16s 107ms/step - loss: 0.5773 - accuracy: 0.6696 - val_loss: 0.9197 - val_accuracy: 0.5250\n",
            "Epoch 11/20\n",
            "150/150 [==============================] - 16s 107ms/step - loss: 0.5596 - accuracy: 0.6596 - val_loss: 1.0774 - val_accuracy: 0.4600\n",
            "Epoch 12/20\n",
            "150/150 [==============================] - 16s 107ms/step - loss: 0.5695 - accuracy: 0.6900 - val_loss: 0.7842 - val_accuracy: 0.6150\n",
            "Epoch 13/20\n",
            "150/150 [==============================] - ETA: 0s - loss: 0.4945 - accuracy: 0.6988Restoring model weights from the end of the best epoch: 8.\n",
            "150/150 [==============================] - 16s 109ms/step - loss: 0.4945 - accuracy: 0.6988 - val_loss: 0.6945 - val_accuracy: 0.7050\n",
            "Epoch 13: early stopping\n"
=======
            "150/150 [==============================] - 18s 109ms/step - loss: 1.1754 - accuracy: 0.3983 - val_loss: 1.0298 - val_accuracy: 0.4200\n",
            "Epoch 2/20\n",
            "150/150 [==============================] - 16s 106ms/step - loss: 1.0714 - accuracy: 0.4933 - val_loss: 0.9904 - val_accuracy: 0.5833\n",
            "Epoch 3/20\n",
            "150/150 [==============================] - 16s 106ms/step - loss: 1.0253 - accuracy: 0.5108 - val_loss: 0.7931 - val_accuracy: 0.7600\n",
            "Epoch 4/20\n",
            "150/150 [==============================] - 15s 103ms/step - loss: 0.9812 - accuracy: 0.5329 - val_loss: 0.9947 - val_accuracy: 0.5050\n",
            "Epoch 5/20\n",
            "150/150 [==============================] - 16s 107ms/step - loss: 0.8906 - accuracy: 0.5754 - val_loss: 1.2326 - val_accuracy: 0.3250\n",
            "Epoch 6/20\n",
            "150/150 [==============================] - 16s 109ms/step - loss: 0.8120 - accuracy: 0.5875 - val_loss: 0.7482 - val_accuracy: 0.6950\n",
            "Epoch 7/20\n",
            "150/150 [==============================] - 16s 105ms/step - loss: 0.7668 - accuracy: 0.5842 - val_loss: 0.8787 - val_accuracy: 0.5733\n",
            "Epoch 8/20\n",
            "150/150 [==============================] - ETA: 0s - loss: 0.6949 - accuracy: 0.6092Restoring model weights from the end of the best epoch: 3.\n",
            "150/150 [==============================] - 17s 111ms/step - loss: 0.6949 - accuracy: 0.6092 - val_loss: 0.6227 - val_accuracy: 0.7400\n",
            "Epoch 8: early stopping\n"
>>>>>>> Stashed changes
          ]
        }
      ],
      "source": [
        "from sklearn.utils.class_weight import compute_class_weight\n",
        "\n",
        "# Calcula los pesos para cada clase\n",
        "class_weights = compute_class_weight('balanced', classes=np.unique(train_split['class']), y=train_split['class'])\n",
        "\n",
        "# Convierte los pesos en un diccionario para pasarlo al entrenamiento del modelo\n",
        "class_weight_dict = dict(enumerate(class_weights))\n",
        "\n",
        "# Usa este diccionario de pesos en el método fit\n",
        "history = model.fit(X_train, y_train, epochs=20, validation_data=(X_test, y_test), callbacks=[mcp_save, es], batch_size=16, class_weight=class_weight_dict)"
      ]
    },
    {
      "cell_type": "markdown",
      "metadata": {},
      "source": [
        "## Calcular accuracy X_test dataset"
      ]
    },
    {
      "cell_type": "code",
<<<<<<< Updated upstream
      "execution_count": null,
=======
      "execution_count": 235,
>>>>>>> Stashed changes
      "metadata": {},
      "outputs": [
        {
          "name": "stderr",
          "output_type": "stream",
          "text": [
            "c:\\Python310\\lib\\site-packages\\keras\\src\\engine\\training.py:3000: UserWarning: You are saving your model as an HDF5 file via `model.save()`. This file format is considered legacy. We recommend using instead the native Keras format, e.g. `model.save('my_model.keras')`.\n",
            "  saving_api.save_model(\n"
          ]
        }
      ],
      "source": [
        "model.save('VGG16.h5')  # Guarda el modelo en formato HDF5"
      ]
    },
    {
      "cell_type": "code",
<<<<<<< Updated upstream
      "execution_count": null,
=======
      "execution_count": 210,
>>>>>>> Stashed changes
      "metadata": {
        "colab": {
          "base_uri": "https://localhost:8080/"
        },
        "id": "Odp5nPjPS-aY",
        "outputId": "61526226-2005-4228-db58-bab9f3d5474a"
      },
      "outputs": [
        {
          "name": "stdout",
          "output_type": "stream",
          "text": [
<<<<<<< Updated upstream
            "The accuracy on the test set is of 0.71\n"
=======
            "The accuracy on the test set is of 0.76\n"
>>>>>>> Stashed changes
          ]
        }
      ],
      "source": [
        "results = model.evaluate(X_test, y_test, verbose=0)\n",
        "print(f'The accuracy on the test set is of {results[1]:.2f}')"
      ]
    },
    {
      "cell_type": "code",
<<<<<<< Updated upstream
      "execution_count": null,
=======
      "execution_count": 211,
>>>>>>> Stashed changes
      "metadata": {
        "colab": {
          "base_uri": "https://localhost:8080/",
          "height": 350
        },
        "id": "mmT9UahIRR30",
        "outputId": "51a7fd7f-8a5d-42d1-f6e3-c800b9cea135"
      },
      "outputs": [
        {
          "data": {
<<<<<<< Updated upstream
            "image/png": "iVBORw0KGgoAAAANSUhEUgAABDYAAAHWCAYAAACMrwlpAAAAOXRFWHRTb2Z0d2FyZQBNYXRwbG90bGliIHZlcnNpb24zLjYuMywgaHR0cHM6Ly9tYXRwbG90bGliLm9yZy/P9b71AAAACXBIWXMAAA9hAAAPYQGoP6dpAAC9A0lEQVR4nOzdd3gUZdfH8e+mh5AEQio9FEPvHRFRlCZSVJpKtWNBfJ7HXvBVsWHvDSwgCAIiVXpHpPfeIQkJgQTSk533j0kCkRZCktlNfp/r2mtnZ2dnzi5lZ8/c9zk2wzAMRERERERERESckIvVAYiIiIiIiIiI5JcSGyIiIiIiIiLitJTYEBERERERERGnpcSGiIiIiIiIiDgtJTZERERERERExGkpsSEiIiIiIiIiTkuJDRERERERERFxWkpsiIiIiIiIiIjTUmJDRERERERERJyWEhsiUihsNhuvvfbaNb/u0KFD2Gw2xo0bd8XtlixZgs1mY8mSJfmKT0RERBxLYZ87iEjxpcSGSDE2btw4bDYbNpuNFStWXPS8YRhUqlQJm83GHXfcYUGEIiIi4khKyrnD7NmzsdlslC9fHrvdbnU4InKdlNgQKQG8vLyYMGHCReuXLl3KsWPH8PT0tCAqERERcVTF/dxh/PjxVK1alcjISBYtWmR1OCJynZTYECkBunbtyuTJk8nIyMi1fsKECTRt2pTQ0FCLIhMRERFHVJzPHRITE/njjz8YOXIkjRs3Zvz48VaHdFmJiYlWhyDiFJTYECkB+vfvz6lTp5g/f37OurS0NKZMmcKAAQMu+ZrExESeeeYZKlWqhKenJxEREbz//vsYhpFru9TUVJ5++mmCgoLw9fXlzjvv5NixY5fc5/Hjxxk6dCghISF4enpSt25dfvjhh4J7o8DkyZNp2rQp3t7eBAYGct9993H8+PFc20RFRTFkyBAqVqyIp6cnYWFh9OjRg0OHDuVss27dOjp16kRgYCDe3t6Eh4czdOjQAo1VRETEURXnc4dp06aRnJzMPffcQ79+/Zg6dSopKSkXbZeSksJrr73GDTfcgJeXF2FhYfTu3Zv9+/fnbGO32/n444+pX78+Xl5eBAUF0blzZ9atWwdcuf7Hv2uKvPbaa9hsNnbs2MGAAQMoW7YsN954IwBbtmxh8ODBVKtWDS8vL0JDQxk6dCinTp265Gc2bNgwypcvj6enJ+Hh4Tz66KOkpaVx4MABbDYbH3744UWvW7VqFTabjV9//fVaP1IRy7lZHYCIFL6qVavSunVrfv31V7p06QLAnDlziI+Pp1+/fnzyySe5tjcMgzvvvJPFixczbNgwGjVqxLx58/jvf//L8ePHc30ZPvDAA/zyyy8MGDCANm3asGjRIrp163ZRDNHR0bRq1Qqbzcbjjz9OUFAQc+bMYdiwYSQkJDBixIjrfp/jxo1jyJAhNG/enNGjRxMdHc3HH3/MypUr2bhxI2XKlAHgrrvuYvv27TzxxBNUrVqVkydPMn/+fI4cOZLz+PbbbycoKIjnnnuOMmXKcOjQIaZOnXrdMYqIiDiD4nzuMH78eDp06EBoaCj9+vXjueee488//+See+7J2SYzM5M77riDhQsX0q9fP5566inOnj3L/Pnz2bZtG9WrVwdg2LBhjBs3ji5duvDAAw+QkZHB8uXLWbNmDc2aNctXfPfccw81a9bkrbfeykkKzZ8/nwMHDjBkyBBCQ0PZvn0733zzDdu3b2fNmjXYbDYATpw4QYsWLThz5gwPPfQQtWrV4vjx40yZMoWkpCSqVatG27ZtGT9+PE8//fRFn4uvry89evTIV9wiljJEpNgaO3asARj//POP8dlnnxm+vr5GUlKSYRiGcc899xgdOnQwDMMwqlSpYnTr1i3nddOnTzcA44033si1v7vvvtuw2WzGvn37DMMwjE2bNhmA8dhjj+XabsCAAQZgvPrqqznrhg0bZoSFhRmxsbG5tu3Xr5/h7++fE9fBgwcNwBg7duwV39vixYsNwFi8eLFhGIaRlpZmBAcHG/Xq1TOSk5Nztps5c6YBGK+88ophGIZx+vRpAzDee++9y+572rRpOZ+biIhISVKczx0MwzCio6MNNzc349tvv81Z16ZNG6NHjx65tvvhhx8MwPjggw8u2ofdbjcMwzAWLVpkAMaTTz552W2uFNu/3++rr75qAEb//v0v2jb7vV7o119/NQBj2bJlOesGDhxouLi4XPIcJjumr7/+2gCMnTt35jyXlpZmBAYGGoMGDbrodSLOQFNRREqIPn36kJyczMyZMzl79iwzZ8687FDS2bNn4+rqypNPPplr/TPPPINhGMyZMydnO+Ci7f59BcUwDH7//Xe6d++OYRjExsbm3Dp16kR8fDwbNmy4rve3bt06Tp48yWOPPYaXl1fO+m7dulGrVi1mzZoFgLe3Nx4eHixZsoTTp09fcl/ZIztmzpxJenr6dcUlIiLirIrjucPEiRNxcXHhrrvuylnXv39/5syZk+u84PfffycwMJAnnnjion1kj474/fffsdlsvPrqq5fdJj8eeeSRi9Z5e3vnLKekpBAbG0urVq0Acj4Hu93O9OnT6d69+yVHi2TH1KdPH7y8vHLVFpk3bx6xsbHcd999+Y5bxEpKbIiUEEFBQXTs2JEJEyYwdepUMjMzufvuuy+57eHDhylfvjy+vr651teuXTvn+ex7FxeXnOGY2SIiInI9jomJ4cyZM3zzzTcEBQXlug0ZMgSAkydPXtf7y47p38cGqFWrVs7znp6evPPOO8yZM4eQkBBuuukm3n33XaKionK2b9++PXfddRejRo0iMDCQHj16MHbsWFJTU68rRhEREWdSHM8dfvnlF1q0aMGpU6fYt28f+/bto3HjxqSlpTF58uSc7fbv309ERARubpefub9//37Kly9PQEDANcdxJeHh4Reti4uL46mnniIkJARvb2+CgoJytouPjwfMzywhIYF69epdcf9lypShe/fuubrejB8/ngoVKnDLLbcU4DsRKTqqsSFSggwYMIAHH3yQqKgounTpkjMyobBl94e/7777GDRo0CW3adCgQZHEAuZVoe7duzN9+nTmzZvHyy+/zOjRo1m0aBGNGzfGZrMxZcoU1qxZw59//sm8efMYOnQoY8aMYc2aNZQuXbrIYhUREbFScTp32Lt3L//88w8ANWvWvOj58ePH89BDD11jpFd2uZEbmZmZl33NhaMzsvXp04dVq1bx3//+l0aNGlG6dGnsdjudO3fO+ayuxcCBA5k8eTKrVq2ifv36zJgxg8ceewwXF133FuekxIZICdKrVy8efvhh1qxZw6RJky67XZUqVViwYAFnz57NdeVl165dOc9n39vt9pyrGtl2796da3/ZVc8zMzPp2LFjQb6lXDFnH/vfVxt2796d83y26tWr88wzz/DMM8+wd+9eGjVqxJgxY/jll19ytmnVqhWtWrXizTffZMKECdx7771MnDiRBx54oFDeg4iIiKMpTucO48ePx93dnZ9//hlXV9dcz61YsYJPPvmEI0eOULlyZapXr87ff/9Neno67u7ul9xf9erVmTdvHnFxcZcdtVG2bFkAzpw5k2t99giWvDh9+jQLFy5k1KhRvPLKKznr9+7dm2u7oKAg/Pz82LZt21X32blzZ4KCghg/fjwtW7YkKSmJ+++/P88xiTgapeRESpDSpUvz5Zdf8tprr9G9e/fLbte1a1cyMzP57LPPcq3/8MMPsdlsOdXRs+//XRn9o48+yvXY1dWVu+66i99///2SX7YxMTH5eTu5NGvWjODgYL766qtcU0bmzJnDzp07c6qtJyUlXdTSrXr16vj6+ua87vTp0xe1pmvUqBGApqOIiEiJUpzOHcaPH0+7du3o27cvd999d67bf//7X4CcVqd33XUXsbGxF70fIOcc4a677sIwDEaNGnXZbfz8/AgMDGTZsmW5nv/iiy/yHHd2Eubf5yb//sxcXFzo2bMnf/75Z0672UvFBODm5kb//v357bffGDduHPXr1y/S0bMiBU0jNkRKmMsN57xQ9+7d6dChAy+++CKHDh2iYcOG/PXXX/zxxx+MGDEiZ15so0aN6N+/P1988QXx8fG0adOGhQsXsm/fvov2+fbbb7N48WJatmzJgw8+SJ06dYiLi2PDhg0sWLCAuLi463pf7u7uvPPOOwwZMoT27dvTv3//nHavVatWzWlptmfPHm699Vb69OlDnTp1cHNzY9q0aURHR9OvXz8AfvzxR7744gt69epF9erVOXv2LN9++y1+fn507dr1uuIUERFxNsXh3OHvv/9m3759PP7445d8vkKFCjRp0oTx48fz7LPPMnDgQH766SdGjhzJ2rVradeuHYmJiSxYsIDHHnuMHj160KFDB+6//34++eQT9u7dmzMtZPny5XTo0CHnWA888ABvv/02DzzwAM2aNWPZsmXs2bMnz7H7+fnl1ARLT0+nQoUK/PXXXxw8ePCibd966y3++usv2rdvz0MPPUTt2rWJjIxk8uTJrFixItdUooEDB/LJJ5+wePFi3nnnnTzHI+KQrGnGIiJF4cKWbVfy75ZthmEYZ8+eNZ5++mmjfPnyhru7u1GzZk3jvffey2kVli05Odl48sknjXLlyhk+Pj5G9+7djaNHj17UwswwzBZrw4cPNypVqmS4u7sboaGhxq233mp88803Odvkt91rtkmTJhmNGzc2PD09jYCAAOPee+81jh07lvN8bGysMXz4cKNWrVqGj4+P4e/vb7Rs2dL47bffcrbZsGGD0b9/f6Ny5cqGp6enERwcbNxxxx3GunXrrhiTiIiIsyuu5w5PPPGEARj79++/7DavvfaaARibN282DMNssfriiy8a4eHhOce+++67c+0jIyPDeO+994xatWoZHh4eRlBQkNGlSxdj/fr1OdskJSUZw4YNM/z9/Q1fX1+jT58+xsmTJy/b7jUmJuai2I4dO2b06tXLKFOmjOHv72/cc889xokTJy75mR0+fNgYOHCgERQUZHh6ehrVqlUzhg8fbqSmpl6037p16xouLi65zpVEnJHNMP41pklERERERESKvcaNGxMQEMDChQutDkXkuqjGhoiIiIiISAmzbt06Nm3axMCBA60OReS6acSGiIiIiIhICbFt2zbWr1/PmDFjiI2N5cCBA3h5eVkdlsh10YgNERERERGREmLKlCkMGTKE9PR0fv31VyU1pFiwNLHx5Zdf0qBBA/z8/PDz86N169bMmTPniq+ZPHkytWrVwsvLi/r16zN79uwiilZERESKs2XLltG9e3fKly+PzWZj+vTpV33NkiVLaNKkCZ6entSoUYNx48YVepwiItfjtddew263s3PnTtq3b291OCIFwtLERsWKFXn77bdZv34969at45ZbbqFHjx5s3779ktuvWrWK/v37M2zYMDZu3EjPnj3p2bPnJXtbi4iIiFyLxMREGjZsyOeff56n7Q8ePEi3bt3o0KEDmzZtYsSIETzwwAPMmzevkCMVERGRCzlcjY2AgADee+89hg0bdtFzffv2JTExkZkzZ+asa9WqFY0aNeKrr74qyjBFRESkGLPZbEybNo2ePXtedptnn32WWbNm5brA0q9fP86cOcPcuXOLIEoREREBcLM6gGyZmZlMnjyZxMREWrdufcltVq9ezciRI3Ot69Sp0xWHiqamppKamprz2G63ExcXR7ly5bDZbAUSu4iISHFhGAZnz56lfPnyuLioFNeVrF69mo4dO+Za16lTJ0aMGHHZ1+i8REREJO/yel5ieWJj69attG7dmpSUFEqXLs20adOoU6fOJbeNiooiJCQk17qQkBCioqIuu//Ro0czatSoAo1ZRESkuDt69CgVK1a0OgyHdrnzkoSEBJKTk/H29r7oNTovERERuXZXOy+xPLERERHBpk2biI+PZ8qUKQwaNIilS5deNrlxrZ5//vlcozzi4+OpXLkyR48exc/Pr0COISIiUlwkJCRQqVIlfH19rQ6lWNJ5iYiISN7l9bzE8sSGh4cHNWrUAKBp06b8888/fPzxx3z99dcXbRsaGkp0dHSuddHR0YSGhl52/56ennh6el60PrsTi4iIiFxM0yKu7nLnJX5+fpccrQE6LxEREcmPq52XONzkWbvdnmvu6YVat27NwoULc62bP3/+ZWtyiIiIiBQWnZeIiIg4BktHbDz//PN06dKFypUrc/bsWSZMmMCSJUty2qQNHDiQChUqMHr0aACeeuop2rdvz5gxY+jWrRsTJ05k3bp1fPPNN1a+DRERESkGzp07x759+3IeHzx4kE2bNhEQEEDlypV5/vnnOX78OD/99BMAjzzyCJ999hn/+9//GDp0KIsWLeK3335j1qxZVr0FERGREsnSxMbJkycZOHAgkZGR+Pv706BBA+bNm8dtt90GwJEjR3JVPm3Tpg0TJkzgpZde4oUXXqBmzZpMnz6devXqWfUWREREpJhYt24dHTp0yHmcXQtj0KBBjBs3jsjISI4cOZLzfHh4OLNmzeLpp5/m448/pmLFinz33Xd06tSpyGMXEREpyWyGYRhWB1GUEhIS8Pf3Jz4+XnNZRUSckGEYZGRkkJmZaXUoTsvd3R1XV9dLPqfvyaKlz1tExHnpnOT6ubq64ubmdtkaGnn9nrS8eKiIiEhepaWlERkZSVJSktWhODWbzUbFihUpXbq01aGIiIg4JZ2TFJxSpUoRFhaGh4dHvvehxIaIiDgFu93OwYMHcXV1pXz58nh4eKhzRz4YhkFMTAzHjh2jZs2alx25ISIiIpemc5KCYRgGaWlpxMTEcPDgQWrWrJmrFMW1UGJDREScQlpaGna7nUqVKlGqVCmrw3FqQUFBHDp0iPT0dCU2RERErpHOSQqOt7c37u7uHD58mLS0NLy8vPK1H4dr9yoiInIl+c3ky3m6qiQiInL9dE5SMAric9SfhIiIiIiIiIg4LSU2RERERERERMRpKbEhIiLiZKpWrcpHH31kdRgiIiIiDnFeosSGiIhIIbHZbFe8vfbaa/na7z///MNDDz1UsMGKiIhIsVacz0vUFUVERKSQREZG5ixPmjSJV155hd27d+esK126dM6yYRhkZmbi5nb1r+agoKCCDVRERESKveJ8XqIRGyIi4pQMwyApLcOSm2EYeYoxNDQ05+bv74/NZst5vGvXLnx9fZkzZw5NmzbF09OTFStWsH//fnr06EFISAilS5emefPmLFiwINd+/z3k02az8d1339GrVy9KlSpFzZo1mTFjRkF+3CIiInIFOi/5KOexFeclGrEhIiJOKTk9kzqvzLPk2Dte70Qpj4L5Cn3uued4//33qVatGmXLluXo0aN07dqVN998E09PT3766Se6d+/O7t27qVy58mX3M2rUKN59913ee+89Pv30U+69914OHz5MQEBAgcQpIiIil6fzktyK+rxEIzZEREQs9Prrr3PbbbdRvXp1AgICaNiwIQ8//DD16tWjZs2a/N///R/Vq1e/6pWOwYMH079/f2rUqMFbb73FuXPnWLt2bRG9CxERESkOnPW8RCM2RETEKXm7u7Lj9U6WHbugNGvWLNfjc+fO8dprrzFr1iwiIyPJyMggOTmZI0eOXHE/DRo0yFn28fHBz8+PkydPFlicIiIicnk6L8mtqM9LlNgQERGnZLPZCmzYpZV8fHxyPf7Pf/7D/Pnzef/996lRowbe3t7cfffdpKWlXXE/7u7uuR7bbDbsdnuBxysiIiIX03lJbkV9XuL8n7yIiEgxsnLlSgYPHkyvXr0A80rJoUOHrA1KRERESiRnOS9RjQ0REREHUrNmTaZOncqmTZvYvHkzAwYM0MgLERERsYSznJcosSEiIuJAPvjgA8qWLUubNm3o3r07nTp1okmTJlaHJSIiIiWQs5yX2Iy8Nr0tJhISEvD39yc+Ph4/Pz+rwxERkTxKSUnh4MGDhIeH4+XlZXU4Tu1Kn6W+J4uWPm8REeejc5KCVRDnJRqxISIiIiIiIiJOS4kNEREREREREXFaSmyIiIiIiIiIiNNSYkNEREREREREnJYSGyIiIiIiIiLitJTYEBERERERERGnpcSGiIiIiIiIiDgtJTZERERERERExGkpsSEiIiIiIiIiTkuJDRERERERERFxWkpsiIiIFBKbzXbF22uvvXZd+54+fXqBxSoiIiLFW3E+L3Gz7MgiIiLFXGRkZM7ypEmTeOWVV9i9e3fOutKlS1sRloiIiJRAxfm8RCM2RETEORkGpCVaczOMPIUYGhqac/P398dms+VaN3HiRGrXro2Xlxe1atXiiy++yHltWloajz/+OGFhYXh5eVGlShVGjx4NQNWqVQHo1asXNpst57GIiIhYROcllp6XaMSGiIg4p/QkeKu8Ncd+4QR4+FzXLsaPH88rr7zCZ599RuPGjdm4cSMPPvggPj4+DBo0iE8++YQZM2bw22+/UblyZY4ePcrRo0cB+OeffwgODmbs2LF07twZV1fXgnhXIiIikl86L7H0vESJDREREQu8+uqrjBkzht69ewMQHh7Ojh07+Prrrxk0aBBHjhyhZs2a3HjjjdhsNqpUqZLz2qCgIADKlClDaGioJfGLiIhI8eHs5yVKbIiIiHNyL2VeobDq2NchMTGR/fv3M2zYMB588MGc9RkZGfj7+wMwePBgbrvtNiIiIujcuTN33HEHt99++3UdV0RERAqJzksspcSGiIg4J5vtuoddWuXcuXMAfPvtt7Rs2TLXc9nDN5s0acLBgweZM2cOCxYsoE+fPnTs2JEpU6YUebwiIiJyFTovsZQSGyIiIkUsJCSE8uXLc+DAAe69997Lbufn50ffvn3p27cvd999N507dyYuLo6AgADc3d3JzMwswqhFRESkOCoO5yVKbIiIiFhg1KhRPPnkk/j7+9O5c2dSU1NZt24dp0+fZuTIkXzwwQeEhYXRuHFjXFxcmDx5MqGhoZQpUwYwK5AvXLiQtm3b4unpSdmyZa19QyIiIuK0nP28RO1eRURELPDAAw/w3XffMXbsWOrXr0/79u0ZN24c4eHhAPj6+vLuu+/SrFkzmjdvzqFDh5g9ezYuLuZX95gxY5g/fz6VKlWicePGVr4VERERcXLOfl5iM4w8Nr0tJhISEvD39yc+Ph4/Pz+rwxERkTxKSUnh4MGDhIeH4+XlZXU4Tu1Kn6W+J4uWPm8REeejc5KCVRDnJRqxISIiIiIiIiJOS4kNEREREREREXFaSmyIiIiIiIiIiNNSYkNEREREREREnJYSGyIi4lRKWM3rQqHPUERE5Prp+7RgFMTnqMSGiIg4BXd3dwCSkpIsjsT5paWlAeDq6mpxJCIiIs5H5yQFK/tzzP5c88OtoIIREREpTK6urpQpU4aTJ08CUKpUKWw2m8VROR+73U5MTAylSpXCzU2nASIiItdK5yQFwzAMkpKSOHnyJGXKlLmuCy46oxEREacRGhoKkHMiIfnj4uJC5cqVdRImIiKSTzonKThlypTJ+TzzS4kNERFxGjabjbCwMIKDg0lPT7c6HKfl4eGBi4tmo4qIiOSXzkkKhru7e4FMjVViQ0REnI6rq6vqQ4iIiIjldE7iGHS5RkRERERERESclhIbIiIiIiIiIuK0lNgQEREREREREaelxIaIiIiIiIiIOC1LExujR4+mefPm+Pr6EhwcTM+ePdm9e/cVXzNu3DhsNluum5eXVxFFLCIiIiIiIiKOxNLExtKlSxk+fDhr1qxh/vz5pKenc/vtt5OYmHjF1/n5+REZGZlzO3z4cBFFLCIiIiIiIiKOxNJ2r3Pnzs31eNy4cQQHB7N+/Xpuuummy77OZrMRGhpa2OGJiIiIiIiIiINzqBob8fHxAAQEBFxxu3PnzlGlShUqVapEjx492L59+2W3TU1NJSEhIddNRERERERERIoHh0ls2O12RowYQdu2balXr95lt4uIiOCHH37gjz/+4JdffsFut9OmTRuOHTt2ye1Hjx6Nv79/zq1SpUqF9RZEREREREREpIjZDMMwrA4C4NFHH2XOnDmsWLGCihUr5vl16enp1K5dm/79+/N///d/Fz2fmppKampqzuOEhAQqVapEfHw8fn5+BRK7iIhIcZGQkIC/v7++J4uIPm8REZHLy+v3pKU1NrI9/vjjzJw5k2XLll1TUgPA3d2dxo0bs2/fvks+7+npiaenZ0GEKSIiIiIiIiIOxtKpKIZh8PjjjzNt2jQWLVpEeHj4Ne8jMzOTrVu3EhYWVggRioiIiIiIiIgjs3TExvDhw5kwYQJ//PEHvr6+REVFAeDv74+3tzcAAwcOpEKFCowePRqA119/nVatWlGjRg3OnDnDe++9x+HDh3nggQcsex8iIiIiIiIiYg1LExtffvklADfffHOu9WPHjmXw4MEAHDlyBBeX8wNLTp8+zYMPPkhUVBRly5aladOmrFq1ijp16hRV2CIiIiIiIiLiIBymeGhRUZEuERGRy9P3ZNHS5y0iInJ5ef2edJh2ryIiIiIiIiIi10qJDRERERERERFxWkpsiIiIiGT5/PPPqVq1Kl5eXrRs2ZK1a9decfuPPvqIiIgIvL29qVSpEk8//TQpKSlFFK2IiIiAEhsiIiIiAEyaNImRI0fy6quvsmHDBho2bEinTp04efLkJbefMGECzz33HK+++io7d+7k+++/Z9KkSbzwwgtFHLmIiEjJpsSGiIiICPDBBx/w4IMPMmTIEOrUqcNXX31FqVKl+OGHHy65/apVq2jbti0DBgygatWq3H777fTv3/+qozxERESkYCmxISIiIiVeWloa69evp2PHjjnrXFxc6NixI6tXr77ka9q0acP69etzEhkHDhxg9uzZdO3a9bLHSU1NJSEhIddNREREro+b1QGIiIiIWC02NpbMzExCQkJyrQ8JCWHXrl2XfM2AAQOIjY3lxhtvxDAMMjIyeOSRR644FWX06NGMGjWqQGMXEREp6TRiQ0RERCQflixZwltvvcUXX3zBhg0bmDp1KrNmzeL//u//Lvua559/nvj4+Jzb0aNHizBiERGR4kkjNkRERKTECwwMxNXVlejo6Fzro6OjCQ0NveRrXn75Ze6//34eeOABAOrXr09iYiIPPfQQL774Ii4uF18/8vT0xNPTs+DfgIiISAmmERsiIiJS4nl4eNC0aVMWLlyYs85ut7Nw4UJat259ydckJSVdlLxwdXUFwDCMwgtWREREctGIDRERERFg5MiRDBo0iGbNmtGiRQs++ugjEhMTGTJkCAADBw6kQoUKjB49GoDu3bvzwQcf0LhxY1q2bMm+fft4+eWX6d69e06CQ0RERAqfEhsiIiIiQN++fYmJieGVV14hKiqKRo0aMXfu3JyCokeOHMk1QuOll17CZrPx0ksvcfz4cYKCgujevTtvvvmmVW9BRESkRLIZJWysZEJCAv7+/sTHx+Pn52d1OCIiIg5F35NFS5+3iIjI5eX1e1I1NkRERERERETEaSmxISIiIiIiIiJOS4kNEREREREREXFaSmyIiIiIiIiIiNNSYkNEREREREREnJYSGyIiIiIiIiLitJTYEBERERERERGnpcSGiIiIiIiIiDgtJTZERERERERExGkpsSEiIiIiIiIiTkuJDRERERERERFxWkpsiIiIiIiIiIjTUmJDRERERERERJyWEhsiIiIiIiIi4rSU2BARERERERERp6XEhoiIiIiIiIg4LSU2RERERERERMRpKbEhIiIiIiIiIk5LiQ0RERERERERcVpKbIiIiIiIiIiI01JiQ0RERERERESclhIbIiIiIiIiIuK0lNgQEREREREREaelxIaIiIiIiIiIOC0lNkRERERERETEaSmxISIiIiIi4kjsmXB0rXkvIlelxIaIiIiIiIgjWfg6fH8brPzI6khEnIISGyIiIiIiIo4iMRb+/tpc3jgeDMPaeETyKiPNslFGSmyIiIiIiIg4ijVfQEayuRy3H6K2WBuPSF5kpMJvA+GP4ZYkN5TYEBERERERcQTJp+Hvb8xl3/Lm/fZp1sUjkhcZqfDbINgzx/z7enJnkYegxIaIiIiIiIgjWPstpJ2FoNrQ6Q1z3bapmo4iDis9NZmUCffBnjlkunqyvPlnEFqvyONwK/IjioiIiIiISG6p58xpKAA3/Qdu6AzupeDMYTixESo0sTY+KVGS0zI5eTaFk2dTOZmQysmzKcScTTUfn03lZEIKZxLO8Wb6u9zqupEUw51hySP5e6kPe24zcHGxFWm8SmyIiIiIiIhYbd0P5lSUgGpQtxe4uMINncyh/dunKrEh180wDOKT0y9IUKRkJS3OJytizqUSk5DK2dSMK+7Lg3S+cP8oJ6nxX/cXSAhsQXtfT1IyMinlUbSpBiU2RERERERErJSeDKs/M5dvHGkmNQDq9s5KbEyH2/4PbEV7FVycQ6bd4NS5i5MVMdmPs0ZdxJxLJS3Dnuf9erm7EOzrRbCvJ8F+ngT7ehHk60lIKRs3b36GwBMbMdy88Og3iU9r3Fx4bzAPlNgQERERERGx0sZf4Fw0+FeCBn3Pr695G3iUhvijcGwdVGpuXYziUKLiU5i9NZJZWyPZeOQ09msow+Lv7U6Qr6eZsPD1JNjPTF6Y68zkRbCfJ76ebtj+nUzLSIVJ98OJxeDmhW3AJGzVbi7Q95YfSmyIiIiIiIhYJSMNVn5sLrd9Ctw8zj/n7g0RXWDrZHPkhhIbJdrJsynM2RrFrC2R/HM4LldNWRcblCt9QbLC14tgP8+cBEaQ7/nkhZe7a/4CyE5q7J0Hbl4wYBI4QFIDlNgQERERERGxzpZJ5oiM0iHQ+L6Ln6/b63xi4/Y3wEWNLUuS2HOpzN0WxcwtJ/j7YO5kRrMqZenWIIyOtUMoX8Yb18Is2JkrqeENAyY6TFIDlNgQERERERGxRmYGrPjAXG79uDlC49+q3wqefnD2BBxbC5VbFW2MUuTiEtOYt91MZqzefyrXNJNGlcpwR4MwutYPo3yZS/x9KQwOntQAJTZERERERESssWM6xB0A77LQbOilt3H3goiusGUibJuqxEYxdSYpjb+2RzNzayQr98WSeUE2o0FFf+5oEEaXemFUCihVtIFlpMKk+2DvXw6b1AAlNkRERERERIqe3Q7L3jeXWw0Hz9KX37ZebzOxseMP6Dz6fNcUcWrxyenM3xHNrC0nWLEvlvTM88mMuuX96NYgjDvql6dyuSJOZmS7KKkxCaq1tyaWq7A0sTF69GimTp3Krl278Pb2pk2bNrzzzjtERERc8XWTJ0/m5Zdf5tChQ9SsWZN33nmHrl27FlHUIiIiIiIi12n3bIjZaU4zafHglbet1gG8/OFcFBxZDVVvLJoYpcCdTUlnwc5oZm2JZNmeWNIyz7dfrRXqyx0NwujWoDzhgT4WRgmkp8Bv9ztFUgMsTmwsXbqU4cOH07x5czIyMnjhhRe4/fbb2bFjBz4+l/6DXLVqFf3792f06NHccccdTJgwgZ49e7Jhwwbq1atXxO9ARERERETkGhkGLHvPXG7xIHiXufL2bh5Qqzts+sUsIlpCExuJqRkA+Hg618SDxNQMFu46yczNJ1iyJ4a0jPPJjJrBpbmjQXm6NQijRvAVRu0UJSdLagDYDMO4ho63hSsmJobg4GCWLl3KTTfddMlt+vbtS2JiIjNnzsxZ16pVKxo1asRXX3111WMkJCTg7+9PfHw8fn5+BRa7iIhIcaDvyaKlz1ukhNq3AH65C9xLwYit4BN49dfsXQDj7wKfIBi5C1yd68d9ftjtBttPJLB0z0mW7olhw5EzZNoNfL3cCPP3IszfO9d9qL8X5ct4EervTWmLkx9JaRks3hXDrK0nWLTrJCnp55MZ1YJ8uKNBee5oEMYNIb4WRnkJDpbUyOv3pEP9a4iPjwcgICDgstusXr2akSNH5lrXqVMnpk+ffsntU1NTSU1NzXmckJBw/YGKiIiIiIjkh2HA0qzRGk2H5C2pAeaPS++ykBgDh1c6/BX0/Dp1LpUV+2JZsjuGZXtiOJWYdtE2Z1MyOJtyjj3R5y67n38nP0L9vSjv712oyY+U9EyW7D7JzC2RLNx5kuT0zJznqpYrlTMyo1aoLzZbIbZmza/0FLOmxr75DpHUuBYOk9iw2+2MGDGCtm3bXnFKSVRUFCEhIbnWhYSEEBUVdcntR48ezahRowo0VhERERERkXw5vBKOrgFXD2jzRN5f5+oOtbvDhp9g+1Sn+cF5NRmZdjYfO8PS3TEs3RPDluPxXDinwMfDlTY1Ark5IoibagZR1seDqPhkTpxJISo+hcj4FCLjk4mMNx+fiE/OSnzkIfnh6UZYVpKjfFbyI9dIkDJXT36kZmSybE8sM7ecYMGOaBLTziczKgV4062+OTKjbnk/x0xmZPt3UuPe3yD80rMoHJHDJDaGDx/Otm3bWLFiRYHu9/nnn881wiMhIYFKlSoV6DFERERERETyJLsTSuP7wC/s2l5bt7eZ2NgxA7qOcdrpKNEJKSzdYyYyVuyNJT45PdfztcP8aH9DEO1vCKJplbJ4uLnker5GsC81gi8/heNcagZRWcmOyPgUIs+kEJVwYTIkmYSUDM6mZnA2+urJj9CsJEeYnxdhZczkRykPNxbvOsn8HdGczar9AVChjLfZzaRBGPUr+Dt2MiObkyc1wEESG48//jgzZ85k2bJlVKxY8YrbhoaGEh0dnWtddHQ0oaGhl9ze09MTT0/PAotVREREREQkX46thwOLweYKbUdc++urtoNSgZAUCweXQo1bCzzEwpCWYWf94dMs3RPDkt0n2RV1Ntfzfl5utMtKZLS/IYgQP6/rOl5pT7c8Jj9yj/bINfLjzAXJj5Pn2Hvy8smPUD8vujUIo1uDMBpXKuMcyYxsxSCpARYnNgzD4IknnmDatGksWbKE8PDwq76mdevWLFy4kBEjRuSsmz9/Pq1bty7ESEVERERERK7T8qzRGg36Qtkq1/56Vzeocyes+8HsjuLAiY2jcUks2xvDkt0xrNoXm2uKhs0GDSqWyUlkNKzoj5uryxX2VvDM5EfpK3YiSUzNuCjpYT5OJi4xjcaVy3JHgzCaVC6Li4sTJTOypafApHvNYrZu3nDvZAhvZ3VU+WJpYmP48OFMmDCBP/74A19f35w6Gf7+/nh7ewMwcOBAKlSowOjRowF46qmnaN++PWPGjKFbt25MnDiRdevW8c0331j2PkRERERERK4oahvsng3YoN3Iq25+WXV7m4mNnX9Ctw/MVrAOICU9k78PxmXVyjjJ/pjEXM8HlvbgpppBtI8I4sYagZQr7fij6n3ykPxwWsUoqQEWJza+/PJLAG6++eZc68eOHcvgwYMBOHLkCC4u57N3bdq0YcKECbz00ku88MIL1KxZk+nTp1+x4KiIiIiIiIillo8x7+v2hMCa+d9PlTZQOgTORZvTUWreViDhXSvDMDgYm5hTK2PNgVO5Wpq6uthoUtkclXFzRDB1wvycc1RDcVTMkhrgAFNRrmbJkiUXrbvnnnu45557CiEiERERERGRAha715w6AtDuP9e3LxdXqNMD1n4D26YWaWIjMTWD1ftPmbUy9pzkaFxyrudD/by4OcKcXtKmRiD+3u5FFpvk0YVJDfdSMOA3p09qgIMUDxURERERESm2ln8AGBDRFUILYKR53V5mYmPXLMhIBbe8Teuw2w3SMu2kZ9pJzzRIz7STlvGvx5l20jOyHtvN5eyRGf8ciiM98/zFaQ9XF5qHl82qlRHMDSGlnatwZkmTngITB8D+hcUqqQFKbIiIiIiIiBSe04dhyyRzOQ+jNZLSMvj7QBwbj5wmOT2T9EwzGZGRlXxIy7STke7G267lKJt6inc+/4I17i3M5ETGBcmJC5IV2cuZ9quPmL+aygGlckZltKpWDh9P/aR0CsU4qQFKbIiIiIiIiBSelR+BkQnVOkDFphc9bbcbbD+RwLK9MSzfG8P6w6dzjYq4nJZuzRnqNpeasQv4Mv2GfIXm5mLD3dUFd1cbHm4uWcsuuLna8HB1yXkuwMeDG2sE0j4imKrlSmlUhrMp5kkNUGJDRERERESkcCREwsZfzOWbzo/WOHEmmRV7Y1m+L5YVe2M4nZSe62UVy3rTpno5yvp44O6SlWBwuzDZ4EJIwn2wci7dPTfi36c+rh5e5vNu5xMS7hckJ3Je65b1nIuLinmWBP9Oatw7GareaHVUBU6JDRERERERkcKw6lPITCOzYiuWJddk2Z/bWb43ln0nz+XarLSnG62rl+OmmoG0qxlElbyMirBXhK0VcU84xq1uWyDijkJ8I+KUSkhSA5TYEBERERERKVB2u8Gu/QepufY73IEHDt3M4n3rcp53sUHDSmVoVzOIdjUDaVSpDO6uLtd2EBcXs3Xs6s9g+1SorcSGXCA9OSupsajYJzVAiQ0REREREZHrFhmfzPK9sSzfG8vKfbEMTf2ZOm6pbLGHszijPhXLetOuZhA31QykTfVA/EsVQCvUur3NxMbuuZCWBB6lrn+f4vxKWFIDlNgQERERERG5ZtndS8yin7mnl/iRyCDPvwCIa/IkS27skLfpJdeqQhMoUxnOHIG9f5kjOKRkuyipMQWqtrU6qkKnxIaIiIiIiMhVZHcvWb4vhuV7Yll3OC5X95Kc6SU1AumTPBHfjckQVJub7xxsThspDDYb1O0FKz+G7dOU2Cjp0pPh1/5wYHGJSmqAEhsiIiIiIiWTYZg/jOWy/j29JC4xLdfzFcp4c9MN/5peknoOPhprbnDTfwovqZGtbm8zsbFnnnlsz9KFezxxTCU4qQFKbEhJYLebvcNdC2Aeo4iIiEhxsPEX+OtluG0UNBlodTQOI3t6iZnMiGHvFbqX3FgziKqXml6yfiwkn4aAauZoisIW1hDKhsPpg7B3HtS7q/CPKY4lV1LDJ6umRslJaoASG1LcpSfD+Hsgehs8uhr8wqyOSERERMR626ZCchzMeAJSz0Lr4VZHZKnI+GS+XXaQif8cISktM2e9iw0aVCxjtmG9Iejq3UvSk80WrwA3jgQX10KOHHPUTb3esHyM+eeqxEbJoqQGoMSGFGeGAX88DoeWm493TIdWj1oakoiIiIhDiNl9fnneC5CSADc/V+KmpuyPOcfXS/czbePxnHoZl5xeklcbf4Fz0eBfCRr0LaSoL6FuLzOxsXe++Wfp5Vd0xxZrTX+0xCc1QIkNKc6Wvw/bppx/vHu2EhsiIiIiqecg4Zi53OZJWPUJLH3bHLnR6c0SkdzYeiyeL5bsY+72KIys+p8twwN4rEMNbqoZmL/uJRlpZq0LgLZPgZtHwQV8NSH1oFxNOLUX9syFBn2K7thinf2LzaKxNle497cSm9QAJTakuNoxAxa9YS63HQErP4JDK835jt5lrYxMRERExFqxe8x7nyC4/f/AvyLM+R+s+RzSzsIdHxXNFIoiZhgGqw+c4ssl+1m+NzZnfcfaITx6c3WaVrnOc8QtkyD+KJQOgcb3XWe01yi7O8qyd83pKEpsFH+ZGTD3eXO5+QNQ9UZr47FYIZfoFbFA5GaY9rC53PIRsyhWUG2zgOjeBdbGJiIiDu3zzz+natWqeHl50bJlS9auXXvF7c+cOcPw4cMJCwvD09OTG264gdmzZxdRtCL5lJ3YCIww71s+DD2+AJsLbPgJfn/AHH1QTNjtBvO2R9Hzi1UM+PZvlu+NxdXFRu/GFZg34ia+G9Ts+pMa9kxY8YG53PpxcPe+/sCvVb3e5v3+hZB8puiPL0Vr3fcQsxO8A8xpZCWcRmxI8XI2yiyek54E1W+F298010d0Mf/h754NDe6xNkYREXFIkyZNYuTIkXz11Ve0bNmSjz76iE6dOrF7926Cg4Mv2j4tLY3bbruN4OBgpkyZQoUKFTh8+DBlypQp+uBFrkV2fY2gG86va3yv2SZ0yjDYPhXSzkGfn6z5gV5A0jPt/LHpBF8t3c++rO4mnm4u9G1eiQfbVaNSQKmCO9j2aRB3wBwZ3Gxowe33WgTXhqBaELPLPOdtNMCaOKTwJZ6CxVm/c255EUoFWBuPA1BiQ4qP9BSYeC8kHDfnGN79A7hm/RWP6Gpm0fctMK9AFOWcRxERcQoffPABDz74IEOGDAHgq6++YtasWfzwww8899zFV8N++OEH4uLiWLVqFe7uZnHBqlWrFmXIIvmTPWIjqFbu9XV6QH8fmHQf7P0Lfrkb+v/qdIUok9MymfTPEb5dfpDjZ5IB8PVyY2DrKgxuE06Qr2fBHtBuNwt3ArQabiaIrFK3Nyx5y0y0KLFRfC1+A1LizdoqTYdYHY1D0FQUKR4MA2Y8DsfXgVcZGDAJvMucf75CU/AJhtQEOLzCqihFRMRBpaWlsX79ejp27JizzsXFhY4dO7J69epLvmbGjBm0bt2a4cOHExISQr169XjrrbfIzMy85PYAqampJCQk5LqJFLnsERuBN1z8XM2OcP9U8PA1z5l+6gFJcUUbXz7FJ6Xz2aK93PjOIl77cwfHzyQTWNqTZzvXYuVzt/DfTrUKPqkB5uiIkzvA0w9aPFjw+78WdXuZ9/sXOc2fm1yjqK2wfpy53OWdYlkPJz+U2JDiYfkY2DoZXNyg789Qrnru511cIKKzubx7TtHHJyIiDi02NpbMzExCQkJyrQ8JCSEqKuqSrzlw4ABTpkwhMzOT2bNn8/LLLzNmzBjeeOONyx5n9OjR+Pv759wqVapUoO9D5Koy0swpEwBBEZfepkobGPynOXf/xAYY182c7uugTiakMHr2Ttq+s4j3/9rDqcQ0KgV4838967Hi2Q48enN1/LyuoWXrtTAMWPaeudziwdwX1qwQdIN5Fd+eAbtmWRuLFDzDgDnPgWGHOj1LfMHQCymxIc5vxwxY9H/mctf3IPymS28X0dW83zWbnL5eIiIi+WS32wkODuabb76hadOm9O3blxdffJGvvvrqsq95/vnniY+Pz7kdPXq0CCMWwUxqGJnmiAzfsMtvV74xDJkDpUPN0Qg/dIbTh4suzjw4fCqR56du5cZ3FvP1sgOcS82gVqgvH/drxOJnbub+VlXwci/kq9n7F0LkJnAvBa0eK9xj5VXdnub99qmWhiGFYMd0cySVm5fZ0UhyqMaGOLcLO6C0ePjKxZqq3Qxu3mbf9qitENagSEIUERHHFxgYiKurK9HR0bnWR0dHExoaesnXhIWF4e7ujqvr+R9OtWvXJioqirS0NDw8Lq7n5OnpiadnIQyFF8mr2AsKh9psV942uBYMnWtORzl9EMZ2gYF/QGDNwo/zCnacSODLpfuZteUE9qxrVc2qlOWxDtXpEBGM7WrvqyAte9+8bzoEfAKL7rhXUrc3LHoDDiw1i0z6lLM6IikIaUnw18vmctunoExla+NxMBqxIc7rbPQFHVBugU5vXXl7d29zO9B0FBERycXDw4OmTZuycOHCnHV2u52FCxfSunXrS76mbdu27Nu3D7vdnrNuz549hIWFXTKpIeIQYv7V6vVqAsLN5EZghFmg/YfOELml8OK7grUH4xgydi1dP1nOn5vNpEaHiCB+e7g1Ux5twy21Qoo2qXFoJRxZDa4e0OaJojvu1ZSrDqENzJE5O2dYHY0UlFWfQPxR8KsIbUdYHY3DUWJDnFN6CkwccEEHlLHnO6BcSUQX83635hyKiEhuI0eO5Ntvv+XHH39k586dPProoyQmJuZ0SRk4cCDPP/98zvaPPvoocXFxPPXUU+zZs4dZs2bx1ltvMXz4cKvegsjVxV6i1evV+JWHIbMhrCEkxcK4O+DI34UT378YhsGiXdHc/eUq+ny9msW7Y3CxQfeG5Zn9ZDvGDmlBi3CLWl1m19ZofB/4XWFajxXq9Tbvt0+zNg4pGGeOwoqPzOXbXwePAmxVXExoKoo4n6t1QLmSGzoDNnMKS/xx8K9QiIGKiIgz6du3LzExMbzyyitERUXRqFEj5s6dm1NQ9MiRI7i4nL8mVKlSJebNm8fTTz9NgwYNqFChAk899RTPPvusVW9B5OpyOqLkccRGNp9AGPQnTOhrjlL4uSf0mwDVOxR4iAAZmXZmbY3kyyX72RV1FgAPVxfualqRh2+qRtVAn0I5bp4dWw8HFoPN1TGvntfpCQteg0PL4dxJKB1sdURyPea/DBnJUKWtOdVILqLEhjifCzug9Pnp4g4oV1I6CCq1gKN/w5450PyBwotTRESczuOPP87jjz9+yeeWLFly0brWrVuzZs2aQo5KpIDY7RC711y+XEeUK/Hyh/umwqT7zKKZE/rAPeOgVrcCCzElPZMp64/xzbIDHIlLAsDHw5X7WlVh2I3hBPt5FdixrsvyrNoaDfpC2SrWxnIpAeFQvonZ1WbnDJ3zOrNDK82RNzYX6Pz21WvjlFCaiiLO5d8dUKq1v/Z9ZE9H2TW74OISERERcXTxR8yrvq4eUCafP8Y9SkH/X6H2nZCZBpPuh82Trju0synpfLlkPze+s5iXpm/jSFwSAT4e/Of2G1j13K0837W24yQ1orbB7tmADdqNtDqay6vby7zfpukoTsueCXOyRgE2GaTmB1egERviPK6lA8qVRHQzh+YdXAYpCeDlV2AhioiIiDis7MKh5WrkrTbZ5bh5mvXNZjwBmyeY52dp56D5sDy9/FxqBodiEzl8KolDpxI5EJPIXzuiOJuSAUCFMt482C6cvs0r4+1RyO1a82P5GPO+bk/LO8RcUd2e5hSGwyvhbBT4XrrDkziwDT9C9Fbw9IdbXrI6GoemxIY4h2vtgHIlgTUhoDrE7Yf9i873+hYREREpzrILhwZeQ+HQy3F1gx6fg2dpWPsNzBoJqQlw49MAJKZmcOhUIodik7LuE837U0nEnE295C5rBJfm0fbVubNRedxdHXRgeeze8wU52/3H2liupkxlqNgcjv0DO/6Alg9bHZFci+TTsDBrpHqH5x2nnbCDUmJDHF9+O6Bcjs1mTkdZ/Zk5jFCJDRERp1W1alWGDh3K4MGDqVy5stXhiDi27MKh+amvcQlJGXYONXwJjwQXauz6Cha8xtTVu3g79W5Onku74mvL+XhQpVwpqgb6EF7Oh3oV/WlfMwgXFwevH7DiQ8CAiK4QWs/qaK6ubm8zsbF9mhIbzmbJ25AcB0G1VCMlD5TYEMdmGOYwx/x0QLmSWt3MxMaeeZCZcX2JEhERscyIESMYN24cr7/+Oh06dGDYsGH06tULT09Pq0MTcTyxWVNRrmHERlJahjllJDaRg6cSORybxMGsERgnc0Ze3MTDrvE87/4rvRMnkpARxygGUtbHiyrlShFezoeqgT7mcqAPVcr54O/tXvDvr7CdPgybJ5rLjj5aI1udHjDvebOTjToCOo+TO2Htt+Zy59Hg6oT/XoqYfs2JY1s+Brb+lr8OKFdSsQV4B5hZ0KNroOqNBbNfEREpUiNGjGDEiBFs2LCBcePG8cQTT/DYY48xYMAAhg4dSpMmTawOUcQxGMYFIzZq5XoqOS2TQ6cSOXwqkYOxSRdMG0kkOuHS00aylS3lTtVAH06We4RFaVXosP8dBrv9xYCGZfHo/UXxuni08mMwMqFaB6jY1Opo8sa/AlRubSY2dvwBrR+zOiK5GsOAuc+bf9ciupnT8OWqitH/NFLs7PzzfAeULu/mrwPK5bi6wQ2dYPOvsHuOEhsiIk6uSZMmNGnShDFjxvDFF1/w7LPP8uWXX1K/fn2efPJJhgwZgk0t8qQkS4yBlDNmy8hyNZi7LZKfVh/mQEwiUQkpV3xpmVLuVC3nQ9XsqSOBPlmPffAvdeGV5EawpTpMewSP7ZPAngR3fW8WG3V2CZGw8Wdz+SYnGa2RrW4vM7GxfaoSG85g92w4sNjsXtTpDaujcRpKbIhjitwCUx8yl1s8lOcq29ckoquZ2Ng1C25/Qz2hRUScWHp6OtOmTWPs2LHMnz+fVq1aMWzYMI4dO8YLL7zAggULmDBhgtVhilgna7RGpn9lRv6+kz82ncj1tL+3e1a9i1JUKZeVvAg0kxllSnnk/TgN+oCHD0webF6k+rUf9P3FXOfMVn1qtret3BqqtLU6mmtTp4fZMvTYP3DmiFlUVBxTegrMe8Fcbj0cAqpZG48TUWJDHM9FHVBGF85xqt9iZkJPHzS/7INrXf01IiLiUDZs2MDYsWP59ddfcXFxYeDAgXz44YfUqnX+//RevXrRvHlzC6MUcQBZHVFWxZfjj6gTuNjgoZuq06luCOGBPteWvLiaWt1gwG9m8ff9i+Dn3nDvb+DlX3DHKEqJsbB+rLl803+c72KYb6iZjDm8ArZPh7ZPWh2RXM6az+H0ISgdCu2esToap+KgfZSkxMrpgHKsYDqgXIlnaQjPmt6ye3bhHENERApV8+bN2bt3L19++SXHjx/n/fffz5XUAAgPD6dfv34WRShivbMp6axcswqA7elhVAvy4fdH2/Bcl1o0rly2YJMa2ap3gIF/mMmMo2vgx+5mgsAZrfnCvOAW1giq32p1NPlTr5d5n92qVhxPwglYNsZcvm0UePpaG4+TUWJDHEdhdUC5klpdzXslNkREnNKBAweYO3cu99xzD+7ul64a7+Pjw9ixY4s4MhHHsGp/LJ0/Wo79pDliI6x6Q2Y/2Y7GlcsW/sErtYBBM6FUIERuhrFdzB9vziT5zPnuFDf91/lGa2SrfadZX+XEBog7aHU0cikLXoP0RKjYHOr3sToap6PEhjiOFR+YHVBsrgXbAeVKbuhs3h9bZ06BERERp3Ly5En+/vvvi9b//fffrFu3zoKIRBxDclomr83YzoBv/+b4mWQiXCMB6NGxA17urkUXSFgDGDoX/CqY7WZ/6OxcP6zXfgupCRBU26zP5qxKB0PVdubyjumWhiKXcHQtbJlkLnd5B1z0M/1a6RMTx7DzT1j4urnc9b2C7YByJX7loXxjwIC984rmmCIiUmCGDx/O0aNHL1p//Phxhg8fbkFEItZbf/g0XT9ZzrhVhwAY0qwcwZwynwy6oegDCqxpJjcCqsGZw2Zy4+TOoo/jWqWeM2segFlbw9l/bNbNmo6ybaq1cUhudrtZ3BWg0X1QwUlaCTsYJ//XKcVCUXRAuZKIbub9Lk1HERFxNjt27KBJkyYXrW/cuDE7duywICIR66RmZPLO3F3c89UqDsYmEuLnybghzXm1VVa9stKh1hXwLFMZhsyF4DpwLgrGdoUTG62JJa/Wj4Xk0xBQ/XxSwJnVvtMcGR21BU7ttzoaybZ5gjlFyMMXbn3F6miclhIbYq0LO6BU61B4HVCuJKKLeX9gMaQlFf3xRUQk3zw9PYmOvngqYWRkJG5uav4mJrvdwDAMq8MoVNuOx9Pjs5V8uWQ/dgN6Na7AXyPac3NEcE6rV0tGa1zINwQGzzKvSCfHwbjucGiltTFdTnqK2eIV4ManwaUIp+8UFp9y50dFb9eoDYeQkgALRpnL7f9r/huRfFFiQ6yTngKT7s3qgFID7inEDihXElIX/CtDRgocWFL0xxcRkXy7/fbbef7554mPj89Zd+bMGV544QVuu+02CyMTR7En+iwdP1hK0zcW8N68XUTFp1gdUoFKz7TzycK99Px8JbuizlLOx4Ov7mvKh30b4V8qq6BuVqtXAiOsCzRbqQCzW0rVdpB2Fn7pDXsXWB3VxTb+DOeiwb8SNOhrdTQFp25v8377dEvDkCzL3oXEk+aooJaPWh2NU1NiQ6xhGPDnk3Dsn6wOKL+BdxFU574Um+2C7iizrIlBRETy5f333+fo0aNUqVKFDh060KFDB8LDw4mKimLMmDFWhycWW7Qrmt5frOJAbCJxiWl8vng/bd9ZxOMTNrD+cJzTj+LYG32Wu75cxQfz95BhN+hcN5S/nr6JzvVCc28Ys8e8D3KAxAaYbSzvnQw1O5kXln7tB+vHQew+xxg9m5kOKz82l9s+BW6F0A7XKrW6gYsbRG87//dCrBG7D9Z8ZS53Hl28/p5ZQGM0xRorPjAr/xZlB5QriegCf38Fu+eCPbN4DDcUESkBKlSowJYtWxg/fjybN2/G29ubIUOG0L9//8u2f5XizzAMvll2gLfn7sIwoGV4AANaVmbC30f4+2AcM7dEMnNLJPUr+DO4TVXuaBiGp5vzfPdn2g1+WHGQ9/7aTVqGHT8vN17vUY8ejcpju1Q70pwRGxZPRbmQuzf0/QWmPWxOi/jzqfPPeZc1u6j4VTALvftVAP/s5YrmvUepwottyySIPwqlQ6DxfYV3HCuUCoDqt8Dev2D7NLj5WasjKrnmvQD2dKhxG9zQyeponJ4SG1L0ds68oAPKu0XXAeVKqrQFT39IioXj682+6yIi4hR8fHx46KGHrA5DHERqRiYvTN3G7xuOAdC/RWVG3VkXDzcXejSqwI4TCfy46hDTNx1n6/F4npm8mdFzdjKgRWXubVWFED8vi9/BlR0+lch/Jm/mn0OnAbg5Ioi3ezcg1P8ycaenwOlD5rKjjNjI5uYBd30HAeHm+WHCcUg7ZxbsTD5tjiq4HK8y4F/xfOIjOwnif8Gyh8+1x2TPhOVZo71aP24mYIqbur2yEhtTldiwyt75ZkdGFzdztIZcNyU2pGhFbT3fAaX5g9D8AWvjyebqDjVvg21TYNcsJTZERJzMjh07OHLkCGlpabnW33nnnRZFJFY4eTaFR35ez4YjZ3B1sfHKHXUY2LpKrlEMdcr78c7dDXi2Sy0m/nOEn1cfJjI+hU8W7eOLJfvpWj+MwW2r0qSyRVNkL8MwDH75+whvzdpJcnomPh6uvHxHHfo2r3TpURrZ4vaDYTcv4JR2wMKELq5mJ4hbXzGnKqcmQMIJiD9uJjqyb/HHzfXZyY+UM+btasmPS4328Ct/Piny7+TH9mkQd8AcNdJsaCG+cQtFdAVXD4jZZbbdDa5tdUQlS0YazH3OXG75iNkOWa5bvhIbR48exWazUbFiRQDWrl3LhAkTqFOnjq6YyOWdjYYJ/SA9EardDJ3ftjqi3CK6mImN3XPgtlFWRyMiInlw4MABevXqxdatW7HZbDk1E7J/6GVmZloZnhShbcfjeeindZyIT8HPy43P721Cu5pBl90+wMeDx26uwYPtqvHX9mjGrTrIP4dOM2PzCWZsPkHDiv4MbluVrvWtn6Zy4kwyz/6+heV7YwFoVS2A9+5uSKWAPEzHyOmIEmHWFXNkNpvZjtbL/8o/tlPi/5X8OGEWo79w3YXJj5PbL7+vfyc/Diw117caDp6lC/DNORDvMlD9VtgzB7ZNhVtetDqivDEMc6SJTxBUuLjNt9NY+zWc2me+j/b/szqaYiNfiY0BAwbw0EMPcf/99xMVFcVtt91G3bp1GT9+PFFRUbzyivrvyr9c1AFlnDUdUK6kRkdzOFjsbrO3t9V1P0RE5KqeeuopwsPDWbhwIeHh4axdu5ZTp07xzDPP8P7771sdnhSROVsjGfnbZpLTM6kW6MN3g5pRLShvP0rdXV3o1iCMbg3C2HY8nnGrDjFj0wk2H4vn6UmbeXPWLu5rVZkBLSsT7Fu001QMw+D3DccZNWM7Z1Mz8HRz4bkutRjUuiouLnlMUsRmFw51oPoa1+takh+5RnvkMfnh6QctHizsd2Gter3NxMb2adDhBcdPetkzzVEOa78BbNBuJNz8vDnq2pmcOwlL3zWXb33F/HssBSJfvyy3bdtGixbmUP3ffvuNevXqsXLlSv766y8eeeQRJTYkt1wdUPyh/yTrOqBciXcZqHqj2fJ192xo84TVEYmIyFWsXr2aRYsWERgYiIuLCy4uLtx4442MHj2aJ598ko0bN1odohQiwzD4dNE+Pphv/nhvVzOQzwY0wd87fz926lXw5/17GvJcl1pMXHuEn9ccJjohlY8W7OXzxfu4o0F5BrepSsNKZQrwXVxazNlUXpi2lfk7ogFoVKkMY/o0pHoeEzbnd+RArV6LUp6SHwkXT3U5FwUR3czzwuLshs7g6gmn9prTeULrWx3R5aUnw+8PwK6ZWSsMsw7KgaXna7Q4i4Wvm9OtwhpBo2JWmNZi+UpspKen4+npCcCCBQty5q/WqlWLyMjIgotOiocVH57vgHLPjxBYw+qILi+ia1ZiY44SGyIiTiAzMxNfX18AAgMDOXHiBBEREVSpUoXdu3dbHJ0UpuS0TP47ZTMzt5jnnkPaVuXFrrVxc3W57n0Hlvbk8Vtq8nD76szdFsW4VYdYf/g00zYeZ9rG4zSuXIbBbarSpV4YHm7Xf7x/m7Ulkpemb+V0Ujrurjaevu0GHmpXLX/vLdbBWr06Ei8/81YSa0x4+Zn15XbNNEdtOGpiIykOfu0PR9eYdUF6fW2OLvnzKTi+Dr5qB3d8AA36WB3p1Z3YCBt/MZe7vAsuBf9/R0mWr0+zbt26fPXVVyxfvpz58+fTuXNnAE6cOEG5cuUKNEBxcjtnwsKsehVd34XqHayN52oiupj3R1ab/5GKiIhDq1evHps3bwagZcuWvPvuu6xcuZLXX3+datWqWRydFJao+BT6fL2amVsicXe18Xbv+rzavW6BJDUu5O7qQveG5fn90TbMeLwtvZtUwMPVhY1HzvDUxE3c+M4iPlm4l5izqQVyvDNJaTzx60aGT9jA6aR06oT5MePxG3ns5hr5e2/2TIjday47UqtXcQx1e5n326aaI6wdzenD8P3tZlLDyx/un2ZOoanbCx5ZCZVbQ9pZmPogTH3YHIHjqAwD5jwLGFC/D1RuaXVExU6+/vd/5513+Prrr7n55pvp378/DRs2BGDGjBk5U1REHLYDypWUqQwh9c3q4XvmWR2NiIhcxUsvvYTdbgfg9ddf5+DBg7Rr147Zs2fzySefWBydFIZNR89w52cr2Ho8ngAfD34Z1pJ+LSoX+nEbVCzDB30asfK5W3i64w0E+Xpy8mwqH8zfQ9u3FzHyt01sPRaf7/0v2hXNbR8u48/NJ3B1sfHkLTWYPrwttcP88h/0mcOQmQpuXuY5jsiFbugMbt5w+iBEbrI6mtwit8D3t5lTZfwqwNB55pTxbGUqwaCZcPMLYHOBLRPh63ZwbL11MV/J1slw9G9wL6UmBYXEZhj5S89lZmaSkJBA2bLnayUcOnSIUqVKERwcXGABFrSEhAT8/f2Jj4/Hz+86vijkys6dhG86mEWaqt0M9/7ueMVCL2fRm7DsXah9J/T92epoRESKVHH4noyLi6Ns2bJXboHpIIrD512U/th0nP9O2UJahp2IEF++G9Qsb51BCkFahp052yIZu/IQm46eyVnfrEpZBretSqe6objnYZTF2ZR0/m/mDn5bdwyA6kE+fNCnUcHU8dg9B37tZ160eXTF9e9Pip/fBsKOP6DtU3Db61ZHY9q/CCbdbxZ3Da4L9042u9ZczpE18PuDEH/EbATQ4QVoO8JsJewIUs/BZ83gbCTc8hLc9F+rI3Iqef2ezNeIjeTkZFJTU3OSGocPH+ajjz5i9+7d15TUWLZsGd27d6d8+fLYbDamT59+xe2XLFmCzWa76BYVFZWftyGFxTBgxhOO3QHlSrKno+xbaHZzERERh5Seno6bmxvbtm3LtT4gIMApkhqSd3a7wbtzd/HUxE2kZdjpWDuY3x9rY1lSA8DDzYUejSowfXhbpj3Whp6NyuPuamPd4dM8PmEj7d5ZzOeL93Hq3OWnqazaF0vnj5bz27pj2GzwYLtwZj3ZruCKk+a0etU0FLmMur3N++3THGM6yuaJMP4eM6lRtR0MnXPlpAZA5VbwyHLzvdgzzAKdP/Uwi8E6ghUfmEmNMlWgtWr4FZZ8JTZ69OjBTz/9BMCZM2do2bIlY8aMoWfPnnz55Zd53k9iYiINGzbk888/v6bj7969m8jIyJybI48QKZG2T4M9c80CP31/ccwOKFcS1gh8wyA9EQ4ttzoaERG5DHd3dypXrkxmZqbVoUghOpeawcO/rOeLJfsBePTm6nx9fzNKezrORZPGlcvyUb/GrHz2Fp66tSaBpT2ISkjhvXm7af32Iv47eTPbjp+fppKUlsGrf2xjwHd/c/xMMpUDSjHpoda82K0OXu4FeJU5u3BoSeuIInlX83Zw94EzR+D4BuviMLI6nUx72ExO1Lsb7vs97+1QvcvA3T9Ajy/M93NoOXzZBnbNKtSwryruIKz6zFzu9Ca4F23L6JIkX4mNDRs20K5dOwCmTJlCSEgIhw8f5qeffrqm+axdunThjTfeoFevXtd0/ODgYEJDQ3NuLqoo6ziS4mDO/8zldv9xzirTLi7nR23snm1tLCIickUvvvgiL7zwAnFxKvhcHB2NS+LuL1cxf0c0Hm4ufNi3Ic92roWri2OOyAn28+Lp225g5XO38GHfhjSo6E9ahp3J649xx6cr6PPVan5efYiuHy/nx9WHAbivVWXmPNWOFuEBBR+QRmzI1XiUggizEQTbp1oTgz0TZj1jjrQAaPMk9P4W3DyvbT82GzS+Fx5eBmENIfk0TBwAM0eaLWOt8NdLZp2b8PZQ6w5rYigh8pXqTkpKymmt9tdff9G7d29cXFxo1aoVhw8fLtAAL6VRo0akpqZSr149XnvtNdq2bXvZbVNTU0lNPT8EMCHBgavlFgd/vQyJMRBUC2582upo8i+iK6z7wZyb2u0D8z9KERFxOJ999hn79u2jfPnyVKlSBR8fn1zPb9hg4RVIuS5rD8bxyC/riUtMI7C0J98MbEqTys4xCtTTzZVejSvSs1EFNh49w9iVh5izNZK1h+JYe8hMwoX5e/HOXQ246YagwgnCMDRiQ/Kmbi/Y9jtsnw63/V/RtiFNT4bfHzDbzmKDzm9Dq0eub5+BNWDYAlj0Oqz6FNZ9D4dXmiM6QuoWSNh5cmCJ+b5srtDlHf2eKGT5SmzUqFGD6dOn06tXL+bNm8fTT5s/YE+ePFmoha/CwsL46quvaNasGampqXz33XfcfPPN/P333zRp0uSSrxk9ejSjRqnybJHYvxg2/QLY4M5Pwc3D6ojyr2o7cxjb2Uiz53SFS//9EhERa/Xs2dPqEKQQTPrnCC9N30Z6pkG9Cn58c38zypfxtjqsa2az2WhSuSxNKpclqmttxv99mOmbjtO6Wjle7FYHf2/3wjv42ShITTA7RpSrXnjHEedX4zbwKG3Wxzv2T9G1Ik2Kgwl94dhacPWEu76FOj0KZt9uHnD7G1CtA0x7BGJ2mY0Nbn8DWjxY+EmGzAyY85y53PwB5xzF7mTy1RVlypQpDBgwgMzMTG655Rbmz58PmEmEZcuWMWfOnGsPxGZj2rRp13yC0r59eypXrszPP1+6e8WlRmxUqlRJ1ccLWloSfNkaTh+CFg9B1/esjuj6Tbofds6Am/4Ht7xodTQiIkVCXTqKlj7v3DIy7bw1exc/rDwIQLf6Ybx/T0O8PRyku4EzObDELKAYUB2e1MgluYrfH4Stv0HLR6HL24V/vNOH4Je74NQ+s45G/4lQpU3hHOtcDPwxHPbOMx/f0Bl6fA4+gYVzPIC/vzan53sHwBProVQhTDUrIQq1K8rdd9/NkSNHWLduHfPmzctZf+utt/Lhhx/mZ5f51qJFC/bt23fZ5z09PfHz88t1k0KwZLT5H5RfBbj1FaujKRgRXc373deeqBMREZFrE5+cztAf1+UkNZ7ueAOfDWispEZ+xWRNQwnSNBTJg3pZ3VF2TAe7vXCPdWITfHebmdTwrwRD/yq8pAZA6SAYMAm6vGuODNkzF75sa442LwyJp2Dxm+byLS8qqVFE8l1OOrtw57FjZs/tihUr0qJFiwILLK82bdpEWFhYkR9XLnBiE6zOqvbb7QPw9LU0nAJT83Zz+Gb0Vjh9GMpWsToiERH5FxcXlyu2dlXHFOdwMDaRYT/+w4GYRLzcXfigTyO61tf53XWJzSocGqjCoZIH1W8BT39zGvbRNYWXaNi3AH4bZLZzDakH904BvyL4t26zQcuHoUpbmDLU/Pfxcy9o+yR0eKlgp9AvfhNS4s3313RIwe1XrihfiQ273c4bb7zBmDFjOHfuHAC+vr4888wzvPjii3nuUnLu3Llcoy0OHjzIpk2bCAgIoHLlyjz//PMcP348p7XsRx99RHh4OHXr1iUlJYXvvvuORYsW8ddff+XnbUhByEyHGY+DYYd6d52vqlwc+JSDyq3NYkN75pr/GYqIiEOZNm1arsfp6els3LiRH3/8UTW2nMSKvbEMn7CB+OR0wvy9+HZgM+pVyGOLR7m8nI4otayNQ5yDmyfU6gabJ8C2qYWT2Ng4Hv580mznGt4e+v4CXkU8mj60Hjy0BP560WwUsPJjOLgM7vq+YGrRRG2F9WPN5S7vgItGnBWVfCU2XnzxRb7//nvefvvtnI4kK1as4LXXXiMlJYU333wzT/tZt24dHTp0yHk8cuRIAAYNGsS4ceOIjIzkyJEjOc+npaXxzDPPcPz4cUqVKkWDBg1YsGBBrn1IEVv9ufkP2LssdH7H6mgKXkQXM7Gxe7YSGyIiDqhHj4sLzd19993UrVuXSZMmMWzYMAuikrwwDIOf1xxm1J87yLQbNK5chq/vb0qwr5fVoRUP2R1R1OpV8qpuLzOxseOPgv1Rbhiw/H1Y9Ib5uH4fs8aFVY0GPErBHR+ao1RmPGE2CviqHXR7Hxr2z39hUcMwC4YadqjTE6reWKBhy5Xlq3ho+fLl+eqrr7jzzjtzrf/jjz947LHHOH78eIEFWNBUpKsAndoPX7aBjBTo+SU0GmB1RAXv1H74tAm4uMF/94N3GasjEhEpVMXle/LAgQM0aNAgZ2Spoyoun/e1Ss+089qM7Yz/27yA1btxBd7qXR8vd13dLBDJZ+CdrCm0zx8rPtOEpXBlpMH7NSHlDAz6E8Jvuv59ZmbA7P+cH8XQdgTc+mrRtpS9kvjjMPUhOLzCfFzvLjPp4ZWPUWPbp8HkweDmBY//A2UqF2ioJVWhFg+Ni4ujVq2Lh7XVqlWLuLi4/OxSnI1hwJ9PmUmNajeb2c3iqFx1s/e7PcOcEygiIg4vOTmZTz75hAoVKlgdilzC6cQ07v/+b8b/fQSbDZ7rUosxfRoqqVGQskdr+FVQUkPyzs0Dat9hLm+fduVt8yItCSbdl5XUsEHX9+G2UY6T1ADwrwCDZsAtL4PNFbb9Dl/dCEfXXtt+0pLgr5fN5bZPKalhgXz9rWrYsCGfffbZRes/++wzGjRocN1BiRPY+AscWg5u3nDHR4XfC9pKEV3Me3VHERFxOGXLliUgICDnVrZsWXx9ffnhhx94771i0Hq8mNkTfZYen69kzYE4fDxc+W5gMx5pX/2KBWAlH2J2mfcqHCrXqm52d5QZ5miL/EqMhR+7w5455giGvj9DiwcLJsaC5uIKN/0Hhs6DMlXgzBH4oTMsfRfseSxAveoTiD8KfhXNUSlS5PJVY+Pdd9+lW7duLFiwgNatWwOwevVqjh49yuzZsws0QHFAZ6PNgjtgtjAKCLc2nsIW0RVWfgR755vFUl3drY5IRESyfPjhh7l+FLu4uBAUFETLli0pW7ashZHJvy3aFc2Tv27iXGoGlQK8+W5gcyJCNZqgUOQUDlWrV7lG4TeBdwAkxZoXMavno5Zh3AH45W6I2w9eZcxWq5VbFXioBa5Sc3hkOcx6BrZONrub7F8Mvb+BMpUu/7ozR2HFR+by7a+bNTykyOUrsdG+fXv27NnD559/zq5dZka4d+/ePPTQQ7zxxhu0a9euQIMUBzPnf2YLo7BG0PJRq6MpfBWbgU8QJMaYhUSr3Wx1RCIikmXw4MFWhyBXYRgG3y4/wOg5uzAMaBkewJf3NSXAx6LCgSVB9lQUjdiQa+XqDnXuhPXjYPvUa09sHN8AE/qY583+leG+352rgK2XP9z1HdToaCY4jqyCr9rCnZ9CnYuLVQMw/xXISDZbyWaPeJEil+8JTuXLl+fNN9/k999/5/fff+eNN97g9OnTfP/99wUZnziaXbNgx3RzDtqdn4JrvnJjzsXFFW7oZC5rOoqIiEMZO3YskydPvmj95MmT+fHHHy2ISC6UmpHJfyZv4a3ZZlKjf4tK/DyspZIahU0jNuR61O1l3u/80xytnFd758O4O8ykRmh9eGC+cyU1LtSwnzl6o0JT84LubwNhxpOQlph7u0MrzQSQzQU6v128p+c7OAeq3CIOLyXezFwCtH0SwkpQPZWIrub9rtlm4VQREXEIo0ePJjAw8KL1wcHBvPXWWxZEJNlizqbS/5s1/L7hGC42eK17Hd7qVR8PN51+Fqr0ZLNGAJgF0EWuVZUbzdHKyafhwNK8vWbDzzChL6QnQrUOMHg2+IYWbpyFLaCaWXfjxqcBG2z4Eb65GSK3mM/bM2HOs+Zyk0El67eRA9I3i+TdglFwNtL8R97+WaujKVrVOpiFj+KPQPR2q6MREZEsR44cITz84lpPVapU4ciRIxZEJGC2c33gx3/YcOQMvl5ujBvSgsFtw1UktCjE7gUM8C4LPhcn/USuytUNat9pLl+tO4phwJJ3YMbjYGSanRIH/AZexaR9tas7dHwNBv4BpUPNaV7f3QqrvzCn60RvBU9/uOUlqyMt8ZTYkLw5vBrWZU0z6v4xuHtbG09R8yhlJjdA01FERBxIcHAwW7ZsuWj95s2bKVeunAURCcBHC/aw+Vg8/t7uTHusLTfdEGR1SCVHTn2NCA2Ll/yrl1UrYtefkJF26W0yM+DPp2BJ1ui4ds9Azy/NtrHFTbX28OgqcxR3ZhrMe/78SPYOzyuJ6ACuqUBC795XLoZy5syZ64lFHFV6Cvz5pLncZKBZLbkkiuhitqzaPQva/9fqaEREBOjfvz9PPvkkvr6+3HST+f20dOlSnnrqKfr162dxdCXT3wdO8cWS/QC81as+NYJLWxxRCZNTX8NJaxuIY6jcGkqHwLloOLD4fL25bGmJMHkI7J1n1pfo+h40f8CaWIuKTznoNwH++Q7+egkyUiCoVvF/307imhIb/v7+V31+4MCB1xWQOKDlY8zsf+kQuO11q6OxTkQX+NMGJzZCwgnwK291RCIiJd7//d//cejQIW699Vbc3MzTGrvdzsCBA1VjwwLxyek8PWkThgH3NK1ItwZhVodU8sRmJTZUX0Ouh4sr1OkJa7+GbVNzJzbOxZidT05sMKdq3/0D1OpmWahFymaDFg+aHVA2/gxNB5vTVcRy15TYGDt2bGHFIY4qejus+MBc7vqeOV+zpCodbLZ+PfYP7JkLzYZaHZGISInn4eHBpEmTeOONN9i0aRPe3t7Ur1+fKlWqWB1aiWMYBi9O28qJ+BSqlCvFq3fWtTqkkikmayqKOqLI9arby0xs7J5tjuB294JT++GXu+D0QfAOgAGToFILqyMteiF1oPNoq6OQC5SAXp2Sb/ZMs62RPQNq3XG+iFBJFtHFTGzsnqPEhoiIA6lZsyY1a9a0OowSbdrG48zcEomri42P+zWmtKdOM4tcZgac2mcuK7Eh16tSS/AtD2dPwP6FZvHMCX0gKRbKVIH7fodA/b8rjkHFQ+Xy1n4Lx9eBp585WkMFqCAia5jdgaWQes7aWEREhLvuuot33nnnovXvvvsu99xzjwURlUxHTiXxyh9m17CnO9akUaUy1gZUUp0+BPZ0cC8FfhWtjkacnYsL1O1pLi95G368w0xqhDWEYfOV1BCHosSGXNqZI7Awq57GbaNUTyJbUASUDYfMVNi/yOpoRERKvGXLltG1a9eL1nfp0oVly5ZZEFHJk5FpZ8SkjZxLzaB51bI8enMNq0MquXLqa9Q0f5SKXK+6Wc0jorZAehJUvxUGzwLfEGvjEvkX/Y8nFzMMmDkS0hOhchtoMtjqiByHzWa2eQK1fRURcQDnzp3Dw+Pi1oLu7u4kJCRYEFHJ8+mifWw4cgZfTzc+7NsIVxeN8LRMzC7zXoVDpaBUbAZlq5rLje41a2p4+loaksilKLEhF9s6BfbNB1cPuPMTZfz/rVZWYmPPXHMuq4iIWKZ+/fpMmjTpovUTJ06kTp06FkRUsqw/HMeni/YC8EavelQsW8riiEq4nMKhavUqBcRmg3unQN/x0ONzdQARh6WqTpJb4imY+6y53P5/mjt3KZVagVcZSI6DY2uhShurIxIRKbFefvllevfuzf79+7nlllsAWLhwIRMmTGDKlCkWR1e8nU1J56mJm7Ab0KtxBXo0qmB1SKJWr1IYAmvqN4E4PF2Kl9zmvQBJpyC4LrR5yupoHJOr2/le3rtnWxuLiEgJ1717d6ZPn86+fft47LHHeOaZZzh+/DiLFi2iRg3VeihMr/6xnWOnk6lY1ptRPdTa1XKGAbHm6Bl1RBGRkkaJDTlv3wLYMhGwwZ2fgtvFc5YlS3adjV2zzRMJERGxTLdu3Vi5ciWJiYkcOHCAPn368J///IeGDRtaHVqx9cem40zdeBwXG3zUtxF+XhqebrmE45B2DlzcIKCa1dGIiBQpJTbElJYIM582l1s9ChWbWhuPo6txq1mDJG7/+asjIiJimWXLljFo0CDKly/PmDFjuOWWW1izZo3VYRVLx04n8dL0bQA8cUtNmlUNsDgiASAmaxpKQDXVQRCREkc1NsS0+C2zxat/ZejwotXROD5PX6jaDvYvNKejqEiXiEiRi4qKYty4cXz//fckJCTQp08fUlNTmT59ugqHFpJMu8HISZs5m5JB48pleOIWTfdxGLFZhUMDdU4iIiWPRmwIHF8Pa74wl+/4EDxLWxuPs8jujqI6GyIiRa579+5ERESwZcsWPvroI06cOMGnn35qdVjF3ldL97P2UBw+Hq583Lcxbq46lXQY2SM2VF9DREogfRuVdJnpMONJMOzQoC/U7Gh1RM7jhi7m/dG1cC7G2lhEREqYOXPmMGzYMEaNGkW3bt1wdXW1OqRib9PRM3w43xwV8HqPelQup9auDiVnxIYSGyJS8iixUdKt+gSit0GpctBptNXROBf/ChDWEDBg7zyroxERKVFWrFjB2bNnadq0KS1btuSzzz4jNjbW6rCKrcTUDJ6auJEMu8EdDcLo3UStXR1OzogNTUURkZJHiY2SLHYfLHnHXO78NviUszYeZxTRzbzfpekoIiJFqVWrVnz77bdERkby8MMPM3HiRMqXL4/dbmf+/PmcPXvW6hCLlVF/bufwqSTK+3vxZs/62Gw2q0OSCyXFQVJWYk81NkSkBFJio6Sy2+HPpyAzFWp0hPr3WB2Rc4rImo6yfxGkJ1sbi4hICeTj48PQoUNZsWIFW7du5ZlnnuHtt98mODiYO++80+rwioXZWyP5bd0xbDb4oG8j/Eup44bDyR6t4V8JPHysjUVExAJKbJRUG3+CwyvA3ccsGKorL/kTWt88ichIhgNLrY5GRKREi4iI4N133+XYsWP8+uuvVodTLETGJ/P81K0APHZzdVpV0+hOhxSrwqEiUrIpsVEAxq08yM+rD2G3G1aHkjcJkfDXK+byrS9DmcrWxuPMbLbzozZ2z7I2FhERAcDV1ZWePXsyY8YMq0Nxavas1q7xyek0qOjPiI6a4uCwYlQ4VERKNiU2rtPRuCRGz9nFy39s556vV7Mn2gnm9M75L6TGQ4Wm0OIhq6NxfjmJjbnmFB8REXFan3/+OVWrVsXLy4uWLVuydu3aPL1u4sSJ2Gw2evbsWbgBFqFvlx9g9YFTeLu78nG/xrhfa2vXLZPh+05w+nDhBCjnxewy71U4VERKKCU2rlP5Mt680LU2Ph6urD98mm6fLOeDv3aTkp5pdWiXtmMG7PwTXNzgzk/BRe3xrluVG8HTDxJPwokNVkcjIiL5NGnSJEaOHMmrr77Khg0baNiwIZ06deLkyZNXfN2hQ4f4z3/+Q7t27Yoo0sK37Xg87/9lTm947c46hAfmo27D0nfg6BpY+VHBBicXU6tXESnhlNi4Tq4uNga1qcr8ke3pWDuE9EyDTxbto+sny1lz4JTV4eWWfAZm/9dcvvFpCKlraTjFhpuHWYAVYJemo4iIOKsPPviABx98kCFDhlCnTh2++uorSpUqxQ8//HDZ12RmZnLvvfcyatQoqlWrVoTRFp6ktAyenLiR9EyDznVD6dOs0rXv5MwROLXXXN4yGVLPFWyQcl7qOYg/ai6rxoaIlFBKbBSQ8mW8+XZgU768twlBvp4ciEmk3zdreO73LcQnpVsdnmnBq3AuCsrVhHb/sTqa4iWiq3m/e461cYiISL6kpaWxfv16OnbsmLPOxcWFjh07snr16su+7vXXXyc4OJhhw4bl6TipqakkJCTkujmaN2bt5EBMIiF+nozunc/WrvsXnV9OOwvbpxZcgJJbdgKpVCCUCrA2FhERiyixUYBsNhtd6oexYGR7BrQ0C3JO/Ocot36wlJlbTmAYFhYXPbQC1o8zl+/8BNy9rIulOKrZEWyuELMT4g5YHY2IiFyj2NhYMjMzCQkJybU+JCSEqKioS75mxYoVfP/993z77bd5Ps7o0aPx9/fPuVWqlI/REIXor+1RTPj7CAAf9GlEWR+P/O0oO7HhW968X/9jAUQnl5RdOFSjNUSkBFNioxD4e7vzVq/6TH6kNdWDfIg9l8rjEzYy7Md1HD+TXPQBpafAjCfN5WZDoUqboo+huPMuC1XbmssatSEiUuydPXuW+++/n2+//ZbAwMA8v+75558nPj4+53b06NFCjPLanExI4dnftwDw0E3VaFsj7+8rF3smHFhiLncbAy7ucHwdRG0tmEAlt+xWr4EqHCoiJZcSG4WoedUAZj/VjhEda+Lh6sKiXSe57YOl/LDiIJlF2Rp22bsQtx98w6Dja0V33JJG01FERJxWYGAgrq6uREdH51ofHR1NaGjoRdvv37+fQ4cO0b17d9zc3HBzc+Onn35ixowZuLm5sX///ksex9PTEz8/v1w3R2C3GzwzeTOnk9KpW96PZ26/jh/JxzdASjx4+UPN26FWN3O9Rm0UjpisxIZGbIhICabERkFIioPLTDPxdHNlRMcbmP3UjTSvWpaktExen7mD3l+sZMeJIphXG7UVVn5sLncbY55kSOG4obN5f3iV+XdCRESchoeHB02bNmXhwoU56+x2OwsXLqR169YXbV+rVi22bt3Kpk2bcm533nknHTp0YNOmTQ43xeRqxq46xPK9sXi5u/Bxv0Z4ul1H17TsaSjh7cHVDZoONh9v+Q3Skq47VvmXnI4oGrEhIiWXm9UBFAvf3gIpZyCsIYQ2MO/DGkJAdXAxc0c1gn2Z9FBrJv5zlNFzdrL5WDzdP1vBg+2qMaJjTbzcC6Htqj0TZjwB9gyo0+P8FRMpHAHhEFwHTu6AvfOhYV+rIxIRkWswcuRIBg0aRLNmzWjRogUfffQRiYmJDBkyBICBAwdSoUIFRo8ejZeXF/Xq1cv1+jJlygBctN7R7YxM4J05uwB4qVsdagT7Xt8OsxMb1W8x78PbQ9mqcPoQ7JgOjQZc3/7lvMz087W9NGJDREowJTauV1oixB8De7o5nzR7TimAuw+E1oewBhDaAJewhgxoWouOtYN57c/tzN4axVdL9zNnWyRv9qzPjTXzOZf1cv7+Ck5sNEdpdHmvYPctlxbR1Uxs7J6txIaIiJPp27cvMTExvPLKK0RFRdGoUSPmzp2bU1D0yJEjuLgUr8GuKemZPPnrRtIy7XSsHcy9WcXP87/DeDj2j7mcndhwcYEmA2Hh62YhcyU2Ck7cAfMClkdp8KtgdTQiIpaxGZa26ih6CQkJ+Pv7Ex8fX3DzWjNS4eROiNwMUVuy7rdBxiUKhbp6QHBtCG3ATls1PtjqxYqzISTjRe8mFXipWx0C8luB/EKnD8EXrSE9Ce781DyhkMJ3bD18dwt4+ML/9oObp9URiYhck0L5npTLsvrzfvWPbfy4+jCBpT2ZN6Id5Upf5/fWzj9h0n1QrgY8sf78+rPR8GEd80f4o6shpM71HUdMO2bAb/dD+cbw0BKroxERKXB5/Z7UiI2C4OYJ5RuZt2z2TDi1z0xyZN+itphXMrIe1wa+BexeLuy3h7F9axXG7axB89btufHGW7GVKpu/eAwDZj5tJjWqtoPG91//e5S8Kd8YSofCuSg4tBxqdLQ6IhERkUtavOskP64+DMD79zS4/qQGXDwNJZtvCER0MRMfG36ELu9c/7Hkgo4omoYiIiWbEhuFxcXVnOsYFAEN+pjrDAPOHIbILReM7tiCy7koarocpybHwVgFq36CVZDhVwm38g0hrJE5nSWsIfheXJn9IlsmmScWbl7Q/WOw2Qr1rcoFXFwgorM51Hb3HCU2RETEIcWcTeW/UzYDMKRtVW6OCC6YHV8usQFmEdGdf8LmX80ube7eBXPMkiwmq3Co6muISAmnxEZRstnM4lllq0KdO8+vPxsNUVvIPL6Rg9vW4BmzlUq2k7glHIWEo7Br5vltfYKzipM2OF+otGzV88mLczEw9zlz+ebnoFz1InpzkiOi6/nERtf3lVgSERGHYhgG/5uymdhzadQK9eXZzrUKZsdxB8ypsC7u5ojRf6t2C/hXhvgj5hQK1aK6fjFm0VclNkSkpFNiwxH4hoDvbbjWvI0aN8PB2EQe/H0V5w5vpI7tEG19jtOm1HG84vdD4knYN9+8ZfP0P5/oiNkFyafNoqWtH7fsLZVo4TeBeylIOG6OzLlwipKIiIjFfl5zmMW7Y/Bwc+Hjfo0LrjPbvqxWuZVagmfpi5/PLiK6+A3zAoASG9fHbofYveaypqKISAmnxIYDCg/04ZuHOjJlfS3enL2T7xPScTkLD7YKY0T9VLxPbc+q07HF7MCRGm/Wczi03NyBzcUsGOrqbu0bKancvc0huLtmmqM2lNgQEREHsSf6LG/O2gnAC11qERF6na1dL7R/sXlfvcPlt2l8LywZDUdWQcxujTS4HvFHzUL1rh7m6F0RkRKsePUsK0ZsNhv3NKvEgpHt6dGoPHYDvl4dScffklnsd6eZuHh4KTx/HB5ZAT0+hxYPm6MFurxrFrEU60R0Ne93z7Y2DhERkSypGWZr19QMO+1vCGJQm6oFt/PMdDi4zFy+VH2NbH7l4YbO5vL6Hwvu+CVRbFZ9jYDq4KprlSJSsimx4eACS3vycb/GjBvSnIplvTl+JpkhY//hiV83EnM2Fdw8zGknje+Dru/CoD+hxYNWhy03dDJHzkRtgTNHrY5GRESEd+fuZlfUWcr5ePDePQ2wFWQNqGPrIO0seAeYRc+vpOlg837zr5CeUnAxlDQxWR1Rgm6wNg4REQegxIaTuDkimL+evokH24XjYoM/N5+g4wdL+e2foxiGYXV48m8+geYcY4A9c62NRaQ4yEw3r+5u/MXsMCUi12TZnhi+X3EQgHfvbkCwr1fBHmB/Vn2N6h3MWhpXUuNW8KsIyXG5C6TLtVGrVxGRHEpsOJFSHm682K0OMx6/kbrl/YhPTud/v2+h/7drOBBzzurw5N8iupj3mo4icn32LYQv28CfT8Ifw2H5+1ZHJOJU4hLTeGay2dr1/lZVuLV2SMEf5EptXv/NxRWa3G8urx9X8LGUFGr1KiKSQ4kNJ1Svgj9/DG/Li11r4+3uypoDcXT+eDmfLdpLWobd6vAkW3adjYPLISXe2lhEnFHcAfi1P/zS25xL7ulvrl/0BvzzvbWxiTgJwzB49vctxJxNpUZwaV7oWrvgD5IUB8c3mMt5SWyAOYXW5mIWPo/dV/AxFXeGccGIDU1FERFRYsNJubm68OBN1fjr6Zu46YYg0jLsvP/XHrp/uoKZW04Ql5hmdYgSWBPK1QR7+vkWeCJydannYMEo+LylOeLJxQ1aDYcRW+Cm/5nbzHoGtk21Nk4RJ/Dr2qPM3xGNh6sLH/drhLdHAbV2vdDBpYABQbXN4qB54V8Rat5uLm8YV/AxFXeJsZB8GrCZ5xsiIiWcSig7uUoBpfhxSHNmbD7B63/uYHf0WR6fsBGAWqG+tKpWjtbVy9EqvBz+pdT+tchFdIFVe822r/V6Wx2NiGMzDNjyGyx4Fc5Gmuuq3wKd3z4/1LrDC5B0CtZ9D1MfAi9/c76+iFxk38lzvD5zOwD/6xxB3fL+hXSg7PoaeRytka3JILMO1aYJcMvL4OZZ8LEVV9mjNcpUNtvMi4iUcEpsFAM2m40ejSpwU80gvly6n6W7Y9gdfZZdUeZt3KpD2GxQJ8yP1lmJjubhAfh5KdFR6CK6wqpPYO88s/ihqz5zkUs6vgHmPAvH1pqPy1aFTm+Z/4Yu7Nxgs0HX98wrldunwqT7YOAMqNTckrBFHFVahp0RkzaSkm7nxhqBDG0bXjgHMgzYv9hcvtbERs3bwTfMTGTumqULANcipyOK6muIiIASG8VKWR8PXuhamxe61ib2XCp/H4hj9YFYVu8/xf6YRLafSGD7iQS+W3EQFxvUr+BPq+rlaF2tHM2rBuDjqb8OBa5SCyhVzrzCfGQ1hN9kdUQijuVcDCwcZXY7wQB3H7jpGXPqiftluja4uEKvryHljFmwcMI9MGQOBBdC7QARJ/XB/D1sO55AmVLujOnTEBeXAmzteqHYvZBwDFw9oUqba3utqxs0vh+WvWsWEVViI+9iswqHqr6GiAhgcY2NZcuW0b17d8qXL4/NZmP69OlXfc2SJUto0qQJnp6e1KhRg3HjxhV6nM4osLQn3RqE8UbP+ix85mbWvnArH/drRP8WlaharhR2AzYfi+frpQcYPPYfGo76i95frOS9ebtYsTeW5LRMq99C8eDiCjd0Npd3z7E2FhFHkpkOqz+HT5vAxp8BA+r3gSfWQbtnLp/UyObmAX1/gYrNzdEbP/eC04eLJHQRR7dqfyxfL9sPwNu9GxDiV8CtXS+U3Q2lSmvwKHXtr29yP2Az63TEHSjQ0Io1jdgQEcnF0kv0iYmJNGzYkKFDh9K799Wz9AcPHqRbt2488sgjjB8/noULF/LAAw8QFhZGp06diiBi5xXs50WPRhXo0agCAJHxyazef8q8HTjFsdPJbDhyhg1HzvD54v24u9poXKlszoiOxpXL4OVeCAXHSoKILrBpvDnMttNbuYfVi5RE+xbC3OfOX3EMawRd3oXKLa9tPx4+MOA3GNsVYnaayY2h86B0UIGHLOIsziSlMXLSZgwD+reoROd6oYV7wP35rK+RrUxls07OvgWw4Sfo+FqBhVasZSc2ApXYEBEBsBmGYVgdBJh1IqZNm0bPnj0vu82zzz7LrFmz2LZtW866fv36cebMGebOnZun4yQkJODv7098fDx+fn7XG3axcTQuidUHTrEmK9ERGZ+S63kPNxeaVi5L6+pmjY6GFcvg4aamOnmSlgjvhENmKjy6GkLqWB2RiDXiDsC8F81OJwClAuHWV8y2jy7XkThNOAE/dIIzRyC0AQyeBV76/z2/9D1ZtAr6837lj238tPow1QJ9mPnkjZTyKMRrWBmp8E5VSE+CR1ZAaP387Wfnn2a9HJ8geHqHOSJLLi8lAd6uZC4/ewi8y1oajohIYcrr96RTFVVYvXo1HTt2zLWuU6dOjBgx4rKvSU1NJTU1NedxQkJCYYXn1CoFlKJSQCn6NKuEYRgcPmUmOrJHdMScTTUfHzgF88Hb3ZVmVcvSqlo5WlUrR4OK/ri7KtFxSR4+UO1ms4Do7tlKbEjJk3oOlo+B1Z9BZprZvrXFw9D+f+Bd5vr371ce7p9uJjeitsCv/eG+368+nUWkGPpPpwjOpWYwuE3Vwk1qABz920xq+ARDSL387+eGzlA6BM5Fw545UKdHwcVYHMXuNe9LhyipISKSxakSG1FRUYSEhORaFxISQkJCAsnJyXh7X9zuavTo0YwaNaqoQiwWbDYbVQN9qBroQ/8WlTEMg/0xiTkjOtYcOMWpxDSW741l+d5YAHw8XGlWNcAc0VGtHPUq+ONaWIXKnFFEl6zExhy46T9WRyNSNPLSvrWglKtuJjPG3QGHV8CUodDnJ7M4oUgJ4uflzgd9GhXNwS5s83o90yxd3c2RW8vHmEVEldi4suxWryocKiKSo9if8T3//POMHDky53FCQgKVKlWyMCLnY7PZqBFcmhrBpbm/VRUMw2BP9DlW749l9YFT/H0wjjNJ6SzdE8PSPTEA+Hq60bRqWQJLe+Lj4UopTzfz3sONUv967OP5r3sPV9yK2+iPiC4wcwQcXwdno8C3kOc8i1jtku1bR5v/FgqrzkxYQ+g/EX7pDbtnwZ9PQo/PVddGpLBkFw7Nb32NCzW+30xs7F8Epw+Z/2fIpalwqIjIRZwqsREaGkp0dHSuddHR0fj5+V1ytAaAp6cnnp6eRRFeiWGz2YgI9SUi1JfBbcOx2w12RiWwOms0x98H4zibksGS3TH5PoaHm8sVEx/eWfc5CZLLJEp8shIpft7u1k6V8Q2FCk3h+HrYMxeaDrYuFkcTvcM8ib2hM7gUs4RWSZSf9q0FqWpbuHusOV9/03hzmPbtbyi5IVLQzsWYU78Aqne4/v0FhEO1DnBgMWz4GW59+fr3WVzltHpVYkNEJJtTJTZat27N7Nmzc62bP38+rVu3tigiAXBxsVG3vD91y/vzQLtqZNoNtp+IZ/OxeM6lZJCUlkFiaqZ5n5ZJUmoGiWkZJKVlkpia+z7DbtayTcuwk5Zh53RSeoHE6O3uys0RQXSpH8YttYIp7WnBX/2ILmZiY+MvUP1WKFOCRw4ZhllJf9Vn5kksmMOQu39yfUUkxTqZ6bD2G1jyNqRm1TJq0NfscOBXvmhjqdXVHKkx/RGzrkepctBu5NVfJyJ5d2CJeR9aH0oHF8w+mw42vxM2/gI3P2dOUZGL5YzY0FQUEZFsliY2zp07x759+3IeHzx4kE2bNhEQEEDlypV5/vnnOX78OD/99BMAjzzyCJ999hn/+9//GDp0KIsWLeK3335j1qxZVr0FuQRXFxsNKpahQcUy1/zatAz7vxIgF9xfmCDJuk9KyzSTJKmZFyVLsrdLTjdvc7ZFMWdbFB5uLtxUM5Au9cLoWDsE/1JFdOJUu4f5o+/YP/BxA6h1B7R8BKq0KTlXkzNSYesUWP05nNxurrNljdLY+Aukp0Cvr3Qy62z2LYC5z19/+9aC1Kg/JMfBvBfMESSlAjRSSqQgXW+b10uJ6Gp2RjkXBXvmQe07Cm7fxUVGKpw+aC5rxIaISA5LExvr1q2jQ4fzwxeza2EMGjSIcePGERkZyZEjR3KeDw8PZ9asWTz99NN8/PHHVKxYke+++45OnToVeexSODzcXPBw86BMqYLbZ6bdYGdkAnO2RTJnaxQHYhNZsPMkC3aexM3FRtsagXSpF8rtdUMJ8CnEFnNBN8B9U805xAeXws4Z5i2kPrR8GOrfDe6XnlLl9JLiYN0P5hX9c1nTyTxKQ5OBZnLnxEb4fRhsmwIZKeZUArX7c3yn9pvtW/fMMR+XCoSOr0Kj+xxjWlHr4ZB0yvw3N/Np8CoDdXtaHZWI8zOMgq2vkc3NAxrdCys/MouIKrFxsVP7wbCDp5/qdYmIXMBmGIZhdRBFqaD7xYtzyS58OntrJHO3RbE7+mzOc64uNlqGB9Clfhid6oYQ7FuI9QCid8Dar2HzJMhINtd5Z11Rbv4A+FcovGMXpbgDsObLrNEYSeY63/LQ6hFoMih3q8/dc+G3+812oDVvhz4/l+x2nQmR5mfhE2i2DHYkqedg+fvmyJvCaN9akAzDLNy7fhy4esCA3wqmHkAxpu/JouWUn3f0dviyDbh5w3OHwa0Aa5md2g+fNgFsMGJryZ62eSnbp8HkwVChGTy40OpoREQKXV6/J5XYkBJtf8w55m6LYvbWSLafSMhZb7NB8yoBdK4XSud6oZQvU0gjKZLiYOPPsPZbiD+adXBXqHOnOZKhUkvnnKZy5G9Y/SnsnAlk/RcTWh9aPwF1e11+NMb+RfDrADPZE94e+v/qeD/qC5s9E+a/YtaGyObmbSY4SpXLug+88mNPv8L5e5PdvnX+K+ZQcTDrxXQe7djV+e2ZMGUI7PjDLGY66E+o2NTqqByWvieLllN+3qs+hb9eghq3wX1TCn7/P3aHg8ug/bPQ4YWC378zW/IOLHnLHNnS8wuroxERKXRKbFyGU55ASJE4cirJnK6yLYpNR8/keq5RpTJ0qRdKl3phVC5XgPNksmVmmMP5//4aDi0/vz6soZngqNvb8Ucv2DNh10yzIGh2i08wT3zbPAHhN+Xtx/ahlTChD6Sdg8qtzSvsXiXk32rqWfj9AbNzDoCrJ2SmXvt+XNzPJzqumgwJNDuHXG3qyEXtW8PNhMYNnZ0j+ZaRav69OrDEHB01dK5jJ2MspO/JouWUn/dPPc0in51GQ+vHCn7/236HKUPNEX4jtoKrU9W6L1xThpqfT8dRcOMIq6MRESl0SmxchlOeQEiRO3Emmbnbopi7LYp/Dsdx4b+SuuX96Fo/jM71QqkeVLrgDx61zZymsuU3s94EmD8+mw2BZkOLvsPE1aSeM9tqrvnCbNsK5pD/Bn2h9eMQXOva93n0H/jlLkiNh/JN4L7fzeKPxdmZIzChn1lU1c0Len5pjm5JOweJsWatiMRYSIo9//hS69LOXfuxbS7mj/2chEe53ImPqM2wcTzn27f+x6xfUZDDz4tC6jn46U6zO5FfBRg6T8PcL0Hfk0XL6T7v9GR4u4qZdH3s7/z9H381GanwQW3z/7T+E82uYmL68kaI3qrPRURKDCU2LsPpTiDEcicTUpi3I5o5WyNZc+AU9gv+xUSE+NK5Xihd64dxQ0hpbAV55TopDjb8CGu/g4Rj5joXN6jTwxzFUbG5tVfKz0aZI0zW/QApZ8x13mXNGiHNHwTfkOvb/4lN8HMvs7NFSH0YON38oV0cHf0HJvaHxBgoHQL9fs3/VIn05H8lPE5dkPi4xOOU+Lzvu0Ff8yqhX1j+YnMEiadgbBeI3Q3lapojN4rr36t80vdk0XK6z3vfQvilt5kcfHp74X0PzXvRnJJ3Q2cYMKlwjuFs7JnwZpiZVHpiA5SrbnVEIiKFTomNy3C6EwhxKKfOpTJ/RzRztkWxcl8sGRdkOaoF+tClvjldpW55v4JLcmRmwO5ZZhLh8Mrz68s3zpqm0qtor5xHbzenm2ydDPZ0c11AdXM4csMB4FGAU3Wid8BPPSDxpNnWbtCM4lcFfusUmP6YeaIaUh8GTAT/ikV3/Mz03ImQpFMXJz+wmSM0KrUourgKU/xx+KGTWdcmrBEMngmevlZH5TD0PVm0nO7zzk44NL4PenxeeMeJ3QufNTNHlI3YVnyKal+PuAPwSWNzmuKLkeDianVEIiKFTomNy3C6EwhxWPFJ6SzYGc2cbZEs2xtLWoY957lKAd50qWdOV2lUsQwuLgWU5IjckjVNZfL52gs+QeYUlWZDC+9Hf3Zrv9WfnW/xB2YNjNaPm8NhC+sEK3afOX0g4TgEVIOBM4rH9AHDgCWjYek75uOIbtD7G/AshOlNcrHYvWZyI+mUWf9lwGTHr2NTRPQ9WbSc7vP+ojWc3AF3/wD17ircY43tBodXwM0vwM3PFu6xnMHuufBrXwiuC4+tsjoaEZEiocTGZTjdCYQ4hbMp6SzadZK526JYvPskKennkxxh/l50qmtOV2lapSyuBZHkSIw121f+8z2cPWGuc3E3R2+0fKTgOj5kpMG2KeYIjZPbzXU2F3M6TOsniq6zxOlDZpX8M0fAvzIM+sNMcjir9GSY/qjZtg+g7VNw62tXL+ApBevERhh3h1mXpNYdcM+PKlKIvieLmlN93gmR8EEtwAb/O1D4tY+2TIapD4BfRRixRSMUVn5sdqWq2xvuGWt1NCIiRUKJjctwqhMIcUpJaRks3R3D7G1RLNoZzf+3d9/hUZXp/8ffkx7SC2n03nsgBARFWMH1q4uKBVGKbd1FF427P8GGrqtYVpev5QvirmVVRLEgNhQj9iAK0pTeWyqk95nz++MkgZhQEpI5M5PP67rmmjNnzpy55yw7c3vnee6nqNxe81x0sD+JHSJICA8kITyAhPBA4sMCaBMeSHSwf8NHdtgrYMsH5jSVA6uP72+TaBY4ev/h5EurnvJDHIW1L8EPi44v6+kbBIOnwvBbIKJjw895tvIOmSM3cnZCSLw5cqN1d+fHcbYK0mHJNWYDSy9fuHi+OaRbrLHna7NRrb0cBl0HlzzjHqu8NCP9TjqXW13v9YvNomzCYLh5VfO/X0WpWUgpOWaOqup+QfO/pytbNhPWvwbnzYHzZlsdjYiIU5zp76T+NCXSxFr5+XBhv3gu7BdPaYWdb3Zk88nmI6z8NYPswjJW/JJe7+t8vW3EhQUQHxZIm6qCR+0CSCChAT61e3d4+0Lfy8zb4Z/NQsTmt+HQT+ZfuT67BxJvMFdUCY45ffBHd8PqBfDza1BRbO4LSYCkP8KQ6RAYftbXp9HC2sD0j82eG1lbzAaQU9+HuL7WxdRQRzbCG1eb02oCI+Cq16HjSKujatk6jYZJL8Fb18HPr5rL4f7uQaujEnFN1VMRu5zvnPfzDYABk81Vt9a9osJG9jbzPtoNi/oiIs1MIzZEnKS80sEPe3LYlVnIkbxSDuWWcCSvlMO5JWTkl9ZabeVkgv19iA8LID48kDbhZhEkITyQhKoiSFxYAAFlR6umqfz7+GgLbz9z6GrSH6HN4LonPrAGvn8Gtn4IRtU0mth+MOJW83WNGfXRXIpy4NWJkL7RLA5c+279n8nVbP0I3rkJKorMpPSaN917Oo2n+fk1eH+muf27v5vTg1oo/U46l9tcb4cD/tnV7Esz/WPnFWUzt8L/JYHN21yFxZ1XZTobhmEus1uWB3/6HmL7WB2RiIhTaMSGiIvx8/FiVLfWjOrWus5zlXYHGQVlHMktqVXwOJxr3h/JK+FYcQWFZZXsyCxkR2bhSd8nOtiP+LBk2sWcw/nRPzDq6DvE5m+EjUtg4xKMtsOwJf3R7Cmw4zOzoHFwzfETdB0HI26DTue65pD8oCiY9gG8PgkO/miO4JjyNrRPsjqy+hmGOS/68wcAAzqPgStetnb0i9Q16FpzCtbK+8w57IGRMPg6q6MScR3pG82ihl+wudy4s8T0NBtV708zp2GM/pvz3tuVFGaYRQ2bF0R1tToaERGXo8KGiAvw8faiTbg5BSXxJMeUlNs5nFfCkapix+G8kqqiR9Xoj9xSSirsZBeWk11YzqZD8DHdgNn0t+1ims+nXOyVht/BNXBwDRX44ou5XKvdy5fcLpfic85thLbv13RL1TaXwHC47j1YfJW5BO6rl5ojIDqNsjqy2irL4cM7zGQcYOiNMOExNah0VSP/Yv6H23fz4YO/mP/Oel1sdVQirqF6Gkqn0c4fxTdkulnYWPtfOOfOltloOatqGkpER+cu8S4i4iaUXYu4iUA/b7q0DqZL6/qXAzUMg9ziiqqCRylH8kpqCh6HcyN4Kq8vj+enc5UtlWt9PifGlssxI5hX7eN4tfICsjaFw6YDhAQcoUNUKzpEBpn3Ua1oX7UdFxrQdEvXni3/EHOkxpJrYPcqcwTH1a+bI05cQVGO2bdh33fmX9gmPAZJN1sdlZzOuAfM4sbPr8Lb18O175j/ISfS0jm7v8aJev8BPvl/kLcfdn/hOt/zzpS93byP7mFtHCIiLkqFDREPYbPZiAjyIyLIjz4JYfUeY3cYZBZcysGcfLYc2MiW8lgO5Bp0OlqMd04x6fmlFJRWsvlQPpsP5dd5vZ+PF+0jW9EhshXto8z7DtFBdIhsRduIVvj5OPmvaH6tYPISWDoNtq+ANyab0zx6XuTcOH4razssvhKO7QH/ULM5ZbcWmIi7I5sN/mc+lOaaKw69Mdmc+uQOfVxEmktZIeyvWnnLisKGbyD0vxrWPA9rX2mZhY3qERvuuBqYiIgTqLAh0oJ4e9mIDzNXWKHz7zj3N8+XlNs5cKyYfTnF7MspMu+PFrM/p4iDx0oor3SwM7OQnfX0+PCyQXxYIB2jj4/w6BDZig5R5naQfzN93fgGwJWvmqvA/Po+vDUVLlsEfS9vnvc7nV1fwFvTzbnQ4R3gmrfMOeLiPrx94LJ/w+IrzOVgX58E138K0d2sjkzEGvu+A0eF+Z1mVdPjIdPMwsa2j6EgA0JirYnDKjUromjEhohIfVTYEJEagX7edI8NoXtsSJ3nKu0ODueWsu9oUa3Cx/6jZiGkpMLOoarmp9+RU+f10cF+tI9sRceoIHO0xwlTXKKC/M6ur4ePH1z+Ivj8GTa+Ce/cCJVlMPCaxp+zMda8AJ/cBYbdbHZ31WsQFO3cGKRp+AbA1YvhlYvNpZT/OxFu+BTC2lodmYjznTgNxaoeTLF9oO0ws9n1+tdhVIo1cVglq2oqSmsVNkRE6qPChoicER9vL9pHmVNQRv3mD9eGYZBVUMa+qiLH/pwi9p4w2uNYcUVNU9N1+3PrnDs62I8rEttx7fAOtAkPbFyA3j4wcSH4BMC6V2DZn6CiBIbe0LjzNYS9Ej692/xrIsCAyXDx/6rBm7ur7uPy4gTI2WE2qZ2xwlyZR6QlsbK/xomGTDMLG+tegZG3t5wmoiW5x5dv18gxEZF6qbAhImfNZrMRExpATGgAQztG1nk+r6SC/TnFNaM99ucUszeniP1HizmSV0p2YTkLvtzF81/tYnyfOKaP6MiwTpENH8Xh5WUWFHwD4YeF8FGKOXIj+c9N9EnrUZoHS2fArlTz8di5cM4drrlUrjRcULS5As+L483mfa9PgmnLzaKHSEuQe8D8t2/ztr6Rbp9LYcUcOLYX9n4Nnc+zNh5nqW4cGhIPAfX30BIRaelU2BCRZhcW6Eu/tmH0a1s3ISutsPPV9ixe/m4vabtz+GRzOp9sTqdnXAjTR3TkDwPbEOjnfeZvZrPBhEfNkRvfzYdP50BFMYz+a9N9oGpH98AbV0PWVvBtZfb20PKgnie8XVVxYwIcXgdvXmv2TtGIHGkJqkdrtE00l0C2kl8Q9L8Sfvw3rH255RQ2qhuHRqtxqIjIybSQMXwi4qoCfL0Z3yeON24ezorbRzF5WHsCfL3Yml7A7Hc3kfxoKo9+spVDuSVnflKbzVy287y7zcdfPASpD4FhNF3g+9Lg32PNokZIPMz4REUNT9a6B1z7NvgGwe4v4d2bwGG3OiqR5ucq01CqDZlu3m/5EAqzLA3Faaobh6q/hojISamwISIuo2dcKPMu68fqOWO5+/c9aRsRSG5xBQu/2sWox77gllfXkrYrB+NMChQ2G5x3F/zu7+bjb/4Jn93bNMWN9W/Afy+B4hyIHwg3rYKEgWd/XnFtbYbA1a+Dt5+5As9/LoAfnof8I1ZHJtI8HHazkAeuU9iI6wcJg81VWjYstjoa51DjUBGR01JhQ0RcTngrP24e3YWv/jaGRdcNYWTXKBwGrPglnckvrObC//2GN9bsp6T8DP5iPnIWXPiEuZ32LHx0JzgcjQvM4YDPH4Blt4C9HHr/wRypERrfuPOJ++kyBi7/N3j5wqGf4JP/B0/1MqeprF4I+YetjlCk6Rz+GUpzwT/MLCa4iupRG2tfadqReK5KS72KiJyWChsi4rK8vWxc0CeO128czqe3j+aapPYE+nqzNb2AOe9uYvi8VOZ9vIUDR4tPfaKkm+GSZwAb/PQfWH5rw6cRlBfBW9fBt/8yH4/6K0x6GfxaNeajiTvr/QeYtQHGz4N2SYAB+9NgxV1mkeM/F0Da/0HeIasjFTk71dNQOp9rrjzlKvpeDn7BcHQX7P3W6miaV0UJHNtnbmvEhojISdmMMxrT7Tny8/MJCwsjLy+P0NBQq8MRkQbKK65g6doDvJK2lwNHzb4bXjYY1yuW6SM7ktw56uSrqWx8C967BQw79LnMbPbp7Xv6N80/DIuvgvSN5jSES56FAVc14acSt5Z3CLYsh1+WwYHVtZ9rOwz6TDSLIWFtrYiuwfQ76Vwufb1fnGAW7f5nPiTOsDqa2j64Hda+BH0nwaT/WB1N80nfBAvPgYBwuGuvVtwSkRbnTH8nVdgQEbdkdxis2prJy9/v5dud2TX7e8SGMHVEBy4d1IZWfvX8hfHX9+Ht68FRCT3/Bya9eOrVLQ6tgzcmQ2E6tIo2eyy0H94Mn0g8Qv5h+HU5/LoM9q8GTviJbTsUek80ixzh7SwK8PT0O+lcLnu9S/PgsU5mIXjWBojoaHVEtR3+GRadZxabU7ZCUJTVETWPTW/DOzeYo8Nu+MzqaEREnO5Mfyc1FUVE3JK3l41xvWN57cYkVt4xmmuHt6eVnzfbMgq4573NDH8klUfqm6bS+w9w9WLw9oetH8KSKeZQ3/r8sgxe+r1Z1GjdC276QkUNObXQBBh+C1y/AlK2wIWPQ/sRgA0O/gif3QPz+8ILY+H7ZyB3v9URi9RvzzdmUSOyi+sVNQASBkH8ALPf0YY3rI6m+WRXNQ7VUq8iIqekwoaIuL1usSH8Y2I/0uaM5d6LetE+shX5pZUs+no3o59YxU3//YnvdmYfX02l+3i45k3wCYSdK+H1K6Cs8PgJDQO+fgKWToPKEuj6O/MvZREdrPmA4p5C4yHpj3D9J1VFjiegw0jAZjYe/exemN8PXjgfvnv6+Dx6EVdQ3V+j61hr4ziV6iai6zy4iWiWlnoVETkTmooiIh7H4TD4cnsmL323l292HJ+m0i0mmGkjOnLZ4KppKvu+N4sa5YXQbjhMecscybH8Ntj0lvmi4X+G3z3kWo3zxL0VpMOWD8wRQfu+o9Z0lYTBx3tyWPRXcv1OOpfLXu//HQjH9sDkJdDjQqujqV9pPjzZEyqKzBWqOoywOqKm93/JkPkrXLMUul9gdTQiIk6nHhsn4bIJhIg0i52Zhfw3bS9vrz1IcdXysKEBPlyZ2I6pyR1pX/IrvHaZOZ88YZA5X/vAD2Dzhov+CYnXW/wJxKMVZJiNR3993yxyGCcsRZww6HhPjshOTgtJv5PO5ZLX++hueHoQePmYDSv9Q6yO6OSW3wbr/gv9rzIbQnsSeyU8Em9Ot3HFPiciIk6gwsZJuGQCISLNLr+0grd/Osh/0/ayN8fsu2GzwdieMczsWcLAr6ZjK84xDw4IgytegS5jLIxYWpzCTHMkx6/LzCUsTyxyxA8wixx9JkJk52YNQ7+TzuWS1/vHf8NHd5pTp2Z8bHU0p3ZwLfz7fHO03Z1boVWk1RE1nZxd8Mxgc9rk3YfBSzPIRaTlUfNQEZEThAb4cv05nfjizvN4afpQzu3eGsOAz7dkcul7Bdxoe5DCwATs0T3gxlQVNcT5gmNg6A0w7QO4czv8z7+g07lg84IjGyD1QfOv6AtHwTdPmv/RI9Icdq0y77ucb20cZ6LNYIjtB/Yy2Pim1dE0rayt5n10VxU1REROQ5PGRaRF8fKyMaZnDGN6xrArq5BX0/ax9KcDpOZE0p/HMXJtdH7lEP3aFNKvbTj92oTRJyGUIH99XYoTBbc2p0ElXg9F2cdHcuz5BtI3mrfUv0NcP3MkR9/Lmn0kh7QQ9grY87W57Q6FDZsNhkyDj/8Ka1+BpFvMfZ6gunFotBqHioicjjJ1EWmxurQO5oFL+nDnBd15Z+1BXl29j11ZRTW3ZesPA2aO3Dk6iP5tw+nbJkzFDnGuoGhInGHeirLNZYp/WWb+x2f6JvNWcgzGP2x1pOIJDv4EZfkQGGlOgXIH/a+Ez+6DrC1wYA20T7I6oqZRvdSrVkQRETktZeUi0uKFBPgyfWQnpo/sRHZhGZsO5bHpYB6bDuWx+VAeR/JKa4od7/18CDCLHV1aB9OvqtDRr20YveNV7JBmFhRtLnE5ZDoU5ZhFjl+XQZ/LLA5MPEb1Mq9dxoCXt7WxnKmAMHPU0vrXYe3LnlPYqBmx0d3aOERE3IAycBGRE0QH+zOmRwxjesTU7MsqKGPzIbPQUV30SM8vZWdmITszC2sVO7pWFTv6tgmjf9sweieEmkvLijS1oChzCP6QaVZHIp6kprDhBtNQTjRkulnY+OU9mDAPAsOtjujsGAZk7zC3NWJDROS0lG2LiJxG6xD/mr4c1aqLHRtPGNmRnl/KjsxCdmQW8m5VscPrxJEdbc3RHSp2iIhLKj4Kh9eZ253drIFy26EQ0xsyf4VNS2HYTVZHdHbyD0N5gbn0eGQXq6MREXF5yqxFRBqhvmJHZkGpObLjYH7V6I5cMvLL6i12dI0JrunX0b9tGL3jwwj0c5Nh3yLimfZ8ZS4z3LonhLWxOpqGsdnMURuf/D/46SUYeqN7NxHNrpqGEtkZfPysjUVExA2osCEi0kRiQgI4v2cA5/eMrdlXXezYeDCvZjpLRn4Z2zMK2Z5RyLvrahc7+rUJp1+bUPq1Naez+Puo2CEiTlIzDWWstXE0Vv8rYeX9kPkLHFoLbROtjqjxstQ4VESkIVTYEBFpRvUWO/JLa/Xr2HQoj8yC48WOd6pGgvv7eDGkQwTDO0eR3CWKAW3D8fPxsuiTiIhHMwzYtcrcdrf+GtUCI8zljzcugbUvuXdhI1uNQ0VEGkKFDRERJ4sJDWBsaABjex0vdmTkl9ZaiWXDwVyyC8v5flcO3+/KgZUQ4OtFYodIkrtEMbxzFP3bhuHrrUKHiDSBnJ2QdwC8/aDDCKujabwh083CxuZ3Yfw8CAi1OqLG0YgNEZEGUWFDRMQFxIYGENs7gHG9zWKHYRjsyiokbfdRVu/KYfXuHHKKyvl2Zzbf7swGoJWfN4kdI0muGtHRNyEUHxU6RKQxdqaa9+2Twa+VtbGcjfbDIbqHOeJh01IYeoPVETWORmyIiDSIMmARERdks9noGhPCdcM78NyUwfx07zg+u2M0D17Shwl94ghv5UtxuZ2vt2fx2IqtTHzuOwb+fSUzXlrDoq93selgHnaHYfXHEHE7zz33HB07diQgIICkpCTWrFlz0mNfeOEFRo0aRUREBBEREYwbN+6Ux7u06v4aXd20v0a16iaiYE5HMdzwe7D4KBRlmdsqbIiInBGN2BARcQM2m43usSF0jw1h2oiOOBwG2zIKSNuVQ9ruHH7YnUN+aSWrtmWxapuZEIcE+JDUKbKmR0evuFC8vNx4lQCRZvbmm2+SkpLCwoULSUpKYv78+YwfP55t27YRExNT5/gvv/ySyZMnM2LECAICAnjssce44IIL+OWXX2jTxo1WFaksg73fmNvu2l/jRAOuhs/nQvomOPwztBlsdUQNk101DSW0LfgHWxuLiIibsBmGO5ayGy8/P5+wsDDy8vIIDXXTeZciIr9hdxhsOZLP6t05pO3KYc2eoxSUVdY6JizQl6ROx3t09IgNUaFD6mjJv5NJSUkMHTqUZ599FgCHw0G7du247bbbmD179mlfb7fbiYiI4Nlnn2Xq1Kln9J4ucb33fAOv/A8ExcCd28DLAwb0vnOjORVl8DS45Gmro2mYtS/DB7PMItN171kdjYiIpc70d1IjNkREPIC3l42+bcwlYm8c1Rm7w+CXw3k1Izp+3HOUvJIKPvs1g89+zQAgMsivVqGjW0wwNpsKHdIylZeXs3btWubMmVOzz8vLi3HjxpGWlnZG5yguLqaiooLIyMiTHlNWVkZZWVnN4/z8/MYH3VR2VfXX6DLGM4oaYE5H2bQUNr8D4x8G/xCrIzpz1Y1Do9U4VETkTKmwISLigby9bPRvG07/tuH88dwuVNodbDqUR9ruHFbvPspPe49ytKicTzan88nmdACig/1I6mwWOZI7R9GldZAKHdJiZGdnY7fbiY2NrbU/NjaWrVu3ntE57rrrLhISEhg3btxJj5k3bx4PPvjgWcXa5Kr7a3Rx8/4aJ+owEqK6mqu9bH7neN8Nd1DdOLS1+muIiJwpFTZERFoAH28vBrWPYFD7CP58HlTYHWw8mEvarqpCx76jZBeW89HGI3y08QgAMSH+DO8cxZAOEUQH+xMW6EtooA9hgb6EBfoSEuCLt6ayiADw6KOPsmTJEr788ksCAgJOetycOXNISUmpeZyfn0+7du2cEWL9irLhyAZzu/N51sXR1Gw2cxrKyvvMqR3uVNjQiA0RkQZTYUNEpAXy9fZiSIdIhnSI5NbzoazSzoYDeTU9OtbuP0ZmQRnLNxxm+YbDJz1PiL8PoVWFjurbicUP87FvrWNCA8x7Px/XGvJuGAZllQ5KK+yUVpj3JRX2mvuyE/aVVzroGhPMwHbhWmLXQ0RHR+Pt7U1GRkat/RkZGcTFxZ3ytf/85z959NFH+fzzz+nfv/8pj/X398ff3/+s420yu1aZ97H9ICT21Me6m4HXQOrfzQaih9dDwkCrIzq98iLI229ut1ZhQ0TkTKmwISIi+Pt4M6xTJMM6RfKXsd0orbDz8/5cVu/O4dcj+eQVV5BfWkFeiXkrLrcDUFBWSUFZJYdySxr8noG+3nUKIaEnFD5+WxwJC/TFx9tWVXgwiw8l5XZKK6u2K+yUVdjr7CutKkqcWKQorXCYx55YuKh0NHhlyJAAH0Z2iWZ099aM7h5N24hWDb4O4hr8/PwYMmQIqampTJw4ETCbh6ampnLrrbee9HWPP/44Dz/8MJ9++imJiYlOirYJ1Szz6gGrofxWUDT0uhh+eRfWveIehY3sHeZ9YKQZv4iInBEVNkREpI4AX2+Su5jLxNanvNJBfmkF+SXHix15JRXkl1Ye3/ebYkj1raDUXK2lpKqgkO4CvRN/y8fLRoCvd9XNi8ATtgN8vfGy2dhwMJfc4gpW/JLOil/MPiWdWwcxultrzu3emqTOkbTy08+sO0lJSWHatGkkJiYybNgw5s+fT1FRETNmzABg6tSptGnThnnz5gHw2GOPcf/997N48WI6duxIerr57yA4OJjgYDdYptMwTuiv4YGFDTCnoPzyLmxcChf8A/yCrI7o1KqXetVoDRGRBlHGJSIiDebn40V0sD/RwQ0fUm93GBSWVp5QDKlb/Mj/zXZ+1fEVdkdNkSGwqtDgf8L28QLEyYsSx197/HUBvznG9wyml9gdBpsO5fH19iy+3p7Fzwdy2Z1VxO6sIl7+fi9+3l4M7RTB6G6tGd29NT3jQtSM1cVdddVVZGVlcf/995Oens7AgQNZsWJFTUPR/fv343XCqiELFiygvLycSZMm1TrP3LlzeeCBB5wZeuNkboHCdPAJhHbDrY6meXQcBRGd4Nge2PwuDL7O6ohOLau6cagKGyIiDWEzjIYOvHVvLrFevIiIeJy8kgrSdmXz1fZsvt6eVWd6TkyIP6O6mVNWRnVrTWSQn0WRnpp+J53L0uv9/TPw2b3QdRxc+45z39uZvv0XfP4AtBkCN6aajUVd1ZvXwpYPYPw8SP6z1dGIiFjuTH8nNWJDRESkCYQF+jKhbzwT+sZjGAa7s4tqRnOs3n2UzIIy3ll3kHfWHcRmg35twmpGcwxqH35Go0REmpQnLvNan4FT4IuH4dBa+Pk11x61Ub0iipZ6FRFpEBU2REREmpjNZqNL62C6tA5mxshOlFXa+WnvMb6qKnRsTS9g48E8Nh7M49lVOwnx9yG5SxSju5v9OdpFqgmpNLOKEtj3vbntqf01qgXHwHmz4YuH4OO/QduhENPT6qjqslfA0V3mtpZ6FRFpEJf489Bzzz1Hx44dCQgIICkpiTVr1pz02JdffhmbzVbrdqr14kVERKzm7+PNyK7R3P37Xqy4fTQ/3D2WJyb15+IBCUS08qWgrJLPfs3g3mWbGfX4Ksb880seWP4LX2zNoLi80urwxRPtT4PKUghJaBn9HM5Jgc5joLIElk6H8mKrI6rr6B5wVIJvEIS1tToaERG3YvmIjTfffJOUlBQWLlxIUlIS8+fPZ/z48Wzbto2YmJh6XxMaGsq2bdtqHqsZm4iIuJPY0ACuSGzHFYntsDsMNlc3Id2Rxbr9uezJLmJP9vEmpIkdI8wlZbu1ple8mpBKE9iZat53Od+1e040FS8vuGwRLBgJWVtgxWy45Gmro6otuyq3je7WMv43ERFpQpYXNp566iluuummmqXUFi5cyEcffcSLL77I7Nmz632NzWYjLi7OmWGKiIg0C28vGwPahTOgXTi3je1GfmkF3+/M4esd5rSVg8dK+H5XDt/vyuHRT7bSOsSfUd2iObd7a87pGk1UI1amEWHXKvO+q4dPQzlRcIxZ3Hj1Ulj3CnQaDf0mnf51zpK11bxvCSNoRESamKWFjfLyctauXcucOXNq9nl5eTFu3DjS0tJO+rrCwkI6dOiAw+Fg8ODBPPLII/Tp06feY8vKyigrK6t5nJ+f33QfQEREpImFBvgyoW8cE/rGYRgGe6qbkO7IJm1XDlkFZby77hDvrjuEzQZ9E8KYMbIjlw3W0HU5QwXpkPkLYINO51kcjJN1GQOj7oRv/gkf3A4JgyCqi9VRmaobh0arcaiISENZ2mMjOzsbu91esz58tdjYWNLT0+t9TY8ePXjxxRd5//33ee2113A4HIwYMYKDBw/We/y8efMICwurubVr167JP4eIiEhzsNlsdG4dzPSRnXhx+lDWz/0di29M4o/ndqZXfCiGAZsO5ZFXUmF1qOJOqkdrJAyEoChLQ7HEeXOgfTKUF8DbM6Cy7PSvcYbqqSgasSEi0mCWT0VpqOTkZJKTk2sejxgxgl69evH888/z0EMP1Tl+zpw5pKSk1DzOz89XcUNERNySv483I7pGM6JrNHMuhMz8Ur7ekU1ylxb4H6fSeLtO6K/REnn7wOX/gYXnwJENsPJ+uPAxa2NyOCB7h7mtFVFERBrM0hEb0dHReHt7k5GRUWt/RkbGGffQ8PX1ZdCgQezcubPe5/39/QkNDa11ExER8QQxoQFMGtKWNuGBVoci7sLhOD5io8tYa2OxUlgbmLjA3P5hIWz50Np48g9CRTF4+UBkJ2tjERFxQ5YWNvz8/BgyZAipqak1+xwOB6mpqbVGZZyK3W5n06ZNxMfHN1eYIiIiIp4hYxMUZ4NfMLQdanU01uoxAZJvNbffnwm5B6yLpbq/RmQX8Pa1Lg4RETdlaWEDICUlhRdeeIFXXnmFLVu28Kc//YmioqKaVVKmTp1aq7no3//+dz777DN2797NunXruPbaa9m3bx833nijVR9BRERExD3s+sK87zgKfPysjcUVjJ0LCYOhNBfeuQHsFvWrqemvocahIiKNYXmPjauuuoqsrCzuv/9+0tPTGThwICtWrKhpKLp//368vI7XX44dO8ZNN91Eeno6ERERDBkyhO+//57evXtb9RFERERE3MPOqlGyXVvwNJQT+fjBpBfh+dFw4AdY9TCMe8D5cWRVFTbUX0NEpFFshmEYVgfhTPn5+YSFhZGXl6d+GyIiIr+h30nncur1Li+CRzuAowJuW+c6y5y6gl/eg6XTze1r34Gu45z7/i9OgP1pcNm/of8Vzn1vEREXdqa/k5ZPRRERERERJ9j7nVnUCG8PkZ2tjsa19LkUEq83t9/9IxSkO/f9szQVRUTkbKiwISIiItISVPfX6HI+2GzWxuKKxj8CsX3N5qrv3AgOu3PetygbSo4CNojq5pz3FBHxMCpsiIiIiLQEu6r6a7TkZV5PxTcQJr0EvkGw9xv45knnvG/1aI3wduDXyjnvKSLiYVTYEBEREfF0uQcgezvYvKDTaKujcV2tu8NFVQWNL+fB3m+b/z2z1ThURORsqbAhIiIi4ul2rzLv2yRCYLilobi8gZNhwDVgOMwpKUXZzft+Nf01VNgQEWksFTZEREREPN2J/TXk9H7/BER3h4Ij8N4t4HA033vVLPWqxqEiIo2lwoaIiIiIJ3PYYVfViI2u6q9xRvyDzX4b3v6wcyWkPdt875W93bzXiA0RkUZTYUNERETEkx1eD6W54B8GCYOtjsZ9xPWFCx81t1MfhIM/Nf17lBVA/iFzWyM2REQaTYUNEREREU9WPQ2l82jw9rE2FnczZAb0ngiOSnh7BpTkNu35q0drBLWGVpFNe24RkRZEhQ0RERERT1azzKv6azSYzQaXPA3hHSB3Pyy/DQyj6c6fVVXY0IooIiJnRYUNEREREU9Vmg8H1pjbKmw0TkAYXPESePnCluXw47+b7tzVS7221jQUEZGzocKGiIiIiKfa+w0YdojsAhEdrY7GfbUZAr970Nz+9B44srFpzqsRGyIiTUKFDRERERFPpWVem87wP0P3CWAvM/ttlBWc/Tk1YkNEpEmosCEiIiLiqXaqv0aTsdlg4gIIbQM5O+GjO8+u30ZlORzdY25rxIaIyFlRYUNERETEEx3dDcf2gJcPdBpldTSeoVUkXP4fsHnDxjdh/eLGn+voLnOakF8IhCY0XYwiIi2QChsiIiIinmjXKvO+XRL4h1gbiyfpkAxj7ja3P/4rZG1r3HmyTpiGYrM1TWwiIi2UChsiIiIinqimv8YYa+PwROekQOfzoKIYlk6HipKGnyNbjUNFRJqKChsiIiIinsZeAXu+Nre7jLU2Fk/k5QWXLoKgGMj8FVbMbvg5stQ4VESkqaiwISIiIuJpDq2FsnwIjIT4AVZH45lCYuGyRYAN1r4Mm99p2OurCxsasSEictZU2BARERHxNNXTUDqfB17elobi0bqMgVF3mtvLZ5kNW8+Eww45O8zt1ipsiIicLRU2RERERDxNTX8NLfPa7M6bA+2TobwAls6AyrLTvyZ3P1SWgrcfhHdo/hhFRDycChsiIiIinqTkmDkVBVTYcAZvH3MJ2MBIOLIePn/g9K+pbhwa1dV8vYiInBUVNkREREQ8ye6vwHBA654Q1sbqaFqGsDYwcYG5vfr/YOvHpz6+pr+GGoeKiDQFFTZEREREPImmoVijxwRIvtXcXvYnyD1w8mOzq1dEUX8NEZGmoMKGiIiIiKcwDNi1ytxWYcP5xs6FhMFQmgvv3GAuu1ufrKqpKBqxISLSJFTYEBEREfEUOTshb7/ZlLLDSKujaXl8/GDSi+AfCgd+gFWP1D3GMDRiQ0SkiamwISIiIuIpqqehtE8Gv1bWxtJSRXaCS542t7/9F+xMrf18YSaU5gE2s3moiIicNRU2RERERDxFXH8YPBX6Xm51JC1bn0sh8XrAgPf+CAUZx5+rHq0R0QF8Ay0JT0TE02h9KRERERFP0SHZvIn1xj8CB9ZAxmZ490a4bhl4eR9fEaV1T0vDExHxJBqxISIiIiLS1HwDYdJL4BsEe76Gb54y92ercaiISFNTYUNEREREpDm07g4XPWluf/kI7P3uhBEbahwqItJUVNgQEREREWkuAyfDgGvAcMA7N5pTUwCiVdgQEWkqKmyIiIiIiDSn3z8BUd2g4DAU55j7WmsqiohIU1FhQ0RERESkOfkHwxUvg7e/+Tg4DgLCLA1JRMSTqLAhIiIiItLc4vrChY+Z2+2HWxuLiIiH0XKvIiIiIiLOkDgD2g2DsHZWRyIi4lFU2BARERERcZbYPlZHICLicTQVRURERERERETclgobIiIiIiIiIuK2VNgQEREREREREbelwoaIiIiIiIiIuC0VNkRERERERETEbamwISIiIiIiIiJuS4UNEREREREREXFbKmyIiIiIiIiIiNtSYUNERERERERE3JYKGyIiIiIiIiLitlTYEBERERERERG3pcKGiIiIiIiIiLgtFTZERERERERExG2psCEiIiIiIiIibkuFDRERERERERFxWypsiIiIiIiIiIjbconCxnPPPUfHjh0JCAggKSmJNWvWnPL4pUuX0rNnTwICAujXrx8ff/yxkyIVERERT6acRERExP1YXth48803SUlJYe7cuaxbt44BAwYwfvx4MjMz6z3++++/Z/Lkydxwww38/PPPTJw4kYkTJ7J582YnRy4iIiKeRDmJiIiIe7IZhmFYGUBSUhJDhw7l2WefBcDhcNCuXTtuu+02Zs+eXef4q666iqKiIj788MOafcOHD2fgwIEsXLjwtO+Xn59PWFgYeXl5hIaGNt0HERER8QAt+XfS2TkJtOzrLSIicjpn+jvp48SY6igvL2ft2rXMmTOnZp+Xlxfjxo0jLS2t3tekpaWRkpJSa9/48eNZtmxZvceXlZVRVlZW8zgvLw8wL5CIiIjUVv37aPHfPZzOGTkJKC8RERFpiDPNSywtbGRnZ2O324mNja21PzY2lq1bt9b7mvT09HqPT09Pr/f4efPm8eCDD9bZ365du0ZGLSIi4vkKCgoICwuzOgyncUZOAspLREREGuN0eYmlhQ1nmDNnTq2/pjgcDo4ePUpUVBQ2m61J3iM/P5927dpx4MABDSOtomtSP12XunRN6qfrUpeuSV3NcU0Mw6CgoICEhIQmOZ/UprzEGromdema1E/XpS5dk/rputRlZV5iaWEjOjoab29vMjIyau3PyMggLi6u3tfExcU16Hh/f3/8/f1r7QsPD2980KcQGhqqf9S/oWtSP12XunRN6qfrUpeuSV1NfU1a0kiNas7ISUB5idV0TerSNamfrktduib103Wpy4q8xNJVUfz8/BgyZAipqak1+xwOB6mpqSQnJ9f7muTk5FrHA6xcufKkx4uIiIicjnISERER92X5VJSUlBSmTZtGYmIiw4YNY/78+RQVFTFjxgwApk6dSps2bZg3bx4As2bN4txzz+XJJ5/koosuYsmSJfz0008sWrTIyo8hIiIibk45iYiIiHuyvLBx1VVXkZWVxf333096ejoDBw5kxYoVNc249u/fj5fX8YElI0aMYPHixdx7773cfffddOvWjWXLltG3b1+rPgL+/v7MnTu3ztDSlkzXpH66LnXpmtRP16UuXZO6dE2alifkJKB/F/XRNalL16R+ui516ZrUT9elLiuvic1oaeu5iYiIiIiIiIjHsLTHhoiIiIiIiIjI2VBhQ0RERERERETclgobIiIiIiIiIuK2VNgQEREREREREbelwkYTeO655+jYsSMBAQEkJSWxZs0aq0OyzLx58xg6dCghISHExMQwceJEtm3bZnVYLuXRRx/FZrNx++23Wx2K5Q4dOsS1115LVFQUgYGB9OvXj59++snqsCxjt9u577776NSpE4GBgXTp0oWHHnqIltbj+euvv+biiy8mISEBm83GsmXLaj1vGAb3338/8fHxBAYGMm7cOHbs2GFNsE5yqmtSUVHBXXfdRb9+/QgKCiIhIYGpU6dy+PBh6wIWyygnqU15yekpLzEpJ6lLeYlykpNxxbxEhY2z9Oabb5KSksLcuXNZt24dAwYMYPz48WRmZlodmiW++uorZs6cyerVq1m5ciUVFRVccMEFFBUVWR2aS/jxxx95/vnn6d+/v9WhWO7YsWOMHDkSX19fPvnkE3799VeefPJJIiIirA7NMo899hgLFizg2WefZcuWLTz22GM8/vjjPPPMM1aH5lRFRUUMGDCA5557rt7nH3/8cZ5++mkWLlzIDz/8QFBQEOPHj6e0tNTJkTrPqa5JcXEx69at47777mPdunW8++67bNu2jUsuucSCSMVKyknqUl5yaspLTMpJ6qe8RDnJybhkXmLIWRk2bJgxc+bMmsd2u91ISEgw5s2bZ2FUriMzM9MAjK+++srqUCxXUFBgdOvWzVi5cqVx7rnnGrNmzbI6JEvdddddxjnnnGN1GC7loosuMq6//vpa+y677DJjypQpFkVkPcB47733ah47HA4jLi7OeOKJJ2r25ebmGv7+/sYbb7xhQYTO99trUp81a9YYgLFv3z7nBCUuQTnJ6SkvOU55yXHKSeqnvKQ25ST1c5W8RCM2zkJ5eTlr165l3LhxNfu8vLwYN24caWlpFkbmOvLy8gCIjIy0OBLrzZw5k4suuqjWv5eWbPny5SQmJnLFFVcQExPDoEGDeOGFF6wOy1IjRowgNTWV7du3A7Bhwwa+/fZbLrzwQosjcx179uwhPT291v+PwsLCSEpK0vfuCfLy8rDZbISHh1sdijiJcpIzo7zkOOUlxyknqZ/yklNTTnLmnJGX+DTbmVuA7Oxs7HY7sbGxtfbHxsaydetWi6JyHQ6Hg9tvv52RI0fSt29fq8Ox1JIlS1i3bh0//vij1aG4jN27d7NgwQJSUlK4++67+fHHH/nLX/6Cn58f06ZNszo8S8yePZv8/Hx69uyJt7c3drudhx9+mClTplgdmstIT08HqPd7t/q5lq60tJS77rqLyZMnExoaanU44iTKSU5PeclxyktqU05SP+Ulp6ac5Mw4Ky9RYUOazcyZM9m8eTPffvut1aFY6sCBA8yaNYuVK1cSEBBgdTguw+FwkJiYyCOPPALAoEGD2Lx5MwsXLmyxScRbb73F66+/zuLFi+nTpw/r16/n9ttvJyEhocVeE2mYiooKrrzySgzDYMGCBVaHI+JSlJeYlJfUpZykfspL5Gw5My/RVJSzEB0djbe3NxkZGbX2Z2RkEBcXZ1FUruHWW2/lww8/ZNWqVbRt29bqcCy1du1aMjMzGTx4MD4+Pvj4+PDVV1/x9NNP4+Pjg91utzpES8THx9O7d+9a+3r16sX+/fstish6f/vb35g9ezZXX301/fr147rrruOOO+5g3rx5VofmMqq/W/W9W1d18rBv3z5Wrlyp0RotjHKSU1NecpzykrqUk9RPecmpKSc5NWfnJSpsnAU/Pz+GDBlCampqzT6Hw0FqairJyckWRmYdwzC49dZbee+99/jiiy/o1KmT1SFZbuzYsWzatIn169fX3BITE5kyZQrr16/H29vb6hAtMXLkyDpL7m3fvp0OHTpYFJH1iouL8fKq/bXs7e2Nw+GwKCLX06lTJ+Li4mp97+bn5/PDDz+02O9dOJ487Nixg88//5yoqCirQxInU05SP+UldSkvqUs5Sf2Ul5yacpKTsyIv0VSUs5SSksK0adNITExk2LBhzJ8/n6KiImbMmGF1aJaYOXMmixcv5v333yckJKRmfllYWBiBgYEWR2eNkJCQOnN5g4KCiIqKatFzfO+44w5GjBjBI488wpVXXsmaNWtYtGgRixYtsjo0y1x88cU8/PDDtG/fnj59+vDzzz/z1FNPcf3111sdmlMVFhayc+fOmsd79uxh/fr1REZG0r59e26//Xb+8Y9/0K1bNzp16sR9991HQkICEydOtC7oZnaqaxIfH8+kSZNYt24dH374IXa7vea7NzIyEj8/P6vCFidTTlKX8pK6lJfUpZykfspLlJOcjEvmJc223koL8swzzxjt27c3/Pz8jGHDhhmrV6+2OiTLAPXeXnrpJatDcyktfVm1ah988IHRt29fw9/f3+jZs6exaNEiq0OyVH5+vjFr1iyjffv2RkBAgNG5c2fjnnvuMcrKyqwOzalWrVpV7/fItGnTDMMwl1e77777jNjYWMPf398YO3assW3bNmuDbmanuiZ79uw56XfvqlWrrA5dnEw5SW3KS86M8hLlJPVRXqKc5GRcMS+xGYZhNE/JRERERERERESkeanHhoiIiIiIiIi4LRU2RERERERERMRtqbAhIiIiIiIiIm5LhQ0RERERERERcVsqbIiIiIiIiIiI21JhQ0RERERERETclgobIiIiIiIiIuK2VNgQEREREREREbelwoaIuCWbzcayZcusDkNEREREeYmIxVTYEJEGmz59Ojabrc5twoQJVocmIiIiLYzyEhHxsToAEXFPEyZM4KWXXqq1z9/f36JoREREpCVTXiLSsmnEhog0ir+/P3FxcbVuERERgDkcc8GCBVx44YUEBgbSuXNn3n777Vqv37RpE+effz6BgYFERUVx8803U1hYWOuYF198kT59+uDv7098fDy33nprreezs7O59NJLadWqFd26dWP58uXN+6FFRETEJSkvEWnZVNgQkWZx3333cfnll7NhwwamTJnC1VdfzZYtWwAoKipi/PjxRERE8OOPP7J06VI+//zzWgnCggULmDlzJjfffDObNm1i+fLldO3atdZ7PPjgg1x55ZVs3LiR3//+90yZMoWjR4869XOKiIiI61NeIuLhDBGRBpo2bZrh7e1tBAUF1bo9/PDDhmEYBmDccssttV6TlJRk/OlPfzIMwzAWLVpkREREGIWFhTXPf/TRR4aXl5eRnp5uGIZhJCQkGPfcc89JYwCMe++9t+ZxYWGhARiffPJJk31OERERcX3KS0REPTZEpFHGjBnDggULau2LjIys2U5OTq71XHJyMuvXrwdgy5YtDBgwgKCgoJrnR44cicPhYNu2bdhsNg4fPszYsWNPGUP//v1rtoOCgggNDSUzM7OxH0lERETclPISkZZNhQ0RaZSgoKA6QzCbSmBg4Bkd5+vrW+uxzWbD4XA0R0giIiLiwpSXiLRs6rEhIs1i9erVdR736tULgF69erFhwwaKiopqnv/uu+/w8vKiR48ehISE0LFjR1JTU50as4iIiHgm5SUink0jNkSkUcrKykhPT6+1z8fHh+joaACWLl1KYmIi55xzDq+//jpr1qzhP//5DwBTpkxh7ty5TJs2jQceeICsrCxuu+02rrvuOmJjYwF44IEHuOWWW4iJieHCCy+koKCA7777jttuu825H1RERERcnvISkZZNhQ0RaZQVK1YQHx9fa1+PHj3YunUrYHYGX7JkCX/+85+Jj4/njTfeoHfv3gC0atWKTz/9lFmzZjF06FBatWrF5ZdfzlNPPVVzrmnTplFaWsq//vUv/vrXvxIdHc2kSZOc9wFFRETEbSgvEWnZbIZhGFYHISKexWaz8d577zFx4kSrQxEREZEWTnmJiOdTjw0RERERERERcVsqbIiIiIiIiIiI29JUFBERERERERFxWxqxISIiIiIiIiJuS4UNEREREREREXFbKmyIiIiIiIiIiNtSYUNERERERERE3JYKGyIiIiIiIiLitlTYEBERERERERG3pcKGiIiIiIiIiLgtFTZERERERERExG39f6qsBRUIlzTXAAAAAElFTkSuQmCC",
=======
            "image/png": "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",
>>>>>>> Stashed changes
            "text/plain": [
              "<Figure size 1300x500 with 2 Axes>"
            ]
          },
          "metadata": {},
          "output_type": "display_data"
        }
      ],
      "source": [
        "# Metricas para evaluar el modelo\n",
        "\n",
        "def plot_loss_accuracy(history, title=None):\n",
        "    fig, ax = plt.subplots(1,2, figsize=(13,5))\n",
        "    ax[0].plot(history.history['loss'])\n",
        "    ax[0].plot(history.history['val_loss'])\n",
        "    ax[0].set_title('Model loss')\n",
        "    ax[0].set_ylabel('Loss')\n",
        "    ax[0].set_xlabel('Epoch')\n",
        "    ax[0].set_ylim((0,3))\n",
        "    ax[0].legend(['Train', 'Test'], loc='best')\n",
        "    \n",
        "    ax[1].plot(history.history['accuracy'])\n",
        "    ax[1].plot(history.history['val_accuracy'])\n",
        "    ax[1].set_title('Model Accuracy')\n",
        "    ax[1].set_ylabel('Accuracy')\n",
        "    ax[1].set_xlabel('Epoch')\n",
        "    ax[1].legend(['Train', 'Test'], loc='best')\n",
        "    ax[1].set_ylim((0,1))\n",
        "    if title:\n",
        "        fig.suptitle(title)\n",
        "\n",
        "plot_loss_accuracy(history)"
      ]
    },
    {
      "cell_type": "markdown",
      "metadata": {
        "id": "nc8-V-M5PUL9"
      },
      "source": [
        "# Load the model and data to be predicted"
      ]
    },
    {
      "cell_type": "code",
<<<<<<< Updated upstream
      "execution_count": null,
=======
      "execution_count": 225,
>>>>>>> Stashed changes
      "metadata": {
        "id": "cUnm1gOHPS9I"
      },
      "outputs": [],
      "source": [
        "# definir la arquitectura con las que vamos a trabajar\n",
        "model = Sequential()\n",
        "model.add(Dense(512, activation='relu', input_shape=(25088,)))\n",
        "model.add(Dropout(0.3))  # Reducir el dropout para evitar perder demasiadas características\n",
        "model.add(Dense(256, activation='relu'))\n",
        "model.add(Dropout(0.3))\n",
        "model.add(Dense(3, activation='softmax'))\n"
      ]
    },
    {
      "cell_type": "code",
<<<<<<< Updated upstream
      "execution_count": null,
=======
      "execution_count": 214,
>>>>>>> Stashed changes
      "metadata": {
        "id": "RNPZg3aBaV4B"
      },
      "outputs": [],
      "source": [
<<<<<<< Updated upstream
        "model.load_weights(\"./weight.hdf5\")"
=======
        "# model.load_weights(\"./weight.hdf5\")"
>>>>>>> Stashed changes
      ]
    },
    {
      "cell_type": "code",
<<<<<<< Updated upstream
      "execution_count": null,
=======
      "execution_count": 226,
>>>>>>> Stashed changes
      "metadata": {
        "id": "6IHvBGNGo4YA"
      },
      "outputs": [],
      "source": [
        "model.compile(loss='categorical_crossentropy',optimizer='Adam',metrics=['accuracy'])"
      ]
    },
    {
      "cell_type": "code",
<<<<<<< Updated upstream
      "execution_count": null,
=======
      "execution_count": 227,
>>>>>>> Stashed changes
      "metadata": {
        "id": "dzsJOmSNJnGB"
      },
      "outputs": [],
      "source": [
        "import pickle\n",
        "\n",
        "with open('./X_predict.pkl','rb') as f:\n",
        "    X_predict = pickle.load(f)"
      ]
    },
    {
      "cell_type": "code",
<<<<<<< Updated upstream
      "execution_count": null,
=======
      "execution_count": 228,
>>>>>>> Stashed changes
      "metadata": {
        "colab": {
          "base_uri": "https://localhost:8080/"
        },
        "id": "aEVr1jBMKNr8",
        "outputId": "a372e056-c3e6-47ea-83bc-8a453a9bdff6"
      },
      "outputs": [
        {
          "data": {
            "text/plain": [
              "(960, 224, 224, 3)"
            ]
          },
<<<<<<< Updated upstream
          "execution_count": 30,
=======
          "execution_count": 228,
>>>>>>> Stashed changes
          "metadata": {},
          "output_type": "execute_result"
        }
      ],
      "source": [
        "X_predict.shape"
      ]
    },
    {
      "cell_type": "code",
<<<<<<< Updated upstream
      "execution_count": null,
=======
      "execution_count": 229,
>>>>>>> Stashed changes
      "metadata": {
        "colab": {
          "base_uri": "https://localhost:8080/",
          "height": 414
        },
        "id": "1NNceTdUKf1z",
        "outputId": "2a8874c1-bb11-4cab-9718-1bfee1312b8d"
      },
      "outputs": [
        {
          "name": "stdout",
          "output_type": "stream",
          "text": [
<<<<<<< Updated upstream
            "30/30 [==============================] - 50s 2s/step\n"
=======
            "30/30 [==============================] - 51s 2s/step\n"
>>>>>>> Stashed changes
          ]
        },
        {
          "data": {
            "text/plain": [
              "(960, 7, 7, 512)"
            ]
          },
<<<<<<< Updated upstream
          "execution_count": 31,
=======
          "execution_count": 229,
>>>>>>> Stashed changes
          "metadata": {},
          "output_type": "execute_result"
        }
      ],
      "source": [
        "# extracting features for validation frames\n",
        "X_predict = base_model.predict(X_predict)\n",
        "X_predict.shape"
      ]
    },
    {
      "cell_type": "code",
<<<<<<< Updated upstream
      "execution_count": null,
=======
      "execution_count": 230,
>>>>>>> Stashed changes
      "metadata": {
        "id": "2SZV7IOBKn4h"
      },
      "outputs": [],
      "source": [
        "X_predict = X_predict.reshape(960, 7*7*512)"
      ]
    },
    {
      "cell_type": "code",
<<<<<<< Updated upstream
      "execution_count": null,
=======
      "execution_count": 231,
>>>>>>> Stashed changes
      "metadata": {
        "id": "ZMIW5dJfKxUq"
      },
      "outputs": [],
      "source": [
        "max = X_predict.max()\n",
        "X_predict = X_predict/max"
      ]
    },
    {
      "cell_type": "code",
<<<<<<< Updated upstream
      "execution_count": null,
=======
      "execution_count": 232,
>>>>>>> Stashed changes
      "metadata": {
        "colab": {
          "base_uri": "https://localhost:8080/"
        },
        "id": "QpyWrVLKpMu6",
        "outputId": "1af2339f-5b81-4ff8-ff61-e71970b8a76a"
      },
      "outputs": [
        {
          "name": "stdout",
          "output_type": "stream",
          "text": [
<<<<<<< Updated upstream
=======
            "15/30 [==============>...............] - ETA: 0s"
          ]
        },
        {
          "name": "stdout",
          "output_type": "stream",
          "text": [
>>>>>>> Stashed changes
            "30/30 [==============================] - 0s 8ms/step\n"
          ]
        }
      ],
      "source": [
        "prediction = model.predict(X_predict)"
      ]
    },
    {
      "cell_type": "code",
<<<<<<< Updated upstream
      "execution_count": null,
=======
      "execution_count": 233,
>>>>>>> Stashed changes
      "metadata": {
        "colab": {
          "base_uri": "https://localhost:8080/",
          "height": 424
        },
        "id": "DFRiyWhPLEMN",
        "outputId": "7b0f16d7-ed16-4cd3-b76b-5e78e767a708"
      },
      "outputs": [
        {
          "data": {
            "text/html": [
              "<div>\n",
              "<style scoped>\n",
              "    .dataframe tbody tr th:only-of-type {\n",
              "        vertical-align: middle;\n",
              "    }\n",
              "\n",
              "    .dataframe tbody tr th {\n",
              "        vertical-align: top;\n",
              "    }\n",
              "\n",
              "    .dataframe thead th {\n",
              "        text-align: right;\n",
              "    }\n",
              "</style>\n",
              "<table border=\"1\" class=\"dataframe\">\n",
              "  <thead>\n",
              "    <tr style=\"text-align: right;\">\n",
              "      <th></th>\n",
              "      <th>0</th>\n",
              "      <th>1</th>\n",
              "      <th>2</th>\n",
              "    </tr>\n",
              "  </thead>\n",
              "  <tbody>\n",
              "    <tr>\n",
              "      <th>0</th>\n",
<<<<<<< Updated upstream
              "      <td>0.691017</td>\n",
              "      <td>0.296816</td>\n",
              "      <td>0.012167</td>\n",
              "    </tr>\n",
              "    <tr>\n",
              "      <th>1</th>\n",
              "      <td>0.561684</td>\n",
              "      <td>0.427358</td>\n",
              "      <td>0.010958</td>\n",
              "    </tr>\n",
              "    <tr>\n",
              "      <th>2</th>\n",
              "      <td>0.269912</td>\n",
              "      <td>0.644980</td>\n",
              "      <td>0.085108</td>\n",
              "    </tr>\n",
              "    <tr>\n",
              "      <th>3</th>\n",
              "      <td>0.179288</td>\n",
              "      <td>0.801774</td>\n",
              "      <td>0.018937</td>\n",
              "    </tr>\n",
              "    <tr>\n",
              "      <th>4</th>\n",
              "      <td>0.228696</td>\n",
              "      <td>0.745158</td>\n",
              "      <td>0.026147</td>\n",
=======
              "      <td>0.351932</td>\n",
              "      <td>0.342908</td>\n",
              "      <td>0.305159</td>\n",
              "    </tr>\n",
              "    <tr>\n",
              "      <th>1</th>\n",
              "      <td>0.352053</td>\n",
              "      <td>0.345446</td>\n",
              "      <td>0.302501</td>\n",
              "    </tr>\n",
              "    <tr>\n",
              "      <th>2</th>\n",
              "      <td>0.351798</td>\n",
              "      <td>0.335572</td>\n",
              "      <td>0.312630</td>\n",
              "    </tr>\n",
              "    <tr>\n",
              "      <th>3</th>\n",
              "      <td>0.356015</td>\n",
              "      <td>0.328789</td>\n",
              "      <td>0.315197</td>\n",
              "    </tr>\n",
              "    <tr>\n",
              "      <th>4</th>\n",
              "      <td>0.355603</td>\n",
              "      <td>0.327875</td>\n",
              "      <td>0.316523</td>\n",
>>>>>>> Stashed changes
              "    </tr>\n",
              "    <tr>\n",
              "      <th>...</th>\n",
              "      <td>...</td>\n",
              "      <td>...</td>\n",
              "      <td>...</td>\n",
              "    </tr>\n",
              "    <tr>\n",
              "      <th>955</th>\n",
<<<<<<< Updated upstream
              "      <td>0.736970</td>\n",
              "      <td>0.257754</td>\n",
              "      <td>0.005276</td>\n",
              "    </tr>\n",
              "    <tr>\n",
              "      <th>956</th>\n",
              "      <td>0.751981</td>\n",
              "      <td>0.245408</td>\n",
              "      <td>0.002611</td>\n",
              "    </tr>\n",
              "    <tr>\n",
              "      <th>957</th>\n",
              "      <td>0.768846</td>\n",
              "      <td>0.228509</td>\n",
              "      <td>0.002646</td>\n",
              "    </tr>\n",
              "    <tr>\n",
              "      <th>958</th>\n",
              "      <td>0.744805</td>\n",
              "      <td>0.253474</td>\n",
              "      <td>0.001721</td>\n",
              "    </tr>\n",
              "    <tr>\n",
              "      <th>959</th>\n",
              "      <td>0.704144</td>\n",
              "      <td>0.294218</td>\n",
              "      <td>0.001639</td>\n",
=======
              "      <td>0.353775</td>\n",
              "      <td>0.326723</td>\n",
              "      <td>0.319503</td>\n",
              "    </tr>\n",
              "    <tr>\n",
              "      <th>956</th>\n",
              "      <td>0.352053</td>\n",
              "      <td>0.328446</td>\n",
              "      <td>0.319501</td>\n",
              "    </tr>\n",
              "    <tr>\n",
              "      <th>957</th>\n",
              "      <td>0.352063</td>\n",
              "      <td>0.329455</td>\n",
              "      <td>0.318482</td>\n",
              "    </tr>\n",
              "    <tr>\n",
              "      <th>958</th>\n",
              "      <td>0.353439</td>\n",
              "      <td>0.329038</td>\n",
              "      <td>0.317523</td>\n",
              "    </tr>\n",
              "    <tr>\n",
              "      <th>959</th>\n",
              "      <td>0.354106</td>\n",
              "      <td>0.329530</td>\n",
              "      <td>0.316363</td>\n",
>>>>>>> Stashed changes
              "    </tr>\n",
              "  </tbody>\n",
              "</table>\n",
              "<p>960 rows × 3 columns</p>\n",
              "</div>"
            ],
            "text/plain": [
              "            0         1         2\n",
<<<<<<< Updated upstream
              "0    0.691017  0.296816  0.012167\n",
              "1    0.561684  0.427358  0.010958\n",
              "2    0.269912  0.644980  0.085108\n",
              "3    0.179288  0.801774  0.018937\n",
              "4    0.228696  0.745158  0.026147\n",
              "..        ...       ...       ...\n",
              "955  0.736970  0.257754  0.005276\n",
              "956  0.751981  0.245408  0.002611\n",
              "957  0.768846  0.228509  0.002646\n",
              "958  0.744805  0.253474  0.001721\n",
              "959  0.704144  0.294218  0.001639\n",
=======
              "0    0.351932  0.342908  0.305159\n",
              "1    0.352053  0.345446  0.302501\n",
              "2    0.351798  0.335572  0.312630\n",
              "3    0.356015  0.328789  0.315197\n",
              "4    0.355603  0.327875  0.316523\n",
              "..        ...       ...       ...\n",
              "955  0.353775  0.326723  0.319503\n",
              "956  0.352053  0.328446  0.319501\n",
              "957  0.352063  0.329455  0.318482\n",
              "958  0.353439  0.329038  0.317523\n",
              "959  0.354106  0.329530  0.316363\n",
>>>>>>> Stashed changes
              "\n",
              "[960 rows x 3 columns]"
            ]
          },
<<<<<<< Updated upstream
          "execution_count": 35,
=======
          "execution_count": 233,
>>>>>>> Stashed changes
          "metadata": {},
          "output_type": "execute_result"
        }
      ],
      "source": [
        "pd.DataFrame(prediction)"
      ]
    },
    {
      "cell_type": "code",
<<<<<<< Updated upstream
      "execution_count": null,
=======
      "execution_count": 234,
>>>>>>> Stashed changes
      "metadata": {
        "colab": {
          "base_uri": "https://localhost:8080/"
        },
        "id": "1uTjyD8Z0_co",
        "outputId": "d1272af1-c117-4a2d-9d40-c859ac5c8cd8"
      },
      "outputs": [
        {
          "data": {
            "text/plain": [
<<<<<<< Updated upstream
              "array([0, 0, 1, 1, 1, 1, 1, 1, 1, 1, 1, 1, 1, 1, 0, 0, 0, 0, 0, 0, 0, 1,\n",
              "       1, 1, 1, 1, 1, 1, 1, 1, 0, 0, 0, 0, 0, 0, 0, 0, 0, 0, 0, 0, 1, 0,\n",
              "       0, 0, 0, 0, 0, 0, 0, 0, 0, 0, 0, 0, 0, 0, 0, 0, 0, 0, 1, 1, 1, 1,\n",
              "       1, 1, 1, 1, 1, 1, 1, 1, 0, 0, 0, 0, 0, 0, 0, 1, 1, 1, 1, 1, 1, 1,\n",
              "       1, 1, 0, 0, 0, 0, 0, 0, 0, 0, 0, 0, 0, 0, 1, 0, 0, 0, 0, 0, 0, 0,\n",
              "       0, 0, 0, 0, 0, 0, 0, 0, 0, 0, 0, 1, 1, 1, 1, 1, 1, 0, 0, 0, 0, 1,\n",
              "       0, 1, 1, 0, 0, 0, 1, 0, 1, 0, 0, 0, 0, 0, 1, 1, 1, 1, 1, 1, 0, 0,\n",
              "       0, 0, 0, 0, 0, 0, 0, 1, 1, 1, 1, 1, 1, 1, 1, 1, 0, 1, 0, 1, 1, 0,\n",
              "       0, 1, 1, 1, 0, 0, 0, 0, 0, 0, 0, 1, 1, 1, 0, 0, 0, 0, 0, 1, 1, 1,\n",
              "       0, 0, 0, 0, 0, 0, 0, 0, 0, 0, 0, 0, 1, 1, 1, 1, 1, 1, 1, 1, 1, 1,\n",
              "       1, 0, 1, 1, 1, 0, 1, 0, 0, 0, 0, 1, 1, 1, 1, 1, 1, 1, 1, 1, 1, 0,\n",
              "       1, 1, 1, 1, 1, 0, 0, 0, 0, 0, 0, 0, 0, 0, 0, 0, 0, 1, 1, 1, 1, 0,\n",
              "       0, 0, 1, 0, 1, 1, 1, 1, 1, 1, 1, 1, 1, 1, 0, 0, 0, 0, 1, 0, 0, 0,\n",
              "       1, 1, 1, 1, 1, 1, 1, 1, 1, 1, 1, 1, 1, 1, 0, 0, 0, 0, 0, 0, 0, 1,\n",
              "       1, 1, 0, 0, 0, 0, 0, 1, 1, 1, 0, 0, 0, 0, 0, 0, 0, 0, 0, 0, 0, 0,\n",
              "       1, 1, 1, 1, 1, 1, 1, 1, 1, 1, 1, 0, 1, 1, 1, 0, 1, 0, 0, 0, 0, 1,\n",
              "       1, 1, 1, 1, 1, 1, 1, 1, 1, 1, 1, 1, 0, 0, 0, 0, 0, 0, 0, 0, 1, 0,\n",
              "       0, 0, 2, 0, 1, 1, 0, 0, 0, 2, 1, 1, 1, 1, 1, 1, 1, 1, 1, 1, 1, 1,\n",
              "       1, 1, 1, 1, 1, 1, 1, 1, 1, 1, 1, 1, 1, 1, 1, 1, 1, 1, 1, 1, 1, 1,\n",
              "       1, 1, 1, 1, 1, 1, 0, 0, 0, 0, 0, 0, 0, 0, 1, 0, 0, 0, 2, 0, 1, 1,\n",
              "       0, 0, 0, 2, 1, 1, 1, 1, 1, 1, 1, 1, 1, 1, 1, 1, 1, 1, 1, 1, 1, 1,\n",
              "       1, 1, 1, 1, 1, 1, 1, 1, 1, 1, 1, 1, 1, 1, 1, 1, 1, 1, 1, 1, 1, 1,\n",
              "       1, 1, 1, 1, 1, 1, 1, 1, 1, 1, 1, 1, 1, 0, 0, 0, 0, 0, 0, 1, 1, 1,\n",
              "       1, 1, 1, 1, 0, 0, 0, 1, 1, 1, 1, 1, 1, 1, 0, 0, 0, 0, 0, 0, 1, 1,\n",
              "       0, 0, 1, 0, 0, 0, 0, 0, 0, 0, 0, 0, 1, 0, 0, 0, 0, 0, 0, 0, 0, 0,\n",
              "       0, 1, 1, 0, 0, 1, 1, 0, 0, 0, 0, 0, 0, 1, 1, 1, 1, 1, 1, 1, 0, 0,\n",
              "       0, 0, 0, 0, 0, 0, 0, 0, 0, 0, 0, 0, 1, 1, 1, 1, 1, 1, 1, 1, 1, 0,\n",
              "       0, 0, 0, 0, 0, 0, 1, 1, 1, 1, 1, 1, 1, 1, 1, 1, 1, 1, 1, 1, 1, 1,\n",
              "       1, 0, 0, 0, 0, 0, 0, 1, 1, 1, 1, 1, 1, 1, 0, 0, 0, 1, 1, 1, 1, 1,\n",
              "       1, 1, 0, 0, 0, 0, 0, 0, 1, 1, 0, 0, 1, 0, 0, 0, 0, 0, 0, 0, 0, 0,\n",
              "       0, 1, 1, 1, 1, 1, 1, 0, 0, 0, 0, 1, 0, 1, 1, 0, 0, 0, 1, 0, 1, 0,\n",
              "       0, 0, 0, 0, 1, 1, 1, 1, 1, 1, 0, 0, 0, 0, 0, 0, 0, 0, 0, 1, 1, 1,\n",
              "       1, 1, 1, 1, 1, 1, 0, 1, 0, 1, 1, 0, 0, 1, 1, 1, 1, 0, 1, 1, 1, 1,\n",
              "       1, 0, 0, 0, 0, 0, 0, 0, 0, 0, 0, 0, 0, 1, 1, 1, 1, 0, 0, 0, 1, 0,\n",
              "       1, 1, 1, 1, 1, 1, 1, 1, 1, 1, 0, 0, 0, 0, 1, 0, 0, 0, 1, 1, 1, 1,\n",
              "       1, 1, 1, 1, 1, 1, 1, 1, 1, 1, 0, 0, 1, 2, 0, 1, 1, 2, 2, 2, 0, 0,\n",
              "       0, 0, 0, 0, 0, 0, 0, 1, 1, 1, 1, 0, 0, 2, 0, 0, 1, 1, 0, 0, 1, 1,\n",
              "       1, 1, 1, 1, 1, 1, 1, 1, 0, 1, 1, 1, 1, 1, 1, 1, 0, 0, 0, 0, 0, 0,\n",
              "       0, 1, 0, 0, 0, 0, 1, 2, 0, 1, 1, 2, 2, 2, 0, 0, 0, 0, 0, 0, 0, 0,\n",
              "       0, 1, 1, 1, 1, 0, 0, 2, 0, 0, 1, 1, 0, 0, 1, 1, 1, 1, 1, 1, 1, 1,\n",
              "       1, 1, 0, 1, 1, 1, 1, 1, 1, 1, 0, 0, 0, 0, 0, 0, 0, 1, 0, 0, 1, 0,\n",
              "       0, 0, 0, 0, 0, 0, 0, 0, 0, 1, 1, 0, 0, 1, 1, 0, 0, 0, 0, 0, 0, 1,\n",
              "       1, 1, 1, 1, 1, 1, 0, 0, 0, 0, 0, 0, 0, 0, 0, 0, 0, 0, 0, 0, 1, 1,\n",
              "       1, 1, 1, 1, 1, 1, 1, 0, 0, 0, 0, 0, 0, 0], dtype=int64)"
            ]
          },
          "execution_count": 36,
=======
              "array([0, 0, 0, 0, 0, 0, 0, 0, 0, 0, 0, 0, 0, 0, 1, 0, 0, 1, 1, 0, 0, 0,\n",
              "       0, 0, 0, 0, 0, 0, 0, 0, 0, 0, 0, 0, 0, 0, 0, 0, 0, 0, 0, 0, 0, 0,\n",
              "       0, 0, 0, 0, 0, 0, 0, 0, 0, 0, 0, 0, 0, 0, 0, 0, 0, 0, 0, 0, 0, 0,\n",
              "       0, 0, 0, 0, 0, 0, 0, 0, 1, 0, 0, 1, 1, 0, 0, 0, 0, 0, 0, 0, 0, 0,\n",
              "       0, 0, 0, 0, 0, 0, 0, 0, 0, 0, 0, 0, 0, 0, 0, 0, 0, 0, 0, 0, 0, 0,\n",
              "       0, 0, 0, 0, 0, 0, 0, 0, 0, 0, 0, 0, 0, 0, 0, 0, 0, 0, 0, 0, 0, 0,\n",
              "       0, 0, 0, 0, 0, 0, 0, 0, 0, 0, 0, 0, 0, 0, 0, 0, 0, 0, 0, 0, 0, 0,\n",
              "       0, 0, 0, 0, 0, 0, 0, 0, 0, 0, 0, 0, 0, 0, 0, 0, 0, 0, 0, 0, 0, 0,\n",
              "       0, 0, 0, 0, 0, 0, 0, 0, 0, 0, 0, 0, 0, 0, 0, 0, 0, 0, 0, 0, 0, 0,\n",
              "       0, 0, 0, 0, 0, 0, 0, 0, 0, 0, 0, 0, 0, 0, 0, 0, 0, 0, 0, 0, 0, 0,\n",
              "       0, 0, 0, 0, 0, 0, 0, 0, 0, 0, 0, 0, 0, 0, 0, 0, 0, 0, 0, 0, 0, 0,\n",
              "       0, 0, 0, 0, 0, 0, 0, 0, 0, 0, 0, 0, 0, 0, 0, 0, 0, 0, 0, 0, 0, 0,\n",
              "       0, 0, 0, 0, 0, 0, 0, 0, 0, 0, 0, 0, 0, 0, 0, 0, 0, 0, 0, 0, 0, 0,\n",
              "       0, 0, 0, 0, 0, 0, 0, 0, 0, 0, 0, 0, 0, 0, 0, 0, 0, 0, 0, 0, 0, 0,\n",
              "       0, 0, 0, 0, 0, 0, 0, 0, 0, 0, 0, 0, 0, 0, 0, 0, 0, 0, 0, 0, 0, 0,\n",
              "       0, 0, 0, 0, 0, 0, 0, 0, 0, 0, 0, 0, 0, 0, 0, 0, 0, 0, 0, 0, 0, 0,\n",
              "       0, 0, 0, 0, 0, 0, 0, 0, 0, 0, 0, 0, 0, 0, 0, 0, 0, 0, 0, 0, 0, 0,\n",
              "       0, 0, 0, 0, 0, 0, 0, 0, 0, 0, 0, 0, 0, 0, 0, 0, 0, 0, 0, 0, 0, 0,\n",
              "       0, 0, 0, 0, 0, 0, 1, 0, 0, 0, 0, 0, 0, 0, 0, 0, 0, 0, 0, 0, 0, 0,\n",
              "       0, 0, 0, 0, 0, 0, 0, 0, 0, 0, 0, 0, 0, 0, 0, 0, 0, 0, 0, 0, 0, 0,\n",
              "       0, 0, 0, 0, 0, 0, 0, 0, 0, 0, 0, 0, 0, 0, 0, 0, 0, 0, 0, 0, 0, 0,\n",
              "       1, 0, 0, 0, 0, 0, 0, 0, 0, 0, 0, 0, 0, 0, 0, 0, 0, 0, 0, 0, 0, 0,\n",
              "       0, 0, 0, 0, 0, 0, 0, 0, 0, 0, 0, 0, 0, 0, 0, 0, 0, 0, 0, 0, 0, 0,\n",
              "       0, 0, 0, 0, 0, 0, 0, 0, 0, 0, 0, 0, 1, 1, 0, 0, 0, 0, 0, 0, 0, 0,\n",
              "       0, 0, 0, 0, 0, 0, 0, 0, 0, 0, 0, 0, 0, 0, 0, 0, 0, 0, 0, 0, 0, 0,\n",
              "       0, 0, 0, 0, 0, 0, 0, 0, 0, 0, 0, 0, 0, 0, 0, 0, 0, 0, 0, 0, 0, 0,\n",
              "       0, 0, 0, 0, 0, 0, 0, 0, 0, 0, 0, 0, 0, 0, 0, 0, 0, 0, 0, 0, 0, 0,\n",
              "       0, 0, 0, 0, 0, 0, 0, 0, 0, 0, 0, 0, 0, 0, 0, 0, 0, 0, 0, 0, 0, 0,\n",
              "       0, 0, 0, 0, 0, 0, 0, 0, 0, 0, 0, 0, 0, 0, 0, 0, 0, 0, 0, 0, 0, 0,\n",
              "       1, 1, 0, 0, 0, 0, 0, 0, 0, 0, 0, 0, 0, 0, 0, 0, 0, 0, 0, 0, 0, 0,\n",
              "       0, 0, 0, 0, 0, 0, 0, 0, 0, 0, 0, 0, 0, 0, 0, 0, 0, 0, 0, 0, 0, 0,\n",
              "       0, 0, 0, 0, 0, 0, 0, 0, 0, 0, 0, 0, 0, 0, 0, 0, 0, 0, 0, 0, 0, 0,\n",
              "       0, 0, 0, 0, 0, 0, 0, 0, 0, 0, 0, 0, 0, 0, 0, 0, 0, 0, 0, 0, 0, 0,\n",
              "       0, 0, 0, 0, 0, 0, 0, 0, 0, 0, 0, 0, 0, 0, 0, 0, 0, 0, 0, 0, 0, 0,\n",
              "       0, 0, 0, 0, 0, 0, 0, 0, 0, 0, 0, 0, 0, 0, 0, 0, 0, 0, 0, 0, 0, 0,\n",
              "       0, 0, 0, 0, 0, 0, 0, 0, 0, 0, 0, 0, 0, 0, 2, 2, 0, 0, 0, 0, 0, 0,\n",
              "       0, 0, 0, 0, 0, 0, 0, 0, 0, 0, 0, 0, 0, 0, 0, 0, 0, 0, 0, 0, 0, 0,\n",
              "       0, 0, 0, 0, 0, 0, 0, 0, 0, 0, 0, 0, 0, 0, 0, 0, 0, 0, 0, 0, 0, 0,\n",
              "       0, 0, 0, 0, 0, 0, 0, 0, 2, 2, 0, 0, 0, 0, 0, 0, 0, 0, 0, 0, 0, 0,\n",
              "       0, 0, 0, 0, 0, 0, 0, 0, 0, 0, 0, 0, 0, 0, 0, 0, 0, 0, 0, 0, 0, 0,\n",
              "       0, 0, 0, 0, 0, 0, 0, 0, 0, 0, 0, 0, 0, 0, 0, 0, 0, 0, 0, 0, 0, 0,\n",
              "       0, 0, 0, 0, 0, 0, 0, 0, 0, 0, 0, 0, 0, 0, 0, 0, 0, 0, 0, 0, 0, 0,\n",
              "       0, 0, 0, 0, 0, 0, 0, 0, 0, 0, 0, 0, 0, 0, 0, 0, 0, 0, 0, 0, 0, 0,\n",
              "       0, 0, 0, 0, 0, 0, 0, 0, 0, 0, 0, 0, 0, 0], dtype=int64)"
            ]
          },
          "execution_count": 234,
>>>>>>> Stashed changes
          "metadata": {},
          "output_type": "execute_result"
        }
      ],
      "source": [
        "np.argmax(prediction, axis=1)"
      ]
    },
    {
      "cell_type": "code",
<<<<<<< Updated upstream
      "execution_count": null,
=======
      "execution_count": 224,
>>>>>>> Stashed changes
      "metadata": {
        "colab": {
          "base_uri": "https://localhost:8080/",
          "height": 206
        },
        "id": "xFcfdl7P0IVq",
        "outputId": "ecdf5ed9-1244-4227-b45d-29061356e34e"
      },
      "outputs": [
        {
          "data": {
            "text/html": [
              "<div>\n",
              "<style scoped>\n",
              "    .dataframe tbody tr th:only-of-type {\n",
              "        vertical-align: middle;\n",
              "    }\n",
              "\n",
              "    .dataframe tbody tr th {\n",
              "        vertical-align: top;\n",
              "    }\n",
              "\n",
              "    .dataframe thead th {\n",
              "        text-align: right;\n",
              "    }\n",
              "</style>\n",
              "<table border=\"1\" class=\"dataframe\">\n",
              "  <thead>\n",
              "    <tr style=\"text-align: right;\">\n",
              "      <th></th>\n",
              "      <th>image</th>\n",
              "    </tr>\n",
              "  </thead>\n",
              "  <tbody>\n",
              "    <tr>\n",
              "      <th>0</th>\n",
              "      <td>test_1\\019d5b34_0.mp4_frame0.jpg</td>\n",
              "    </tr>\n",
              "    <tr>\n",
              "      <th>1</th>\n",
              "      <td>test_1\\019d5b34_0.mp4_frame1.jpg</td>\n",
              "    </tr>\n",
              "    <tr>\n",
              "      <th>2</th>\n",
              "      <td>test_1\\019d5b34_0.mp4_frame10.jpg</td>\n",
              "    </tr>\n",
              "    <tr>\n",
              "      <th>3</th>\n",
              "      <td>test_1\\019d5b34_0.mp4_frame11.jpg</td>\n",
              "    </tr>\n",
              "    <tr>\n",
              "      <th>4</th>\n",
              "      <td>test_1\\019d5b34_0.mp4_frame12.jpg</td>\n",
              "    </tr>\n",
              "  </tbody>\n",
              "</table>\n",
              "</div>"
            ],
            "text/plain": [
              "                               image\n",
              "0   test_1\\019d5b34_0.mp4_frame0.jpg\n",
              "1   test_1\\019d5b34_0.mp4_frame1.jpg\n",
              "2  test_1\\019d5b34_0.mp4_frame10.jpg\n",
              "3  test_1\\019d5b34_0.mp4_frame11.jpg\n",
              "4  test_1\\019d5b34_0.mp4_frame12.jpg"
            ]
          },
<<<<<<< Updated upstream
          "execution_count": 37,
=======
          "execution_count": 224,
>>>>>>> Stashed changes
          "metadata": {},
          "output_type": "execute_result"
        }
      ],
      "source": [
        "predict_data = pd.read_csv('./predict_new.csv')\n",
        "predict_data.head()"
      ]
    }
  ],
  "metadata": {
    "accelerator": "GPU",
    "colab": {
      "provenance": []
    },
    "gpuClass": "standard",
    "kernelspec": {
      "display_name": "Python 3",
      "name": "python3"
    },
    "language_info": {
      "codemirror_mode": {
        "name": "ipython",
        "version": 3
      },
      "file_extension": ".py",
      "mimetype": "text/x-python",
      "name": "python",
      "nbconvert_exporter": "python",
      "pygments_lexer": "ipython3",
      "version": "3.10.4"
    }
  },
  "nbformat": 4,
  "nbformat_minor": 0
}
